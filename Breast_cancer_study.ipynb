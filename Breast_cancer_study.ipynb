{
 "cells": [
  {
   "cell_type": "code",
   "execution_count": 2,
   "id": "4c570899",
   "metadata": {
    "ExecuteTime": {
     "end_time": "2023-01-18T19:50:31.959350Z",
     "start_time": "2023-01-18T19:50:30.079331Z"
    },
    "collapsed": true
   },
   "outputs": [
    {
     "data": {
      "text/html": [
       "<div>\n",
       "<style scoped>\n",
       "    .dataframe tbody tr th:only-of-type {\n",
       "        vertical-align: middle;\n",
       "    }\n",
       "\n",
       "    .dataframe tbody tr th {\n",
       "        vertical-align: top;\n",
       "    }\n",
       "\n",
       "    .dataframe thead th {\n",
       "        text-align: right;\n",
       "    }\n",
       "</style>\n",
       "<table border=\"1\" class=\"dataframe\">\n",
       "  <thead>\n",
       "    <tr style=\"text-align: right;\">\n",
       "      <th></th>\n",
       "      <th>Age</th>\n",
       "      <th>Race</th>\n",
       "      <th>Marital Status</th>\n",
       "      <th>T Stage</th>\n",
       "      <th>N Stage</th>\n",
       "      <th>6th Stage</th>\n",
       "      <th>differentiate</th>\n",
       "      <th>Grade</th>\n",
       "      <th>A Stage</th>\n",
       "      <th>Tumor Size</th>\n",
       "      <th>Estrogen Status</th>\n",
       "      <th>Progesterone Status</th>\n",
       "      <th>Regional Node Examined</th>\n",
       "      <th>Reginol Node Positive</th>\n",
       "      <th>Survival Months</th>\n",
       "      <th>Status</th>\n",
       "    </tr>\n",
       "  </thead>\n",
       "  <tbody>\n",
       "    <tr>\n",
       "      <th>0</th>\n",
       "      <td>68</td>\n",
       "      <td>White</td>\n",
       "      <td>Married</td>\n",
       "      <td>T1</td>\n",
       "      <td>N1</td>\n",
       "      <td>IIA</td>\n",
       "      <td>Poorly differentiated</td>\n",
       "      <td>3</td>\n",
       "      <td>Regional</td>\n",
       "      <td>4</td>\n",
       "      <td>Positive</td>\n",
       "      <td>Positive</td>\n",
       "      <td>24</td>\n",
       "      <td>1</td>\n",
       "      <td>60</td>\n",
       "      <td>Alive</td>\n",
       "    </tr>\n",
       "    <tr>\n",
       "      <th>1</th>\n",
       "      <td>50</td>\n",
       "      <td>White</td>\n",
       "      <td>Married</td>\n",
       "      <td>T2</td>\n",
       "      <td>N2</td>\n",
       "      <td>IIIA</td>\n",
       "      <td>Moderately differentiated</td>\n",
       "      <td>2</td>\n",
       "      <td>Regional</td>\n",
       "      <td>35</td>\n",
       "      <td>Positive</td>\n",
       "      <td>Positive</td>\n",
       "      <td>14</td>\n",
       "      <td>5</td>\n",
       "      <td>62</td>\n",
       "      <td>Alive</td>\n",
       "    </tr>\n",
       "    <tr>\n",
       "      <th>2</th>\n",
       "      <td>58</td>\n",
       "      <td>White</td>\n",
       "      <td>Divorced</td>\n",
       "      <td>T3</td>\n",
       "      <td>N3</td>\n",
       "      <td>IIIC</td>\n",
       "      <td>Moderately differentiated</td>\n",
       "      <td>2</td>\n",
       "      <td>Regional</td>\n",
       "      <td>63</td>\n",
       "      <td>Positive</td>\n",
       "      <td>Positive</td>\n",
       "      <td>14</td>\n",
       "      <td>7</td>\n",
       "      <td>75</td>\n",
       "      <td>Alive</td>\n",
       "    </tr>\n",
       "    <tr>\n",
       "      <th>3</th>\n",
       "      <td>58</td>\n",
       "      <td>White</td>\n",
       "      <td>Married</td>\n",
       "      <td>T1</td>\n",
       "      <td>N1</td>\n",
       "      <td>IIA</td>\n",
       "      <td>Poorly differentiated</td>\n",
       "      <td>3</td>\n",
       "      <td>Regional</td>\n",
       "      <td>18</td>\n",
       "      <td>Positive</td>\n",
       "      <td>Positive</td>\n",
       "      <td>2</td>\n",
       "      <td>1</td>\n",
       "      <td>84</td>\n",
       "      <td>Alive</td>\n",
       "    </tr>\n",
       "    <tr>\n",
       "      <th>4</th>\n",
       "      <td>47</td>\n",
       "      <td>White</td>\n",
       "      <td>Married</td>\n",
       "      <td>T2</td>\n",
       "      <td>N1</td>\n",
       "      <td>IIB</td>\n",
       "      <td>Poorly differentiated</td>\n",
       "      <td>3</td>\n",
       "      <td>Regional</td>\n",
       "      <td>41</td>\n",
       "      <td>Positive</td>\n",
       "      <td>Positive</td>\n",
       "      <td>3</td>\n",
       "      <td>1</td>\n",
       "      <td>50</td>\n",
       "      <td>Alive</td>\n",
       "    </tr>\n",
       "    <tr>\n",
       "      <th>...</th>\n",
       "      <td>...</td>\n",
       "      <td>...</td>\n",
       "      <td>...</td>\n",
       "      <td>...</td>\n",
       "      <td>...</td>\n",
       "      <td>...</td>\n",
       "      <td>...</td>\n",
       "      <td>...</td>\n",
       "      <td>...</td>\n",
       "      <td>...</td>\n",
       "      <td>...</td>\n",
       "      <td>...</td>\n",
       "      <td>...</td>\n",
       "      <td>...</td>\n",
       "      <td>...</td>\n",
       "      <td>...</td>\n",
       "    </tr>\n",
       "    <tr>\n",
       "      <th>4019</th>\n",
       "      <td>62</td>\n",
       "      <td>Other</td>\n",
       "      <td>Married</td>\n",
       "      <td>T1</td>\n",
       "      <td>N1</td>\n",
       "      <td>IIA</td>\n",
       "      <td>Moderately differentiated</td>\n",
       "      <td>2</td>\n",
       "      <td>Regional</td>\n",
       "      <td>9</td>\n",
       "      <td>Positive</td>\n",
       "      <td>Positive</td>\n",
       "      <td>1</td>\n",
       "      <td>1</td>\n",
       "      <td>49</td>\n",
       "      <td>Alive</td>\n",
       "    </tr>\n",
       "    <tr>\n",
       "      <th>4020</th>\n",
       "      <td>56</td>\n",
       "      <td>White</td>\n",
       "      <td>Divorced</td>\n",
       "      <td>T2</td>\n",
       "      <td>N2</td>\n",
       "      <td>IIIA</td>\n",
       "      <td>Moderately differentiated</td>\n",
       "      <td>2</td>\n",
       "      <td>Regional</td>\n",
       "      <td>46</td>\n",
       "      <td>Positive</td>\n",
       "      <td>Positive</td>\n",
       "      <td>14</td>\n",
       "      <td>8</td>\n",
       "      <td>69</td>\n",
       "      <td>Alive</td>\n",
       "    </tr>\n",
       "    <tr>\n",
       "      <th>4021</th>\n",
       "      <td>68</td>\n",
       "      <td>White</td>\n",
       "      <td>Married</td>\n",
       "      <td>T2</td>\n",
       "      <td>N1</td>\n",
       "      <td>IIB</td>\n",
       "      <td>Moderately differentiated</td>\n",
       "      <td>2</td>\n",
       "      <td>Regional</td>\n",
       "      <td>22</td>\n",
       "      <td>Positive</td>\n",
       "      <td>Negative</td>\n",
       "      <td>11</td>\n",
       "      <td>3</td>\n",
       "      <td>69</td>\n",
       "      <td>Alive</td>\n",
       "    </tr>\n",
       "    <tr>\n",
       "      <th>4022</th>\n",
       "      <td>58</td>\n",
       "      <td>Black</td>\n",
       "      <td>Divorced</td>\n",
       "      <td>T2</td>\n",
       "      <td>N1</td>\n",
       "      <td>IIB</td>\n",
       "      <td>Moderately differentiated</td>\n",
       "      <td>2</td>\n",
       "      <td>Regional</td>\n",
       "      <td>44</td>\n",
       "      <td>Positive</td>\n",
       "      <td>Positive</td>\n",
       "      <td>11</td>\n",
       "      <td>1</td>\n",
       "      <td>72</td>\n",
       "      <td>Alive</td>\n",
       "    </tr>\n",
       "    <tr>\n",
       "      <th>4023</th>\n",
       "      <td>46</td>\n",
       "      <td>White</td>\n",
       "      <td>Married</td>\n",
       "      <td>T2</td>\n",
       "      <td>N1</td>\n",
       "      <td>IIB</td>\n",
       "      <td>Moderately differentiated</td>\n",
       "      <td>2</td>\n",
       "      <td>Regional</td>\n",
       "      <td>30</td>\n",
       "      <td>Positive</td>\n",
       "      <td>Positive</td>\n",
       "      <td>7</td>\n",
       "      <td>2</td>\n",
       "      <td>100</td>\n",
       "      <td>Alive</td>\n",
       "    </tr>\n",
       "  </tbody>\n",
       "</table>\n",
       "<p>4024 rows × 16 columns</p>\n",
       "</div>"
      ],
      "text/plain": [
       "      Age   Race Marital Status T Stage  N Stage 6th Stage  \\\n",
       "0      68  White        Married       T1      N1       IIA   \n",
       "1      50  White        Married       T2      N2      IIIA   \n",
       "2      58  White       Divorced       T3      N3      IIIC   \n",
       "3      58  White        Married       T1      N1       IIA   \n",
       "4      47  White        Married       T2      N1       IIB   \n",
       "...   ...    ...            ...      ...     ...       ...   \n",
       "4019   62  Other        Married       T1      N1       IIA   \n",
       "4020   56  White       Divorced       T2      N2      IIIA   \n",
       "4021   68  White        Married       T2      N1       IIB   \n",
       "4022   58  Black       Divorced       T2      N1       IIB   \n",
       "4023   46  White        Married       T2      N1       IIB   \n",
       "\n",
       "                  differentiate Grade   A Stage  Tumor Size Estrogen Status  \\\n",
       "0         Poorly differentiated     3  Regional           4        Positive   \n",
       "1     Moderately differentiated     2  Regional          35        Positive   \n",
       "2     Moderately differentiated     2  Regional          63        Positive   \n",
       "3         Poorly differentiated     3  Regional          18        Positive   \n",
       "4         Poorly differentiated     3  Regional          41        Positive   \n",
       "...                         ...   ...       ...         ...             ...   \n",
       "4019  Moderately differentiated     2  Regional           9        Positive   \n",
       "4020  Moderately differentiated     2  Regional          46        Positive   \n",
       "4021  Moderately differentiated     2  Regional          22        Positive   \n",
       "4022  Moderately differentiated     2  Regional          44        Positive   \n",
       "4023  Moderately differentiated     2  Regional          30        Positive   \n",
       "\n",
       "     Progesterone Status  Regional Node Examined  Reginol Node Positive  \\\n",
       "0               Positive                      24                      1   \n",
       "1               Positive                      14                      5   \n",
       "2               Positive                      14                      7   \n",
       "3               Positive                       2                      1   \n",
       "4               Positive                       3                      1   \n",
       "...                  ...                     ...                    ...   \n",
       "4019            Positive                       1                      1   \n",
       "4020            Positive                      14                      8   \n",
       "4021            Negative                      11                      3   \n",
       "4022            Positive                      11                      1   \n",
       "4023            Positive                       7                      2   \n",
       "\n",
       "      Survival Months Status  \n",
       "0                  60  Alive  \n",
       "1                  62  Alive  \n",
       "2                  75  Alive  \n",
       "3                  84  Alive  \n",
       "4                  50  Alive  \n",
       "...               ...    ...  \n",
       "4019               49  Alive  \n",
       "4020               69  Alive  \n",
       "4021               69  Alive  \n",
       "4022               72  Alive  \n",
       "4023              100  Alive  \n",
       "\n",
       "[4024 rows x 16 columns]"
      ]
     },
     "execution_count": 2,
     "metadata": {},
     "output_type": "execute_result"
    }
   ],
   "source": [
    "import pandas as pd \n",
    "import numpy as np\n",
    "import re \n",
    "import matplotlib.pyplot as plt\n",
    "import seaborn as sns\n",
    "\n",
    "df = pd.read_csv('./Breast_Cancer.csv')\n",
    "df "
   ]
  },
  {
   "cell_type": "code",
   "execution_count": null,
   "id": "b423937f",
   "metadata": {},
   "outputs": [],
   "source": [
    "#Regional — A neoplasm that has extended, Distant — A neoplasm that has spread to parts of the body remote from"
   ]
  },
  {
   "cell_type": "markdown",
   "id": "8c41ad1a",
   "metadata": {},
   "source": [
    "# Discovering our dataset"
   ]
  },
  {
   "cell_type": "code",
   "execution_count": 6,
   "id": "3edd39f1",
   "metadata": {
    "ExecuteTime": {
     "end_time": "2023-01-18T19:52:18.354454Z",
     "start_time": "2023-01-18T19:52:18.337794Z"
    }
   },
   "outputs": [
    {
     "data": {
      "text/plain": [
       "(4024, 16)"
      ]
     },
     "execution_count": 6,
     "metadata": {},
     "output_type": "execute_result"
    }
   ],
   "source": [
    "df.shape"
   ]
  },
  {
   "cell_type": "code",
   "execution_count": 7,
   "id": "4c99e486",
   "metadata": {
    "ExecuteTime": {
     "end_time": "2023-01-18T19:52:31.599983Z",
     "start_time": "2023-01-18T19:52:31.576517Z"
    }
   },
   "outputs": [
    {
     "name": "stdout",
     "output_type": "stream",
     "text": [
      "<class 'pandas.core.frame.DataFrame'>\n",
      "RangeIndex: 4024 entries, 0 to 4023\n",
      "Data columns (total 16 columns):\n",
      " #   Column                  Non-Null Count  Dtype \n",
      "---  ------                  --------------  ----- \n",
      " 0   Age                     4024 non-null   int64 \n",
      " 1   Race                    4024 non-null   object\n",
      " 2   Marital Status          4024 non-null   object\n",
      " 3   T Stage                 4024 non-null   object\n",
      " 4   N Stage                 4024 non-null   object\n",
      " 5   6th Stage               4024 non-null   object\n",
      " 6   differentiate           4024 non-null   object\n",
      " 7   Grade                   4024 non-null   object\n",
      " 8   A Stage                 4024 non-null   object\n",
      " 9   Tumor Size              4024 non-null   int64 \n",
      " 10  Estrogen Status         4024 non-null   object\n",
      " 11  Progesterone Status     4024 non-null   object\n",
      " 12  Regional Node Examined  4024 non-null   int64 \n",
      " 13  Reginol Node Positive   4024 non-null   int64 \n",
      " 14  Survival Months         4024 non-null   int64 \n",
      " 15  Status                  4024 non-null   object\n",
      "dtypes: int64(5), object(11)\n",
      "memory usage: 503.1+ KB\n"
     ]
    }
   ],
   "source": [
    "df.info()"
   ]
  },
  {
   "cell_type": "markdown",
   "id": "1dc1cdc4",
   "metadata": {},
   "source": [
    "# Cleaning our data "
   ]
  },
  {
   "cell_type": "markdown",
   "id": "f0351535",
   "metadata": {},
   "source": [
    "## Searching for duplicates, NaN, empty cells"
   ]
  },
  {
   "cell_type": "code",
   "execution_count": 4,
   "id": "d87ccdfc",
   "metadata": {
    "ExecuteTime": {
     "end_time": "2023-01-18T19:50:54.048116Z",
     "start_time": "2023-01-18T19:50:54.023020Z"
    },
    "collapsed": true
   },
   "outputs": [
    {
     "data": {
      "text/plain": [
       "Age                       0\n",
       "Race                      0\n",
       "Marital Status            0\n",
       "T Stage                   0\n",
       "N Stage                   0\n",
       "6th Stage                 0\n",
       "differentiate             0\n",
       "Grade                     0\n",
       "A Stage                   0\n",
       "Tumor Size                0\n",
       "Estrogen Status           0\n",
       "Progesterone Status       0\n",
       "Regional Node Examined    0\n",
       "Reginol Node Positive     0\n",
       "Survival Months           0\n",
       "Status                    0\n",
       "dtype: int64"
      ]
     },
     "execution_count": 4,
     "metadata": {},
     "output_type": "execute_result"
    }
   ],
   "source": [
    "df.isna().sum()"
   ]
  },
  {
   "cell_type": "code",
   "execution_count": 5,
   "id": "2b67bf60",
   "metadata": {
    "ExecuteTime": {
     "end_time": "2023-01-18T19:51:36.354488Z",
     "start_time": "2023-01-18T19:51:36.336155Z"
    },
    "collapsed": true
   },
   "outputs": [
    {
     "data": {
      "text/plain": [
       "Age                       0\n",
       "Race                      0\n",
       "Marital Status            0\n",
       "T Stage                   0\n",
       "N Stage                   0\n",
       "6th Stage                 0\n",
       "differentiate             0\n",
       "Grade                     0\n",
       "A Stage                   0\n",
       "Tumor Size                0\n",
       "Estrogen Status           0\n",
       "Progesterone Status       0\n",
       "Regional Node Examined    0\n",
       "Reginol Node Positive     0\n",
       "Survival Months           0\n",
       "Status                    0\n",
       "dtype: int64"
      ]
     },
     "execution_count": 5,
     "metadata": {},
     "output_type": "execute_result"
    }
   ],
   "source": [
    "(df == '').sum()"
   ]
  },
  {
   "cell_type": "code",
   "execution_count": 8,
   "id": "068c46d6",
   "metadata": {
    "ExecuteTime": {
     "end_time": "2023-01-18T19:53:28.068898Z",
     "start_time": "2023-01-18T19:53:28.048606Z"
    }
   },
   "outputs": [
    {
     "data": {
      "text/plain": [
       "1"
      ]
     },
     "execution_count": 8,
     "metadata": {},
     "output_type": "execute_result"
    }
   ],
   "source": [
    "df.duplicated().sum()"
   ]
  },
  {
   "cell_type": "code",
   "execution_count": 10,
   "id": "a3e27244",
   "metadata": {
    "ExecuteTime": {
     "end_time": "2023-01-18T19:54:46.810024Z",
     "start_time": "2023-01-18T19:54:46.778873Z"
    },
    "collapsed": true
   },
   "outputs": [
    {
     "data": {
      "text/html": [
       "<div>\n",
       "<style scoped>\n",
       "    .dataframe tbody tr th:only-of-type {\n",
       "        vertical-align: middle;\n",
       "    }\n",
       "\n",
       "    .dataframe tbody tr th {\n",
       "        vertical-align: top;\n",
       "    }\n",
       "\n",
       "    .dataframe thead th {\n",
       "        text-align: right;\n",
       "    }\n",
       "</style>\n",
       "<table border=\"1\" class=\"dataframe\">\n",
       "  <thead>\n",
       "    <tr style=\"text-align: right;\">\n",
       "      <th></th>\n",
       "      <th>Age</th>\n",
       "      <th>Race</th>\n",
       "      <th>Marital Status</th>\n",
       "      <th>T Stage</th>\n",
       "      <th>N Stage</th>\n",
       "      <th>6th Stage</th>\n",
       "      <th>differentiate</th>\n",
       "      <th>Grade</th>\n",
       "      <th>A Stage</th>\n",
       "      <th>Tumor Size</th>\n",
       "      <th>Estrogen Status</th>\n",
       "      <th>Progesterone Status</th>\n",
       "      <th>Regional Node Examined</th>\n",
       "      <th>Reginol Node Positive</th>\n",
       "      <th>Survival Months</th>\n",
       "      <th>Status</th>\n",
       "    </tr>\n",
       "  </thead>\n",
       "  <tbody>\n",
       "    <tr>\n",
       "      <th>436</th>\n",
       "      <td>63</td>\n",
       "      <td>White</td>\n",
       "      <td>Married</td>\n",
       "      <td>T1</td>\n",
       "      <td>N1</td>\n",
       "      <td>IIA</td>\n",
       "      <td>Moderately differentiated</td>\n",
       "      <td>2</td>\n",
       "      <td>Regional</td>\n",
       "      <td>17</td>\n",
       "      <td>Positive</td>\n",
       "      <td>Positive</td>\n",
       "      <td>9</td>\n",
       "      <td>1</td>\n",
       "      <td>56</td>\n",
       "      <td>Alive</td>\n",
       "    </tr>\n",
       "  </tbody>\n",
       "</table>\n",
       "</div>"
      ],
      "text/plain": [
       "     Age   Race Marital Status T Stage  N Stage 6th Stage  \\\n",
       "436   63  White        Married       T1      N1       IIA   \n",
       "\n",
       "                 differentiate Grade   A Stage  Tumor Size Estrogen Status  \\\n",
       "436  Moderately differentiated     2  Regional          17        Positive   \n",
       "\n",
       "    Progesterone Status  Regional Node Examined  Reginol Node Positive  \\\n",
       "436            Positive                       9                      1   \n",
       "\n",
       "     Survival Months Status  \n",
       "436               56  Alive  "
      ]
     },
     "execution_count": 10,
     "metadata": {},
     "output_type": "execute_result"
    }
   ],
   "source": [
    "df[df.duplicated()]"
   ]
  },
  {
   "cell_type": "code",
   "execution_count": 12,
   "id": "f7747715",
   "metadata": {
    "ExecuteTime": {
     "end_time": "2023-01-18T20:01:23.150385Z",
     "start_time": "2023-01-18T20:01:23.116549Z"
    },
    "collapsed": true
   },
   "outputs": [
    {
     "data": {
      "text/html": [
       "<div>\n",
       "<style scoped>\n",
       "    .dataframe tbody tr th:only-of-type {\n",
       "        vertical-align: middle;\n",
       "    }\n",
       "\n",
       "    .dataframe tbody tr th {\n",
       "        vertical-align: top;\n",
       "    }\n",
       "\n",
       "    .dataframe thead th {\n",
       "        text-align: right;\n",
       "    }\n",
       "</style>\n",
       "<table border=\"1\" class=\"dataframe\">\n",
       "  <thead>\n",
       "    <tr style=\"text-align: right;\">\n",
       "      <th></th>\n",
       "      <th>Age</th>\n",
       "      <th>Race</th>\n",
       "      <th>Marital Status</th>\n",
       "      <th>T Stage</th>\n",
       "      <th>N Stage</th>\n",
       "      <th>6th Stage</th>\n",
       "      <th>differentiate</th>\n",
       "      <th>Grade</th>\n",
       "      <th>A Stage</th>\n",
       "      <th>Tumor Size</th>\n",
       "      <th>Estrogen Status</th>\n",
       "      <th>Progesterone Status</th>\n",
       "      <th>Regional Node Examined</th>\n",
       "      <th>Reginol Node Positive</th>\n",
       "      <th>Survival Months</th>\n",
       "      <th>Status</th>\n",
       "    </tr>\n",
       "  </thead>\n",
       "  <tbody>\n",
       "    <tr>\n",
       "      <th>400</th>\n",
       "      <td>50</td>\n",
       "      <td>White</td>\n",
       "      <td>Single</td>\n",
       "      <td>T1</td>\n",
       "      <td>N1</td>\n",
       "      <td>IIA</td>\n",
       "      <td>Moderately differentiated</td>\n",
       "      <td>2</td>\n",
       "      <td>Regional</td>\n",
       "      <td>19</td>\n",
       "      <td>Positive</td>\n",
       "      <td>Positive</td>\n",
       "      <td>31</td>\n",
       "      <td>2</td>\n",
       "      <td>82</td>\n",
       "      <td>Alive</td>\n",
       "    </tr>\n",
       "    <tr>\n",
       "      <th>401</th>\n",
       "      <td>56</td>\n",
       "      <td>White</td>\n",
       "      <td>Married</td>\n",
       "      <td>T3</td>\n",
       "      <td>N1</td>\n",
       "      <td>IIIA</td>\n",
       "      <td>Well differentiated</td>\n",
       "      <td>1</td>\n",
       "      <td>Regional</td>\n",
       "      <td>90</td>\n",
       "      <td>Positive</td>\n",
       "      <td>Positive</td>\n",
       "      <td>13</td>\n",
       "      <td>1</td>\n",
       "      <td>79</td>\n",
       "      <td>Alive</td>\n",
       "    </tr>\n",
       "    <tr>\n",
       "      <th>402</th>\n",
       "      <td>56</td>\n",
       "      <td>White</td>\n",
       "      <td>Widowed</td>\n",
       "      <td>T1</td>\n",
       "      <td>N1</td>\n",
       "      <td>IIA</td>\n",
       "      <td>Moderately differentiated</td>\n",
       "      <td>2</td>\n",
       "      <td>Regional</td>\n",
       "      <td>10</td>\n",
       "      <td>Positive</td>\n",
       "      <td>Positive</td>\n",
       "      <td>14</td>\n",
       "      <td>1</td>\n",
       "      <td>56</td>\n",
       "      <td>Alive</td>\n",
       "    </tr>\n",
       "    <tr>\n",
       "      <th>403</th>\n",
       "      <td>52</td>\n",
       "      <td>White</td>\n",
       "      <td>Married</td>\n",
       "      <td>T4</td>\n",
       "      <td>N1</td>\n",
       "      <td>IIIB</td>\n",
       "      <td>Moderately differentiated</td>\n",
       "      <td>2</td>\n",
       "      <td>Regional</td>\n",
       "      <td>40</td>\n",
       "      <td>Positive</td>\n",
       "      <td>Positive</td>\n",
       "      <td>7</td>\n",
       "      <td>3</td>\n",
       "      <td>51</td>\n",
       "      <td>Alive</td>\n",
       "    </tr>\n",
       "    <tr>\n",
       "      <th>404</th>\n",
       "      <td>38</td>\n",
       "      <td>White</td>\n",
       "      <td>Divorced</td>\n",
       "      <td>T2</td>\n",
       "      <td>N1</td>\n",
       "      <td>IIB</td>\n",
       "      <td>Poorly differentiated</td>\n",
       "      <td>3</td>\n",
       "      <td>Regional</td>\n",
       "      <td>31</td>\n",
       "      <td>Positive</td>\n",
       "      <td>Positive</td>\n",
       "      <td>13</td>\n",
       "      <td>1</td>\n",
       "      <td>66</td>\n",
       "      <td>Alive</td>\n",
       "    </tr>\n",
       "    <tr>\n",
       "      <th>405</th>\n",
       "      <td>57</td>\n",
       "      <td>White</td>\n",
       "      <td>Single</td>\n",
       "      <td>T2</td>\n",
       "      <td>N1</td>\n",
       "      <td>IIB</td>\n",
       "      <td>Moderately differentiated</td>\n",
       "      <td>2</td>\n",
       "      <td>Regional</td>\n",
       "      <td>30</td>\n",
       "      <td>Positive</td>\n",
       "      <td>Positive</td>\n",
       "      <td>20</td>\n",
       "      <td>2</td>\n",
       "      <td>100</td>\n",
       "      <td>Alive</td>\n",
       "    </tr>\n",
       "    <tr>\n",
       "      <th>406</th>\n",
       "      <td>56</td>\n",
       "      <td>Other</td>\n",
       "      <td>Single</td>\n",
       "      <td>T2</td>\n",
       "      <td>N1</td>\n",
       "      <td>IIB</td>\n",
       "      <td>Moderately differentiated</td>\n",
       "      <td>2</td>\n",
       "      <td>Regional</td>\n",
       "      <td>26</td>\n",
       "      <td>Positive</td>\n",
       "      <td>Negative</td>\n",
       "      <td>12</td>\n",
       "      <td>2</td>\n",
       "      <td>92</td>\n",
       "      <td>Alive</td>\n",
       "    </tr>\n",
       "    <tr>\n",
       "      <th>407</th>\n",
       "      <td>42</td>\n",
       "      <td>White</td>\n",
       "      <td>Single</td>\n",
       "      <td>T2</td>\n",
       "      <td>N1</td>\n",
       "      <td>IIB</td>\n",
       "      <td>Poorly differentiated</td>\n",
       "      <td>3</td>\n",
       "      <td>Regional</td>\n",
       "      <td>25</td>\n",
       "      <td>Positive</td>\n",
       "      <td>Positive</td>\n",
       "      <td>9</td>\n",
       "      <td>2</td>\n",
       "      <td>104</td>\n",
       "      <td>Alive</td>\n",
       "    </tr>\n",
       "    <tr>\n",
       "      <th>408</th>\n",
       "      <td>54</td>\n",
       "      <td>Other</td>\n",
       "      <td>Married</td>\n",
       "      <td>T1</td>\n",
       "      <td>N1</td>\n",
       "      <td>IIA</td>\n",
       "      <td>Moderately differentiated</td>\n",
       "      <td>2</td>\n",
       "      <td>Regional</td>\n",
       "      <td>11</td>\n",
       "      <td>Positive</td>\n",
       "      <td>Positive</td>\n",
       "      <td>1</td>\n",
       "      <td>1</td>\n",
       "      <td>91</td>\n",
       "      <td>Alive</td>\n",
       "    </tr>\n",
       "    <tr>\n",
       "      <th>409</th>\n",
       "      <td>69</td>\n",
       "      <td>White</td>\n",
       "      <td>Divorced</td>\n",
       "      <td>T2</td>\n",
       "      <td>N1</td>\n",
       "      <td>IIB</td>\n",
       "      <td>Moderately differentiated</td>\n",
       "      <td>2</td>\n",
       "      <td>Regional</td>\n",
       "      <td>22</td>\n",
       "      <td>Positive</td>\n",
       "      <td>Positive</td>\n",
       "      <td>9</td>\n",
       "      <td>1</td>\n",
       "      <td>81</td>\n",
       "      <td>Alive</td>\n",
       "    </tr>\n",
       "    <tr>\n",
       "      <th>410</th>\n",
       "      <td>62</td>\n",
       "      <td>White</td>\n",
       "      <td>Married</td>\n",
       "      <td>T3</td>\n",
       "      <td>N1</td>\n",
       "      <td>IIIA</td>\n",
       "      <td>Poorly differentiated</td>\n",
       "      <td>3</td>\n",
       "      <td>Regional</td>\n",
       "      <td>59</td>\n",
       "      <td>Positive</td>\n",
       "      <td>Positive</td>\n",
       "      <td>7</td>\n",
       "      <td>2</td>\n",
       "      <td>75</td>\n",
       "      <td>Alive</td>\n",
       "    </tr>\n",
       "    <tr>\n",
       "      <th>411</th>\n",
       "      <td>63</td>\n",
       "      <td>White</td>\n",
       "      <td>Married</td>\n",
       "      <td>T2</td>\n",
       "      <td>N1</td>\n",
       "      <td>IIB</td>\n",
       "      <td>Moderately differentiated</td>\n",
       "      <td>2</td>\n",
       "      <td>Regional</td>\n",
       "      <td>23</td>\n",
       "      <td>Positive</td>\n",
       "      <td>Positive</td>\n",
       "      <td>19</td>\n",
       "      <td>1</td>\n",
       "      <td>85</td>\n",
       "      <td>Alive</td>\n",
       "    </tr>\n",
       "    <tr>\n",
       "      <th>412</th>\n",
       "      <td>46</td>\n",
       "      <td>White</td>\n",
       "      <td>Married</td>\n",
       "      <td>T2</td>\n",
       "      <td>N1</td>\n",
       "      <td>IIB</td>\n",
       "      <td>Moderately differentiated</td>\n",
       "      <td>2</td>\n",
       "      <td>Regional</td>\n",
       "      <td>25</td>\n",
       "      <td>Positive</td>\n",
       "      <td>Positive</td>\n",
       "      <td>3</td>\n",
       "      <td>1</td>\n",
       "      <td>78</td>\n",
       "      <td>Alive</td>\n",
       "    </tr>\n",
       "    <tr>\n",
       "      <th>413</th>\n",
       "      <td>47</td>\n",
       "      <td>White</td>\n",
       "      <td>Divorced</td>\n",
       "      <td>T1</td>\n",
       "      <td>N1</td>\n",
       "      <td>IIA</td>\n",
       "      <td>Poorly differentiated</td>\n",
       "      <td>3</td>\n",
       "      <td>Regional</td>\n",
       "      <td>18</td>\n",
       "      <td>Positive</td>\n",
       "      <td>Positive</td>\n",
       "      <td>9</td>\n",
       "      <td>1</td>\n",
       "      <td>45</td>\n",
       "      <td>Dead</td>\n",
       "    </tr>\n",
       "    <tr>\n",
       "      <th>414</th>\n",
       "      <td>55</td>\n",
       "      <td>White</td>\n",
       "      <td>Married</td>\n",
       "      <td>T1</td>\n",
       "      <td>N1</td>\n",
       "      <td>IIA</td>\n",
       "      <td>Moderately differentiated</td>\n",
       "      <td>2</td>\n",
       "      <td>Regional</td>\n",
       "      <td>15</td>\n",
       "      <td>Positive</td>\n",
       "      <td>Positive</td>\n",
       "      <td>9</td>\n",
       "      <td>1</td>\n",
       "      <td>3</td>\n",
       "      <td>Alive</td>\n",
       "    </tr>\n",
       "    <tr>\n",
       "      <th>415</th>\n",
       "      <td>40</td>\n",
       "      <td>White</td>\n",
       "      <td>Married</td>\n",
       "      <td>T2</td>\n",
       "      <td>N1</td>\n",
       "      <td>IIB</td>\n",
       "      <td>Well differentiated</td>\n",
       "      <td>1</td>\n",
       "      <td>Regional</td>\n",
       "      <td>30</td>\n",
       "      <td>Positive</td>\n",
       "      <td>Positive</td>\n",
       "      <td>2</td>\n",
       "      <td>1</td>\n",
       "      <td>64</td>\n",
       "      <td>Alive</td>\n",
       "    </tr>\n",
       "    <tr>\n",
       "      <th>416</th>\n",
       "      <td>47</td>\n",
       "      <td>White</td>\n",
       "      <td>Married</td>\n",
       "      <td>T2</td>\n",
       "      <td>N1</td>\n",
       "      <td>IIB</td>\n",
       "      <td>Poorly differentiated</td>\n",
       "      <td>3</td>\n",
       "      <td>Regional</td>\n",
       "      <td>25</td>\n",
       "      <td>Positive</td>\n",
       "      <td>Positive</td>\n",
       "      <td>7</td>\n",
       "      <td>2</td>\n",
       "      <td>99</td>\n",
       "      <td>Alive</td>\n",
       "    </tr>\n",
       "    <tr>\n",
       "      <th>417</th>\n",
       "      <td>52</td>\n",
       "      <td>White</td>\n",
       "      <td>Single</td>\n",
       "      <td>T2</td>\n",
       "      <td>N1</td>\n",
       "      <td>IIB</td>\n",
       "      <td>Moderately differentiated</td>\n",
       "      <td>2</td>\n",
       "      <td>Regional</td>\n",
       "      <td>27</td>\n",
       "      <td>Positive</td>\n",
       "      <td>Positive</td>\n",
       "      <td>20</td>\n",
       "      <td>2</td>\n",
       "      <td>55</td>\n",
       "      <td>Alive</td>\n",
       "    </tr>\n",
       "    <tr>\n",
       "      <th>418</th>\n",
       "      <td>65</td>\n",
       "      <td>White</td>\n",
       "      <td>Married</td>\n",
       "      <td>T2</td>\n",
       "      <td>N1</td>\n",
       "      <td>IIB</td>\n",
       "      <td>Well differentiated</td>\n",
       "      <td>1</td>\n",
       "      <td>Regional</td>\n",
       "      <td>25</td>\n",
       "      <td>Positive</td>\n",
       "      <td>Positive</td>\n",
       "      <td>39</td>\n",
       "      <td>1</td>\n",
       "      <td>80</td>\n",
       "      <td>Alive</td>\n",
       "    </tr>\n",
       "    <tr>\n",
       "      <th>419</th>\n",
       "      <td>63</td>\n",
       "      <td>White</td>\n",
       "      <td>Married</td>\n",
       "      <td>T2</td>\n",
       "      <td>N1</td>\n",
       "      <td>IIB</td>\n",
       "      <td>Moderately differentiated</td>\n",
       "      <td>2</td>\n",
       "      <td>Regional</td>\n",
       "      <td>24</td>\n",
       "      <td>Positive</td>\n",
       "      <td>Positive</td>\n",
       "      <td>7</td>\n",
       "      <td>1</td>\n",
       "      <td>82</td>\n",
       "      <td>Alive</td>\n",
       "    </tr>\n",
       "    <tr>\n",
       "      <th>420</th>\n",
       "      <td>57</td>\n",
       "      <td>White</td>\n",
       "      <td>Single</td>\n",
       "      <td>T2</td>\n",
       "      <td>N1</td>\n",
       "      <td>IIB</td>\n",
       "      <td>Poorly differentiated</td>\n",
       "      <td>3</td>\n",
       "      <td>Regional</td>\n",
       "      <td>24</td>\n",
       "      <td>Positive</td>\n",
       "      <td>Positive</td>\n",
       "      <td>27</td>\n",
       "      <td>1</td>\n",
       "      <td>96</td>\n",
       "      <td>Alive</td>\n",
       "    </tr>\n",
       "    <tr>\n",
       "      <th>421</th>\n",
       "      <td>45</td>\n",
       "      <td>White</td>\n",
       "      <td>Single</td>\n",
       "      <td>T1</td>\n",
       "      <td>N2</td>\n",
       "      <td>IIIA</td>\n",
       "      <td>Poorly differentiated</td>\n",
       "      <td>3</td>\n",
       "      <td>Regional</td>\n",
       "      <td>20</td>\n",
       "      <td>Negative</td>\n",
       "      <td>Negative</td>\n",
       "      <td>17</td>\n",
       "      <td>5</td>\n",
       "      <td>51</td>\n",
       "      <td>Alive</td>\n",
       "    </tr>\n",
       "    <tr>\n",
       "      <th>422</th>\n",
       "      <td>62</td>\n",
       "      <td>White</td>\n",
       "      <td>Single</td>\n",
       "      <td>T1</td>\n",
       "      <td>N1</td>\n",
       "      <td>IIA</td>\n",
       "      <td>Moderately differentiated</td>\n",
       "      <td>2</td>\n",
       "      <td>Regional</td>\n",
       "      <td>10</td>\n",
       "      <td>Positive</td>\n",
       "      <td>Positive</td>\n",
       "      <td>10</td>\n",
       "      <td>1</td>\n",
       "      <td>106</td>\n",
       "      <td>Alive</td>\n",
       "    </tr>\n",
       "    <tr>\n",
       "      <th>423</th>\n",
       "      <td>54</td>\n",
       "      <td>White</td>\n",
       "      <td>Married</td>\n",
       "      <td>T1</td>\n",
       "      <td>N1</td>\n",
       "      <td>IIA</td>\n",
       "      <td>Well differentiated</td>\n",
       "      <td>1</td>\n",
       "      <td>Regional</td>\n",
       "      <td>7</td>\n",
       "      <td>Positive</td>\n",
       "      <td>Positive</td>\n",
       "      <td>8</td>\n",
       "      <td>2</td>\n",
       "      <td>22</td>\n",
       "      <td>Alive</td>\n",
       "    </tr>\n",
       "    <tr>\n",
       "      <th>424</th>\n",
       "      <td>65</td>\n",
       "      <td>White</td>\n",
       "      <td>Married</td>\n",
       "      <td>T2</td>\n",
       "      <td>N1</td>\n",
       "      <td>IIB</td>\n",
       "      <td>Moderately differentiated</td>\n",
       "      <td>2</td>\n",
       "      <td>Regional</td>\n",
       "      <td>42</td>\n",
       "      <td>Positive</td>\n",
       "      <td>Positive</td>\n",
       "      <td>8</td>\n",
       "      <td>2</td>\n",
       "      <td>83</td>\n",
       "      <td>Alive</td>\n",
       "    </tr>\n",
       "    <tr>\n",
       "      <th>425</th>\n",
       "      <td>64</td>\n",
       "      <td>White</td>\n",
       "      <td>Married</td>\n",
       "      <td>T3</td>\n",
       "      <td>N1</td>\n",
       "      <td>IIIA</td>\n",
       "      <td>Moderately differentiated</td>\n",
       "      <td>2</td>\n",
       "      <td>Regional</td>\n",
       "      <td>54</td>\n",
       "      <td>Positive</td>\n",
       "      <td>Positive</td>\n",
       "      <td>14</td>\n",
       "      <td>1</td>\n",
       "      <td>86</td>\n",
       "      <td>Alive</td>\n",
       "    </tr>\n",
       "    <tr>\n",
       "      <th>426</th>\n",
       "      <td>47</td>\n",
       "      <td>White</td>\n",
       "      <td>Married</td>\n",
       "      <td>T3</td>\n",
       "      <td>N1</td>\n",
       "      <td>IIIA</td>\n",
       "      <td>Well differentiated</td>\n",
       "      <td>1</td>\n",
       "      <td>Regional</td>\n",
       "      <td>75</td>\n",
       "      <td>Positive</td>\n",
       "      <td>Positive</td>\n",
       "      <td>20</td>\n",
       "      <td>1</td>\n",
       "      <td>99</td>\n",
       "      <td>Alive</td>\n",
       "    </tr>\n",
       "    <tr>\n",
       "      <th>427</th>\n",
       "      <td>63</td>\n",
       "      <td>White</td>\n",
       "      <td>Married</td>\n",
       "      <td>T1</td>\n",
       "      <td>N3</td>\n",
       "      <td>IIIC</td>\n",
       "      <td>Moderately differentiated</td>\n",
       "      <td>2</td>\n",
       "      <td>Regional</td>\n",
       "      <td>15</td>\n",
       "      <td>Positive</td>\n",
       "      <td>Positive</td>\n",
       "      <td>11</td>\n",
       "      <td>11</td>\n",
       "      <td>106</td>\n",
       "      <td>Alive</td>\n",
       "    </tr>\n",
       "    <tr>\n",
       "      <th>428</th>\n",
       "      <td>66</td>\n",
       "      <td>White</td>\n",
       "      <td>Married</td>\n",
       "      <td>T2</td>\n",
       "      <td>N1</td>\n",
       "      <td>IIB</td>\n",
       "      <td>Poorly differentiated</td>\n",
       "      <td>3</td>\n",
       "      <td>Regional</td>\n",
       "      <td>22</td>\n",
       "      <td>Positive</td>\n",
       "      <td>Negative</td>\n",
       "      <td>10</td>\n",
       "      <td>2</td>\n",
       "      <td>45</td>\n",
       "      <td>Dead</td>\n",
       "    </tr>\n",
       "    <tr>\n",
       "      <th>429</th>\n",
       "      <td>69</td>\n",
       "      <td>White</td>\n",
       "      <td>Married</td>\n",
       "      <td>T1</td>\n",
       "      <td>N1</td>\n",
       "      <td>IIA</td>\n",
       "      <td>Moderately differentiated</td>\n",
       "      <td>2</td>\n",
       "      <td>Regional</td>\n",
       "      <td>20</td>\n",
       "      <td>Positive</td>\n",
       "      <td>Positive</td>\n",
       "      <td>10</td>\n",
       "      <td>1</td>\n",
       "      <td>99</td>\n",
       "      <td>Alive</td>\n",
       "    </tr>\n",
       "    <tr>\n",
       "      <th>430</th>\n",
       "      <td>48</td>\n",
       "      <td>White</td>\n",
       "      <td>Married</td>\n",
       "      <td>T3</td>\n",
       "      <td>N2</td>\n",
       "      <td>IIIA</td>\n",
       "      <td>Moderately differentiated</td>\n",
       "      <td>2</td>\n",
       "      <td>Regional</td>\n",
       "      <td>65</td>\n",
       "      <td>Positive</td>\n",
       "      <td>Positive</td>\n",
       "      <td>11</td>\n",
       "      <td>5</td>\n",
       "      <td>84</td>\n",
       "      <td>Alive</td>\n",
       "    </tr>\n",
       "    <tr>\n",
       "      <th>431</th>\n",
       "      <td>60</td>\n",
       "      <td>White</td>\n",
       "      <td>Widowed</td>\n",
       "      <td>T4</td>\n",
       "      <td>N3</td>\n",
       "      <td>IIIC</td>\n",
       "      <td>Poorly differentiated</td>\n",
       "      <td>3</td>\n",
       "      <td>Regional</td>\n",
       "      <td>61</td>\n",
       "      <td>Positive</td>\n",
       "      <td>Positive</td>\n",
       "      <td>25</td>\n",
       "      <td>14</td>\n",
       "      <td>86</td>\n",
       "      <td>Alive</td>\n",
       "    </tr>\n",
       "    <tr>\n",
       "      <th>432</th>\n",
       "      <td>61</td>\n",
       "      <td>White</td>\n",
       "      <td>Married</td>\n",
       "      <td>T2</td>\n",
       "      <td>N1</td>\n",
       "      <td>IIB</td>\n",
       "      <td>Moderately differentiated</td>\n",
       "      <td>2</td>\n",
       "      <td>Regional</td>\n",
       "      <td>27</td>\n",
       "      <td>Positive</td>\n",
       "      <td>Positive</td>\n",
       "      <td>1</td>\n",
       "      <td>1</td>\n",
       "      <td>87</td>\n",
       "      <td>Alive</td>\n",
       "    </tr>\n",
       "    <tr>\n",
       "      <th>433</th>\n",
       "      <td>61</td>\n",
       "      <td>White</td>\n",
       "      <td>Married</td>\n",
       "      <td>T1</td>\n",
       "      <td>N1</td>\n",
       "      <td>IIA</td>\n",
       "      <td>Well differentiated</td>\n",
       "      <td>1</td>\n",
       "      <td>Regional</td>\n",
       "      <td>16</td>\n",
       "      <td>Positive</td>\n",
       "      <td>Positive</td>\n",
       "      <td>9</td>\n",
       "      <td>1</td>\n",
       "      <td>92</td>\n",
       "      <td>Alive</td>\n",
       "    </tr>\n",
       "    <tr>\n",
       "      <th>434</th>\n",
       "      <td>43</td>\n",
       "      <td>White</td>\n",
       "      <td>Married</td>\n",
       "      <td>T2</td>\n",
       "      <td>N1</td>\n",
       "      <td>IIB</td>\n",
       "      <td>Moderately differentiated</td>\n",
       "      <td>2</td>\n",
       "      <td>Regional</td>\n",
       "      <td>35</td>\n",
       "      <td>Positive</td>\n",
       "      <td>Positive</td>\n",
       "      <td>15</td>\n",
       "      <td>1</td>\n",
       "      <td>49</td>\n",
       "      <td>Alive</td>\n",
       "    </tr>\n",
       "    <tr>\n",
       "      <th>435</th>\n",
       "      <td>49</td>\n",
       "      <td>White</td>\n",
       "      <td>Married</td>\n",
       "      <td>T3</td>\n",
       "      <td>N3</td>\n",
       "      <td>IIIC</td>\n",
       "      <td>Poorly differentiated</td>\n",
       "      <td>3</td>\n",
       "      <td>Regional</td>\n",
       "      <td>55</td>\n",
       "      <td>Negative</td>\n",
       "      <td>Negative</td>\n",
       "      <td>19</td>\n",
       "      <td>13</td>\n",
       "      <td>30</td>\n",
       "      <td>Dead</td>\n",
       "    </tr>\n",
       "    <tr>\n",
       "      <th>436</th>\n",
       "      <td>63</td>\n",
       "      <td>White</td>\n",
       "      <td>Married</td>\n",
       "      <td>T1</td>\n",
       "      <td>N1</td>\n",
       "      <td>IIA</td>\n",
       "      <td>Moderately differentiated</td>\n",
       "      <td>2</td>\n",
       "      <td>Regional</td>\n",
       "      <td>17</td>\n",
       "      <td>Positive</td>\n",
       "      <td>Positive</td>\n",
       "      <td>9</td>\n",
       "      <td>1</td>\n",
       "      <td>56</td>\n",
       "      <td>Alive</td>\n",
       "    </tr>\n",
       "    <tr>\n",
       "      <th>437</th>\n",
       "      <td>61</td>\n",
       "      <td>White</td>\n",
       "      <td>Married</td>\n",
       "      <td>T1</td>\n",
       "      <td>N1</td>\n",
       "      <td>IIA</td>\n",
       "      <td>Moderately differentiated</td>\n",
       "      <td>2</td>\n",
       "      <td>Regional</td>\n",
       "      <td>8</td>\n",
       "      <td>Positive</td>\n",
       "      <td>Positive</td>\n",
       "      <td>2</td>\n",
       "      <td>1</td>\n",
       "      <td>98</td>\n",
       "      <td>Alive</td>\n",
       "    </tr>\n",
       "    <tr>\n",
       "      <th>438</th>\n",
       "      <td>61</td>\n",
       "      <td>White</td>\n",
       "      <td>Married</td>\n",
       "      <td>T2</td>\n",
       "      <td>N1</td>\n",
       "      <td>IIB</td>\n",
       "      <td>Moderately differentiated</td>\n",
       "      <td>2</td>\n",
       "      <td>Regional</td>\n",
       "      <td>25</td>\n",
       "      <td>Positive</td>\n",
       "      <td>Positive</td>\n",
       "      <td>25</td>\n",
       "      <td>3</td>\n",
       "      <td>97</td>\n",
       "      <td>Alive</td>\n",
       "    </tr>\n",
       "  </tbody>\n",
       "</table>\n",
       "</div>"
      ],
      "text/plain": [
       "     Age   Race Marital Status T Stage  N Stage 6th Stage  \\\n",
       "400   50  White        Single        T1      N1       IIA   \n",
       "401   56  White        Married       T3      N1      IIIA   \n",
       "402   56  White        Widowed       T1      N1       IIA   \n",
       "403   52  White        Married       T4      N1      IIIB   \n",
       "404   38  White       Divorced       T2      N1       IIB   \n",
       "405   57  White        Single        T2      N1       IIB   \n",
       "406   56  Other        Single        T2      N1       IIB   \n",
       "407   42  White        Single        T2      N1       IIB   \n",
       "408   54  Other        Married       T1      N1       IIA   \n",
       "409   69  White       Divorced       T2      N1       IIB   \n",
       "410   62  White        Married       T3      N1      IIIA   \n",
       "411   63  White        Married       T2      N1       IIB   \n",
       "412   46  White        Married       T2      N1       IIB   \n",
       "413   47  White       Divorced       T1      N1       IIA   \n",
       "414   55  White        Married       T1      N1       IIA   \n",
       "415   40  White        Married       T2      N1       IIB   \n",
       "416   47  White        Married       T2      N1       IIB   \n",
       "417   52  White        Single        T2      N1       IIB   \n",
       "418   65  White        Married       T2      N1       IIB   \n",
       "419   63  White        Married       T2      N1       IIB   \n",
       "420   57  White        Single        T2      N1       IIB   \n",
       "421   45  White        Single        T1      N2      IIIA   \n",
       "422   62  White        Single        T1      N1       IIA   \n",
       "423   54  White        Married       T1      N1       IIA   \n",
       "424   65  White        Married       T2      N1       IIB   \n",
       "425   64  White        Married       T3      N1      IIIA   \n",
       "426   47  White        Married       T3      N1      IIIA   \n",
       "427   63  White        Married       T1      N3      IIIC   \n",
       "428   66  White        Married       T2      N1       IIB   \n",
       "429   69  White        Married       T1      N1       IIA   \n",
       "430   48  White        Married       T3      N2      IIIA   \n",
       "431   60  White        Widowed       T4      N3      IIIC   \n",
       "432   61  White        Married       T2      N1       IIB   \n",
       "433   61  White        Married       T1      N1       IIA   \n",
       "434   43  White        Married       T2      N1       IIB   \n",
       "435   49  White        Married       T3      N3      IIIC   \n",
       "436   63  White        Married       T1      N1       IIA   \n",
       "437   61  White        Married       T1      N1       IIA   \n",
       "438   61  White        Married       T2      N1       IIB   \n",
       "\n",
       "                 differentiate Grade   A Stage  Tumor Size Estrogen Status  \\\n",
       "400  Moderately differentiated     2  Regional          19        Positive   \n",
       "401        Well differentiated     1  Regional          90        Positive   \n",
       "402  Moderately differentiated     2  Regional          10        Positive   \n",
       "403  Moderately differentiated     2  Regional          40        Positive   \n",
       "404      Poorly differentiated     3  Regional          31        Positive   \n",
       "405  Moderately differentiated     2  Regional          30        Positive   \n",
       "406  Moderately differentiated     2  Regional          26        Positive   \n",
       "407      Poorly differentiated     3  Regional          25        Positive   \n",
       "408  Moderately differentiated     2  Regional          11        Positive   \n",
       "409  Moderately differentiated     2  Regional          22        Positive   \n",
       "410      Poorly differentiated     3  Regional          59        Positive   \n",
       "411  Moderately differentiated     2  Regional          23        Positive   \n",
       "412  Moderately differentiated     2  Regional          25        Positive   \n",
       "413      Poorly differentiated     3  Regional          18        Positive   \n",
       "414  Moderately differentiated     2  Regional          15        Positive   \n",
       "415        Well differentiated     1  Regional          30        Positive   \n",
       "416      Poorly differentiated     3  Regional          25        Positive   \n",
       "417  Moderately differentiated     2  Regional          27        Positive   \n",
       "418        Well differentiated     1  Regional          25        Positive   \n",
       "419  Moderately differentiated     2  Regional          24        Positive   \n",
       "420      Poorly differentiated     3  Regional          24        Positive   \n",
       "421      Poorly differentiated     3  Regional          20        Negative   \n",
       "422  Moderately differentiated     2  Regional          10        Positive   \n",
       "423        Well differentiated     1  Regional           7        Positive   \n",
       "424  Moderately differentiated     2  Regional          42        Positive   \n",
       "425  Moderately differentiated     2  Regional          54        Positive   \n",
       "426        Well differentiated     1  Regional          75        Positive   \n",
       "427  Moderately differentiated     2  Regional          15        Positive   \n",
       "428      Poorly differentiated     3  Regional          22        Positive   \n",
       "429  Moderately differentiated     2  Regional          20        Positive   \n",
       "430  Moderately differentiated     2  Regional          65        Positive   \n",
       "431      Poorly differentiated     3  Regional          61        Positive   \n",
       "432  Moderately differentiated     2  Regional          27        Positive   \n",
       "433        Well differentiated     1  Regional          16        Positive   \n",
       "434  Moderately differentiated     2  Regional          35        Positive   \n",
       "435      Poorly differentiated     3  Regional          55        Negative   \n",
       "436  Moderately differentiated     2  Regional          17        Positive   \n",
       "437  Moderately differentiated     2  Regional           8        Positive   \n",
       "438  Moderately differentiated     2  Regional          25        Positive   \n",
       "\n",
       "    Progesterone Status  Regional Node Examined  Reginol Node Positive  \\\n",
       "400            Positive                      31                      2   \n",
       "401            Positive                      13                      1   \n",
       "402            Positive                      14                      1   \n",
       "403            Positive                       7                      3   \n",
       "404            Positive                      13                      1   \n",
       "405            Positive                      20                      2   \n",
       "406            Negative                      12                      2   \n",
       "407            Positive                       9                      2   \n",
       "408            Positive                       1                      1   \n",
       "409            Positive                       9                      1   \n",
       "410            Positive                       7                      2   \n",
       "411            Positive                      19                      1   \n",
       "412            Positive                       3                      1   \n",
       "413            Positive                       9                      1   \n",
       "414            Positive                       9                      1   \n",
       "415            Positive                       2                      1   \n",
       "416            Positive                       7                      2   \n",
       "417            Positive                      20                      2   \n",
       "418            Positive                      39                      1   \n",
       "419            Positive                       7                      1   \n",
       "420            Positive                      27                      1   \n",
       "421            Negative                      17                      5   \n",
       "422            Positive                      10                      1   \n",
       "423            Positive                       8                      2   \n",
       "424            Positive                       8                      2   \n",
       "425            Positive                      14                      1   \n",
       "426            Positive                      20                      1   \n",
       "427            Positive                      11                     11   \n",
       "428            Negative                      10                      2   \n",
       "429            Positive                      10                      1   \n",
       "430            Positive                      11                      5   \n",
       "431            Positive                      25                     14   \n",
       "432            Positive                       1                      1   \n",
       "433            Positive                       9                      1   \n",
       "434            Positive                      15                      1   \n",
       "435            Negative                      19                     13   \n",
       "436            Positive                       9                      1   \n",
       "437            Positive                       2                      1   \n",
       "438            Positive                      25                      3   \n",
       "\n",
       "     Survival Months Status  \n",
       "400               82  Alive  \n",
       "401               79  Alive  \n",
       "402               56  Alive  \n",
       "403               51  Alive  \n",
       "404               66  Alive  \n",
       "405              100  Alive  \n",
       "406               92  Alive  \n",
       "407              104  Alive  \n",
       "408               91  Alive  \n",
       "409               81  Alive  \n",
       "410               75  Alive  \n",
       "411               85  Alive  \n",
       "412               78  Alive  \n",
       "413               45   Dead  \n",
       "414                3  Alive  \n",
       "415               64  Alive  \n",
       "416               99  Alive  \n",
       "417               55  Alive  \n",
       "418               80  Alive  \n",
       "419               82  Alive  \n",
       "420               96  Alive  \n",
       "421               51  Alive  \n",
       "422              106  Alive  \n",
       "423               22  Alive  \n",
       "424               83  Alive  \n",
       "425               86  Alive  \n",
       "426               99  Alive  \n",
       "427              106  Alive  \n",
       "428               45   Dead  \n",
       "429               99  Alive  \n",
       "430               84  Alive  \n",
       "431               86  Alive  \n",
       "432               87  Alive  \n",
       "433               92  Alive  \n",
       "434               49  Alive  \n",
       "435               30   Dead  \n",
       "436               56  Alive  \n",
       "437               98  Alive  \n",
       "438               97  Alive  "
      ]
     },
     "execution_count": 12,
     "metadata": {},
     "output_type": "execute_result"
    }
   ],
   "source": [
    "#this allowed me to have a look at the data from rows 400 to 438\n",
    "df.loc[400:438]"
   ]
  },
  {
   "cell_type": "code",
   "execution_count": 14,
   "id": "a0299e56",
   "metadata": {
    "ExecuteTime": {
     "end_time": "2023-01-18T20:04:00.850807Z",
     "start_time": "2023-01-18T20:04:00.823456Z"
    },
    "collapsed": true
   },
   "outputs": [
    {
     "data": {
      "text/html": [
       "<div>\n",
       "<style scoped>\n",
       "    .dataframe tbody tr th:only-of-type {\n",
       "        vertical-align: middle;\n",
       "    }\n",
       "\n",
       "    .dataframe tbody tr th {\n",
       "        vertical-align: top;\n",
       "    }\n",
       "\n",
       "    .dataframe thead th {\n",
       "        text-align: right;\n",
       "    }\n",
       "</style>\n",
       "<table border=\"1\" class=\"dataframe\">\n",
       "  <thead>\n",
       "    <tr style=\"text-align: right;\">\n",
       "      <th></th>\n",
       "      <th>Age</th>\n",
       "      <th>Race</th>\n",
       "      <th>Marital Status</th>\n",
       "      <th>T Stage</th>\n",
       "      <th>N Stage</th>\n",
       "      <th>6th Stage</th>\n",
       "      <th>differentiate</th>\n",
       "      <th>Grade</th>\n",
       "      <th>A Stage</th>\n",
       "      <th>Tumor Size</th>\n",
       "      <th>Estrogen Status</th>\n",
       "      <th>Progesterone Status</th>\n",
       "      <th>Regional Node Examined</th>\n",
       "      <th>Reginol Node Positive</th>\n",
       "      <th>Survival Months</th>\n",
       "      <th>Status</th>\n",
       "    </tr>\n",
       "  </thead>\n",
       "  <tbody>\n",
       "    <tr>\n",
       "      <th>213</th>\n",
       "      <td>63</td>\n",
       "      <td>White</td>\n",
       "      <td>Married</td>\n",
       "      <td>T1</td>\n",
       "      <td>N1</td>\n",
       "      <td>IIA</td>\n",
       "      <td>Moderately differentiated</td>\n",
       "      <td>2</td>\n",
       "      <td>Regional</td>\n",
       "      <td>17</td>\n",
       "      <td>Positive</td>\n",
       "      <td>Positive</td>\n",
       "      <td>9</td>\n",
       "      <td>1</td>\n",
       "      <td>56</td>\n",
       "      <td>Alive</td>\n",
       "    </tr>\n",
       "    <tr>\n",
       "      <th>436</th>\n",
       "      <td>63</td>\n",
       "      <td>White</td>\n",
       "      <td>Married</td>\n",
       "      <td>T1</td>\n",
       "      <td>N1</td>\n",
       "      <td>IIA</td>\n",
       "      <td>Moderately differentiated</td>\n",
       "      <td>2</td>\n",
       "      <td>Regional</td>\n",
       "      <td>17</td>\n",
       "      <td>Positive</td>\n",
       "      <td>Positive</td>\n",
       "      <td>9</td>\n",
       "      <td>1</td>\n",
       "      <td>56</td>\n",
       "      <td>Alive</td>\n",
       "    </tr>\n",
       "    <tr>\n",
       "      <th>3257</th>\n",
       "      <td>63</td>\n",
       "      <td>White</td>\n",
       "      <td>Married</td>\n",
       "      <td>T3</td>\n",
       "      <td>N2</td>\n",
       "      <td>IIIA</td>\n",
       "      <td>Moderately differentiated</td>\n",
       "      <td>2</td>\n",
       "      <td>Regional</td>\n",
       "      <td>80</td>\n",
       "      <td>Positive</td>\n",
       "      <td>Positive</td>\n",
       "      <td>6</td>\n",
       "      <td>4</td>\n",
       "      <td>56</td>\n",
       "      <td>Dead</td>\n",
       "    </tr>\n",
       "    <tr>\n",
       "      <th>3358</th>\n",
       "      <td>63</td>\n",
       "      <td>White</td>\n",
       "      <td>Widowed</td>\n",
       "      <td>T2</td>\n",
       "      <td>N1</td>\n",
       "      <td>IIB</td>\n",
       "      <td>Well differentiated</td>\n",
       "      <td>1</td>\n",
       "      <td>Regional</td>\n",
       "      <td>23</td>\n",
       "      <td>Positive</td>\n",
       "      <td>Positive</td>\n",
       "      <td>10</td>\n",
       "      <td>1</td>\n",
       "      <td>56</td>\n",
       "      <td>Alive</td>\n",
       "    </tr>\n",
       "  </tbody>\n",
       "</table>\n",
       "</div>"
      ],
      "text/plain": [
       "      Age   Race Marital Status T Stage  N Stage 6th Stage  \\\n",
       "213    63  White        Married       T1      N1       IIA   \n",
       "436    63  White        Married       T1      N1       IIA   \n",
       "3257   63  White        Married       T3      N2      IIIA   \n",
       "3358   63  White        Widowed       T2      N1       IIB   \n",
       "\n",
       "                  differentiate Grade   A Stage  Tumor Size Estrogen Status  \\\n",
       "213   Moderately differentiated     2  Regional          17        Positive   \n",
       "436   Moderately differentiated     2  Regional          17        Positive   \n",
       "3257  Moderately differentiated     2  Regional          80        Positive   \n",
       "3358        Well differentiated     1  Regional          23        Positive   \n",
       "\n",
       "     Progesterone Status  Regional Node Examined  Reginol Node Positive  \\\n",
       "213             Positive                       9                      1   \n",
       "436             Positive                       9                      1   \n",
       "3257            Positive                       6                      4   \n",
       "3358            Positive                      10                      1   \n",
       "\n",
       "      Survival Months Status  \n",
       "213                56  Alive  \n",
       "436                56  Alive  \n",
       "3257               56   Dead  \n",
       "3358               56  Alive  "
      ]
     },
     "execution_count": 14,
     "metadata": {},
     "output_type": "execute_result"
    }
   ],
   "source": [
    "#this allowed me to find the duplicated rows\n",
    "df[(df['Survival Months'] == 56) & (df['Age'] ==63)]"
   ]
  },
  {
   "cell_type": "markdown",
   "id": "ae7ccb5a",
   "metadata": {},
   "source": [
    "## Created two lists then zipped them in order to transform object columns into int columns"
   ]
  },
  {
   "cell_type": "code",
   "execution_count": 376,
   "id": "766dfbad",
   "metadata": {
    "ExecuteTime": {
     "end_time": "2023-01-21T22:03:52.922659Z",
     "start_time": "2023-01-21T22:03:52.908973Z"
    }
   },
   "outputs": [
    {
     "data": {
      "text/plain": [
       "Index(['Race', 'Marital Status', 'T Stage '], dtype='object')"
      ]
     },
     "execution_count": 376,
     "metadata": {},
     "output_type": "execute_result"
    }
   ],
   "source": [
    "liste_columns = list(df.columns)\n",
    "\n",
    "liste_columns\n",
    "\n",
    "#df.columns[[1,2,3]]"
   ]
  },
  {
   "cell_type": "code",
   "execution_count": 383,
   "id": "50abccc6",
   "metadata": {
    "ExecuteTime": {
     "end_time": "2023-01-21T22:12:44.804103Z",
     "start_time": "2023-01-21T22:12:44.788488Z"
    },
    "collapsed": true
   },
   "outputs": [
    {
     "data": {
      "text/plain": [
       "['Age',\n",
       " 0,\n",
       " 'Race',\n",
       " 1,\n",
       " 'Marital Status',\n",
       " 2,\n",
       " 'T Stage ',\n",
       " 3,\n",
       " 'N Stage',\n",
       " 4,\n",
       " '6th Stage',\n",
       " 5,\n",
       " 'differentiate',\n",
       " 6,\n",
       " 'Grade',\n",
       " 7,\n",
       " 'A Stage',\n",
       " 8,\n",
       " 'Tumor Size',\n",
       " 9,\n",
       " 'Estrogen Status',\n",
       " 10,\n",
       " 'Progesterone Status',\n",
       " 11,\n",
       " 'Regional Node Examined',\n",
       " 12,\n",
       " 'Reginol Node Positive',\n",
       " 13,\n",
       " 'Survival Months',\n",
       " 14,\n",
       " 'Status',\n",
       " 15]"
      ]
     },
     "execution_count": 383,
     "metadata": {},
     "output_type": "execute_result"
    }
   ],
   "source": [
    "idx_col = []\n",
    "\n",
    "for i in range(0,16):\n",
    "    idx_col.append(i)\n",
    "idx_col\n",
    "\n",
    "liste_columns_idx = [item for sublist in zip(liste_columns, idx_col) for item in sublist]\n",
    "\n",
    "liste_columns_idx"
   ]
  },
  {
   "cell_type": "code",
   "execution_count": 384,
   "id": "41d4e216",
   "metadata": {
    "ExecuteTime": {
     "end_time": "2023-01-21T22:17:55.668073Z",
     "start_time": "2023-01-21T22:17:55.643682Z"
    },
    "collapsed": true
   },
   "outputs": [
    {
     "ename": "TypeError",
     "evalue": "Cannot cast Index to dtype int64",
     "output_type": "error",
     "traceback": [
      "\u001b[0;31m---------------------------------------------------------------------------\u001b[0m",
      "\u001b[0;31mValueError\u001b[0m                                Traceback (most recent call last)",
      "\u001b[0;32m~/opt/anaconda3/lib/python3.9/site-packages/pandas/core/indexes/base.py\u001b[0m in \u001b[0;36mastype\u001b[0;34m(self, dtype, copy)\u001b[0m\n\u001b[1;32m    912\u001b[0m         \u001b[0;32mtry\u001b[0m\u001b[0;34m:\u001b[0m\u001b[0;34m\u001b[0m\u001b[0;34m\u001b[0m\u001b[0m\n\u001b[0;32m--> 913\u001b[0;31m             \u001b[0mcasted\u001b[0m \u001b[0;34m=\u001b[0m \u001b[0mself\u001b[0m\u001b[0;34m.\u001b[0m\u001b[0m_values\u001b[0m\u001b[0;34m.\u001b[0m\u001b[0mastype\u001b[0m\u001b[0;34m(\u001b[0m\u001b[0mdtype\u001b[0m\u001b[0;34m,\u001b[0m \u001b[0mcopy\u001b[0m\u001b[0;34m=\u001b[0m\u001b[0mcopy\u001b[0m\u001b[0;34m)\u001b[0m\u001b[0;34m\u001b[0m\u001b[0;34m\u001b[0m\u001b[0m\n\u001b[0m\u001b[1;32m    914\u001b[0m         \u001b[0;32mexcept\u001b[0m \u001b[0;34m(\u001b[0m\u001b[0mTypeError\u001b[0m\u001b[0;34m,\u001b[0m \u001b[0mValueError\u001b[0m\u001b[0;34m)\u001b[0m \u001b[0;32mas\u001b[0m \u001b[0merr\u001b[0m\u001b[0;34m:\u001b[0m\u001b[0;34m\u001b[0m\u001b[0;34m\u001b[0m\u001b[0m\n",
      "\u001b[0;31mValueError\u001b[0m: invalid literal for int() with base 10: 'Age'",
      "\nThe above exception was the direct cause of the following exception:\n",
      "\u001b[0;31mTypeError\u001b[0m                                 Traceback (most recent call last)",
      "\u001b[0;32m/var/folders/4y/3p248ngs2790s3zw19p7l4vc0000gn/T/ipykernel_54045/3389921411.py\u001b[0m in \u001b[0;36m<module>\u001b[0;34m\u001b[0m\n\u001b[0;32m----> 1\u001b[0;31m \u001b[0mdf\u001b[0m\u001b[0;34m.\u001b[0m\u001b[0mcolumns\u001b[0m\u001b[0;34m[\u001b[0m\u001b[0;34m[\u001b[0m\u001b[0;36m0\u001b[0m\u001b[0;34m,\u001b[0m\u001b[0;36m7\u001b[0m\u001b[0;34m,\u001b[0m\u001b[0;36m9\u001b[0m\u001b[0;34m,\u001b[0m\u001b[0;36m12\u001b[0m\u001b[0;34m,\u001b[0m\u001b[0;36m13\u001b[0m\u001b[0;34m,\u001b[0m\u001b[0;36m14\u001b[0m\u001b[0;34m]\u001b[0m\u001b[0;34m]\u001b[0m \u001b[0;34m=\u001b[0m \u001b[0mdf\u001b[0m\u001b[0;34m.\u001b[0m\u001b[0mcolumns\u001b[0m\u001b[0;34m[\u001b[0m\u001b[0;34m[\u001b[0m\u001b[0;36m0\u001b[0m\u001b[0;34m,\u001b[0m\u001b[0;36m7\u001b[0m\u001b[0;34m,\u001b[0m\u001b[0;36m9\u001b[0m\u001b[0;34m,\u001b[0m\u001b[0;36m12\u001b[0m\u001b[0;34m,\u001b[0m\u001b[0;36m13\u001b[0m\u001b[0;34m,\u001b[0m\u001b[0;36m14\u001b[0m\u001b[0;34m]\u001b[0m\u001b[0;34m]\u001b[0m\u001b[0;34m.\u001b[0m\u001b[0mastype\u001b[0m\u001b[0;34m(\u001b[0m\u001b[0mstr\u001b[0m\u001b[0;34m)\u001b[0m\u001b[0;34m.\u001b[0m\u001b[0mastype\u001b[0m\u001b[0;34m(\u001b[0m\u001b[0mint\u001b[0m\u001b[0;34m)\u001b[0m\u001b[0;34m\u001b[0m\u001b[0;34m\u001b[0m\u001b[0m\n\u001b[0m",
      "\u001b[0;32m~/opt/anaconda3/lib/python3.9/site-packages/pandas/core/indexes/base.py\u001b[0m in \u001b[0;36mastype\u001b[0;34m(self, dtype, copy)\u001b[0m\n\u001b[1;32m    913\u001b[0m             \u001b[0mcasted\u001b[0m \u001b[0;34m=\u001b[0m \u001b[0mself\u001b[0m\u001b[0;34m.\u001b[0m\u001b[0m_values\u001b[0m\u001b[0;34m.\u001b[0m\u001b[0mastype\u001b[0m\u001b[0;34m(\u001b[0m\u001b[0mdtype\u001b[0m\u001b[0;34m,\u001b[0m \u001b[0mcopy\u001b[0m\u001b[0;34m=\u001b[0m\u001b[0mcopy\u001b[0m\u001b[0;34m)\u001b[0m\u001b[0;34m\u001b[0m\u001b[0;34m\u001b[0m\u001b[0m\n\u001b[1;32m    914\u001b[0m         \u001b[0;32mexcept\u001b[0m \u001b[0;34m(\u001b[0m\u001b[0mTypeError\u001b[0m\u001b[0;34m,\u001b[0m \u001b[0mValueError\u001b[0m\u001b[0;34m)\u001b[0m \u001b[0;32mas\u001b[0m \u001b[0merr\u001b[0m\u001b[0;34m:\u001b[0m\u001b[0;34m\u001b[0m\u001b[0;34m\u001b[0m\u001b[0m\n\u001b[0;32m--> 915\u001b[0;31m             raise TypeError(\n\u001b[0m\u001b[1;32m    916\u001b[0m                 \u001b[0;34mf\"Cannot cast {type(self).__name__} to dtype {dtype}\"\u001b[0m\u001b[0;34m\u001b[0m\u001b[0;34m\u001b[0m\u001b[0m\n\u001b[1;32m    917\u001b[0m             ) from err\n",
      "\u001b[0;31mTypeError\u001b[0m: Cannot cast Index to dtype int64"
     ]
    }
   ],
   "source": [
    "#i thought all these columns were objects but they weren't\n",
    "\n",
    "#df.columns[[0,7,9,12,13,14]] = df.columns[[0,7,9,12,13,14]].astype(str).astype(int)"
   ]
  },
  {
   "cell_type": "markdown",
   "id": "610786b8",
   "metadata": {},
   "source": [
    "# Searching for outliers"
   ]
  },
  {
   "cell_type": "code",
   "execution_count": 23,
   "id": "ed6bf4e9",
   "metadata": {
    "ExecuteTime": {
     "end_time": "2023-01-18T20:47:30.598549Z",
     "start_time": "2023-01-18T20:47:30.562708Z"
    }
   },
   "outputs": [
    {
     "data": {
      "text/html": [
       "<div>\n",
       "<style scoped>\n",
       "    .dataframe tbody tr th:only-of-type {\n",
       "        vertical-align: middle;\n",
       "    }\n",
       "\n",
       "    .dataframe tbody tr th {\n",
       "        vertical-align: top;\n",
       "    }\n",
       "\n",
       "    .dataframe thead th {\n",
       "        text-align: right;\n",
       "    }\n",
       "</style>\n",
       "<table border=\"1\" class=\"dataframe\">\n",
       "  <thead>\n",
       "    <tr style=\"text-align: right;\">\n",
       "      <th></th>\n",
       "      <th>Age</th>\n",
       "      <th>Tumor Size</th>\n",
       "      <th>Regional Node Examined</th>\n",
       "      <th>Reginol Node Positive</th>\n",
       "      <th>Survival Months</th>\n",
       "    </tr>\n",
       "  </thead>\n",
       "  <tbody>\n",
       "    <tr>\n",
       "      <th>count</th>\n",
       "      <td>4024.000000</td>\n",
       "      <td>4024.000000</td>\n",
       "      <td>4024.000000</td>\n",
       "      <td>4024.000000</td>\n",
       "      <td>4024.000000</td>\n",
       "    </tr>\n",
       "    <tr>\n",
       "      <th>mean</th>\n",
       "      <td>53.972167</td>\n",
       "      <td>30.473658</td>\n",
       "      <td>14.357107</td>\n",
       "      <td>4.158052</td>\n",
       "      <td>71.297962</td>\n",
       "    </tr>\n",
       "    <tr>\n",
       "      <th>std</th>\n",
       "      <td>8.963134</td>\n",
       "      <td>21.119696</td>\n",
       "      <td>8.099675</td>\n",
       "      <td>5.109331</td>\n",
       "      <td>22.921430</td>\n",
       "    </tr>\n",
       "    <tr>\n",
       "      <th>min</th>\n",
       "      <td>30.000000</td>\n",
       "      <td>1.000000</td>\n",
       "      <td>1.000000</td>\n",
       "      <td>1.000000</td>\n",
       "      <td>1.000000</td>\n",
       "    </tr>\n",
       "    <tr>\n",
       "      <th>25%</th>\n",
       "      <td>47.000000</td>\n",
       "      <td>16.000000</td>\n",
       "      <td>9.000000</td>\n",
       "      <td>1.000000</td>\n",
       "      <td>56.000000</td>\n",
       "    </tr>\n",
       "    <tr>\n",
       "      <th>50%</th>\n",
       "      <td>54.000000</td>\n",
       "      <td>25.000000</td>\n",
       "      <td>14.000000</td>\n",
       "      <td>2.000000</td>\n",
       "      <td>73.000000</td>\n",
       "    </tr>\n",
       "    <tr>\n",
       "      <th>75%</th>\n",
       "      <td>61.000000</td>\n",
       "      <td>38.000000</td>\n",
       "      <td>19.000000</td>\n",
       "      <td>5.000000</td>\n",
       "      <td>90.000000</td>\n",
       "    </tr>\n",
       "    <tr>\n",
       "      <th>max</th>\n",
       "      <td>69.000000</td>\n",
       "      <td>140.000000</td>\n",
       "      <td>61.000000</td>\n",
       "      <td>46.000000</td>\n",
       "      <td>107.000000</td>\n",
       "    </tr>\n",
       "  </tbody>\n",
       "</table>\n",
       "</div>"
      ],
      "text/plain": [
       "               Age   Tumor Size  Regional Node Examined  \\\n",
       "count  4024.000000  4024.000000             4024.000000   \n",
       "mean     53.972167    30.473658               14.357107   \n",
       "std       8.963134    21.119696                8.099675   \n",
       "min      30.000000     1.000000                1.000000   \n",
       "25%      47.000000    16.000000                9.000000   \n",
       "50%      54.000000    25.000000               14.000000   \n",
       "75%      61.000000    38.000000               19.000000   \n",
       "max      69.000000   140.000000               61.000000   \n",
       "\n",
       "       Reginol Node Positive  Survival Months  \n",
       "count            4024.000000      4024.000000  \n",
       "mean                4.158052        71.297962  \n",
       "std                 5.109331        22.921430  \n",
       "min                 1.000000         1.000000  \n",
       "25%                 1.000000        56.000000  \n",
       "50%                 2.000000        73.000000  \n",
       "75%                 5.000000        90.000000  \n",
       "max                46.000000       107.000000  "
      ]
     },
     "execution_count": 23,
     "metadata": {},
     "output_type": "execute_result"
    }
   ],
   "source": [
    "df.describe()"
   ]
  },
  {
   "cell_type": "markdown",
   "id": "82a80e04",
   "metadata": {},
   "source": [
    "# Studying our data"
   ]
  },
  {
   "cell_type": "code",
   "execution_count": 156,
   "id": "26732443",
   "metadata": {
    "ExecuteTime": {
     "end_time": "2023-01-19T20:54:38.155634Z",
     "start_time": "2023-01-19T20:54:38.125559Z"
    }
   },
   "outputs": [
    {
     "data": {
      "text/html": [
       "<div>\n",
       "<style scoped>\n",
       "    .dataframe tbody tr th:only-of-type {\n",
       "        vertical-align: middle;\n",
       "    }\n",
       "\n",
       "    .dataframe tbody tr th {\n",
       "        vertical-align: top;\n",
       "    }\n",
       "\n",
       "    .dataframe thead th {\n",
       "        text-align: right;\n",
       "    }\n",
       "</style>\n",
       "<table border=\"1\" class=\"dataframe\">\n",
       "  <thead>\n",
       "    <tr style=\"text-align: right;\">\n",
       "      <th></th>\n",
       "      <th>Age</th>\n",
       "      <th>Race</th>\n",
       "      <th>Marital Status</th>\n",
       "      <th>T Stage</th>\n",
       "      <th>N Stage</th>\n",
       "      <th>6th Stage</th>\n",
       "      <th>differentiate</th>\n",
       "      <th>Grade</th>\n",
       "      <th>A Stage</th>\n",
       "      <th>Tumor Size</th>\n",
       "      <th>Estrogen Status</th>\n",
       "      <th>Progesterone Status</th>\n",
       "      <th>Regional Node Examined</th>\n",
       "      <th>Reginol Node Positive</th>\n",
       "      <th>Survival Months</th>\n",
       "      <th>Status</th>\n",
       "    </tr>\n",
       "  </thead>\n",
       "  <tbody>\n",
       "    <tr>\n",
       "      <th>360</th>\n",
       "      <td>55</td>\n",
       "      <td>White</td>\n",
       "      <td>Married</td>\n",
       "      <td>T2</td>\n",
       "      <td>N1</td>\n",
       "      <td>IIB</td>\n",
       "      <td>Poorly differentiated</td>\n",
       "      <td>3</td>\n",
       "      <td>Regional</td>\n",
       "      <td>25</td>\n",
       "      <td>Positive</td>\n",
       "      <td>Positive</td>\n",
       "      <td>10</td>\n",
       "      <td>2</td>\n",
       "      <td>53</td>\n",
       "      <td>Alive</td>\n",
       "    </tr>\n",
       "    <tr>\n",
       "      <th>289</th>\n",
       "      <td>41</td>\n",
       "      <td>White</td>\n",
       "      <td>Married</td>\n",
       "      <td>T3</td>\n",
       "      <td>N3</td>\n",
       "      <td>IIIC</td>\n",
       "      <td>Poorly differentiated</td>\n",
       "      <td>3</td>\n",
       "      <td>Regional</td>\n",
       "      <td>140</td>\n",
       "      <td>Positive</td>\n",
       "      <td>Positive</td>\n",
       "      <td>41</td>\n",
       "      <td>15</td>\n",
       "      <td>51</td>\n",
       "      <td>Dead</td>\n",
       "    </tr>\n",
       "    <tr>\n",
       "      <th>4</th>\n",
       "      <td>47</td>\n",
       "      <td>White</td>\n",
       "      <td>Married</td>\n",
       "      <td>T2</td>\n",
       "      <td>N1</td>\n",
       "      <td>IIB</td>\n",
       "      <td>Poorly differentiated</td>\n",
       "      <td>3</td>\n",
       "      <td>Regional</td>\n",
       "      <td>41</td>\n",
       "      <td>Positive</td>\n",
       "      <td>Positive</td>\n",
       "      <td>3</td>\n",
       "      <td>1</td>\n",
       "      <td>50</td>\n",
       "      <td>Alive</td>\n",
       "    </tr>\n",
       "    <tr>\n",
       "      <th>1739</th>\n",
       "      <td>57</td>\n",
       "      <td>White</td>\n",
       "      <td>Widowed</td>\n",
       "      <td>T4</td>\n",
       "      <td>N1</td>\n",
       "      <td>IIIB</td>\n",
       "      <td>Poorly differentiated</td>\n",
       "      <td>3</td>\n",
       "      <td>Regional</td>\n",
       "      <td>90</td>\n",
       "      <td>Negative</td>\n",
       "      <td>Negative</td>\n",
       "      <td>27</td>\n",
       "      <td>1</td>\n",
       "      <td>94</td>\n",
       "      <td>Alive</td>\n",
       "    </tr>\n",
       "    <tr>\n",
       "      <th>2009</th>\n",
       "      <td>35</td>\n",
       "      <td>White</td>\n",
       "      <td>Married</td>\n",
       "      <td>T2</td>\n",
       "      <td>N1</td>\n",
       "      <td>IIB</td>\n",
       "      <td>Poorly differentiated</td>\n",
       "      <td>3</td>\n",
       "      <td>Regional</td>\n",
       "      <td>30</td>\n",
       "      <td>Positive</td>\n",
       "      <td>Positive</td>\n",
       "      <td>9</td>\n",
       "      <td>1</td>\n",
       "      <td>56</td>\n",
       "      <td>Alive</td>\n",
       "    </tr>\n",
       "    <tr>\n",
       "      <th>492</th>\n",
       "      <td>54</td>\n",
       "      <td>White</td>\n",
       "      <td>Married</td>\n",
       "      <td>T1</td>\n",
       "      <td>N1</td>\n",
       "      <td>IIA</td>\n",
       "      <td>Poorly differentiated</td>\n",
       "      <td>3</td>\n",
       "      <td>Regional</td>\n",
       "      <td>16</td>\n",
       "      <td>Positive</td>\n",
       "      <td>Negative</td>\n",
       "      <td>7</td>\n",
       "      <td>3</td>\n",
       "      <td>67</td>\n",
       "      <td>Alive</td>\n",
       "    </tr>\n",
       "    <tr>\n",
       "      <th>114</th>\n",
       "      <td>54</td>\n",
       "      <td>White</td>\n",
       "      <td>Married</td>\n",
       "      <td>T3</td>\n",
       "      <td>N2</td>\n",
       "      <td>IIIA</td>\n",
       "      <td>Moderately differentiated</td>\n",
       "      <td>2</td>\n",
       "      <td>Regional</td>\n",
       "      <td>51</td>\n",
       "      <td>Positive</td>\n",
       "      <td>Positive</td>\n",
       "      <td>6</td>\n",
       "      <td>5</td>\n",
       "      <td>103</td>\n",
       "      <td>Alive</td>\n",
       "    </tr>\n",
       "    <tr>\n",
       "      <th>3024</th>\n",
       "      <td>67</td>\n",
       "      <td>White</td>\n",
       "      <td>Separated</td>\n",
       "      <td>T1</td>\n",
       "      <td>N1</td>\n",
       "      <td>IIA</td>\n",
       "      <td>Moderately differentiated</td>\n",
       "      <td>2</td>\n",
       "      <td>Regional</td>\n",
       "      <td>15</td>\n",
       "      <td>Positive</td>\n",
       "      <td>Positive</td>\n",
       "      <td>24</td>\n",
       "      <td>2</td>\n",
       "      <td>80</td>\n",
       "      <td>Dead</td>\n",
       "    </tr>\n",
       "    <tr>\n",
       "      <th>334</th>\n",
       "      <td>53</td>\n",
       "      <td>White</td>\n",
       "      <td>Widowed</td>\n",
       "      <td>T2</td>\n",
       "      <td>N1</td>\n",
       "      <td>IIB</td>\n",
       "      <td>Well differentiated</td>\n",
       "      <td>1</td>\n",
       "      <td>Regional</td>\n",
       "      <td>32</td>\n",
       "      <td>Positive</td>\n",
       "      <td>Positive</td>\n",
       "      <td>13</td>\n",
       "      <td>1</td>\n",
       "      <td>68</td>\n",
       "      <td>Alive</td>\n",
       "    </tr>\n",
       "    <tr>\n",
       "      <th>485</th>\n",
       "      <td>64</td>\n",
       "      <td>White</td>\n",
       "      <td>Married</td>\n",
       "      <td>T1</td>\n",
       "      <td>N1</td>\n",
       "      <td>IIA</td>\n",
       "      <td>Moderately differentiated</td>\n",
       "      <td>2</td>\n",
       "      <td>Regional</td>\n",
       "      <td>19</td>\n",
       "      <td>Positive</td>\n",
       "      <td>Positive</td>\n",
       "      <td>23</td>\n",
       "      <td>1</td>\n",
       "      <td>81</td>\n",
       "      <td>Alive</td>\n",
       "    </tr>\n",
       "    <tr>\n",
       "      <th>1524</th>\n",
       "      <td>62</td>\n",
       "      <td>White</td>\n",
       "      <td>Married</td>\n",
       "      <td>T2</td>\n",
       "      <td>N1</td>\n",
       "      <td>IIB</td>\n",
       "      <td>Well differentiated</td>\n",
       "      <td>1</td>\n",
       "      <td>Regional</td>\n",
       "      <td>28</td>\n",
       "      <td>Positive</td>\n",
       "      <td>Positive</td>\n",
       "      <td>19</td>\n",
       "      <td>1</td>\n",
       "      <td>89</td>\n",
       "      <td>Alive</td>\n",
       "    </tr>\n",
       "    <tr>\n",
       "      <th>3838</th>\n",
       "      <td>66</td>\n",
       "      <td>White</td>\n",
       "      <td>Married</td>\n",
       "      <td>T4</td>\n",
       "      <td>N3</td>\n",
       "      <td>IIIC</td>\n",
       "      <td>Moderately differentiated</td>\n",
       "      <td>2</td>\n",
       "      <td>Regional</td>\n",
       "      <td>65</td>\n",
       "      <td>Positive</td>\n",
       "      <td>Positive</td>\n",
       "      <td>19</td>\n",
       "      <td>19</td>\n",
       "      <td>20</td>\n",
       "      <td>Dead</td>\n",
       "    </tr>\n",
       "    <tr>\n",
       "      <th>1747</th>\n",
       "      <td>57</td>\n",
       "      <td>White</td>\n",
       "      <td>Divorced</td>\n",
       "      <td>T1</td>\n",
       "      <td>N1</td>\n",
       "      <td>IIA</td>\n",
       "      <td>Moderately differentiated</td>\n",
       "      <td>2</td>\n",
       "      <td>Regional</td>\n",
       "      <td>14</td>\n",
       "      <td>Positive</td>\n",
       "      <td>Positive</td>\n",
       "      <td>9</td>\n",
       "      <td>1</td>\n",
       "      <td>96</td>\n",
       "      <td>Alive</td>\n",
       "    </tr>\n",
       "    <tr>\n",
       "      <th>2985</th>\n",
       "      <td>67</td>\n",
       "      <td>White</td>\n",
       "      <td>Widowed</td>\n",
       "      <td>T2</td>\n",
       "      <td>N1</td>\n",
       "      <td>IIB</td>\n",
       "      <td>Moderately differentiated</td>\n",
       "      <td>2</td>\n",
       "      <td>Regional</td>\n",
       "      <td>35</td>\n",
       "      <td>Positive</td>\n",
       "      <td>Negative</td>\n",
       "      <td>13</td>\n",
       "      <td>1</td>\n",
       "      <td>60</td>\n",
       "      <td>Alive</td>\n",
       "    </tr>\n",
       "    <tr>\n",
       "      <th>855</th>\n",
       "      <td>56</td>\n",
       "      <td>White</td>\n",
       "      <td>Married</td>\n",
       "      <td>T2</td>\n",
       "      <td>N2</td>\n",
       "      <td>IIIA</td>\n",
       "      <td>Poorly differentiated</td>\n",
       "      <td>3</td>\n",
       "      <td>Regional</td>\n",
       "      <td>29</td>\n",
       "      <td>Positive</td>\n",
       "      <td>Positive</td>\n",
       "      <td>25</td>\n",
       "      <td>8</td>\n",
       "      <td>107</td>\n",
       "      <td>Alive</td>\n",
       "    </tr>\n",
       "    <tr>\n",
       "      <th>2982</th>\n",
       "      <td>53</td>\n",
       "      <td>White</td>\n",
       "      <td>Single</td>\n",
       "      <td>T1</td>\n",
       "      <td>N1</td>\n",
       "      <td>IIA</td>\n",
       "      <td>Moderately differentiated</td>\n",
       "      <td>2</td>\n",
       "      <td>Regional</td>\n",
       "      <td>15</td>\n",
       "      <td>Positive</td>\n",
       "      <td>Positive</td>\n",
       "      <td>23</td>\n",
       "      <td>1</td>\n",
       "      <td>80</td>\n",
       "      <td>Alive</td>\n",
       "    </tr>\n",
       "    <tr>\n",
       "      <th>1634</th>\n",
       "      <td>47</td>\n",
       "      <td>White</td>\n",
       "      <td>Divorced</td>\n",
       "      <td>T2</td>\n",
       "      <td>N1</td>\n",
       "      <td>IIB</td>\n",
       "      <td>Poorly differentiated</td>\n",
       "      <td>3</td>\n",
       "      <td>Regional</td>\n",
       "      <td>32</td>\n",
       "      <td>Positive</td>\n",
       "      <td>Positive</td>\n",
       "      <td>17</td>\n",
       "      <td>2</td>\n",
       "      <td>92</td>\n",
       "      <td>Alive</td>\n",
       "    </tr>\n",
       "    <tr>\n",
       "      <th>683</th>\n",
       "      <td>46</td>\n",
       "      <td>White</td>\n",
       "      <td>Divorced</td>\n",
       "      <td>T1</td>\n",
       "      <td>N2</td>\n",
       "      <td>IIIA</td>\n",
       "      <td>Moderately differentiated</td>\n",
       "      <td>2</td>\n",
       "      <td>Regional</td>\n",
       "      <td>15</td>\n",
       "      <td>Positive</td>\n",
       "      <td>Positive</td>\n",
       "      <td>9</td>\n",
       "      <td>5</td>\n",
       "      <td>73</td>\n",
       "      <td>Dead</td>\n",
       "    </tr>\n",
       "    <tr>\n",
       "      <th>1971</th>\n",
       "      <td>38</td>\n",
       "      <td>White</td>\n",
       "      <td>Married</td>\n",
       "      <td>T2</td>\n",
       "      <td>N1</td>\n",
       "      <td>IIB</td>\n",
       "      <td>Moderately differentiated</td>\n",
       "      <td>2</td>\n",
       "      <td>Regional</td>\n",
       "      <td>45</td>\n",
       "      <td>Positive</td>\n",
       "      <td>Positive</td>\n",
       "      <td>14</td>\n",
       "      <td>3</td>\n",
       "      <td>66</td>\n",
       "      <td>Alive</td>\n",
       "    </tr>\n",
       "    <tr>\n",
       "      <th>199</th>\n",
       "      <td>47</td>\n",
       "      <td>White</td>\n",
       "      <td>Married</td>\n",
       "      <td>T2</td>\n",
       "      <td>N1</td>\n",
       "      <td>IIB</td>\n",
       "      <td>Poorly differentiated</td>\n",
       "      <td>3</td>\n",
       "      <td>Regional</td>\n",
       "      <td>25</td>\n",
       "      <td>Positive</td>\n",
       "      <td>Positive</td>\n",
       "      <td>11</td>\n",
       "      <td>2</td>\n",
       "      <td>103</td>\n",
       "      <td>Alive</td>\n",
       "    </tr>\n",
       "    <tr>\n",
       "      <th>617</th>\n",
       "      <td>61</td>\n",
       "      <td>White</td>\n",
       "      <td>Married</td>\n",
       "      <td>T2</td>\n",
       "      <td>N1</td>\n",
       "      <td>IIB</td>\n",
       "      <td>Well differentiated</td>\n",
       "      <td>1</td>\n",
       "      <td>Regional</td>\n",
       "      <td>21</td>\n",
       "      <td>Positive</td>\n",
       "      <td>Positive</td>\n",
       "      <td>2</td>\n",
       "      <td>1</td>\n",
       "      <td>72</td>\n",
       "      <td>Alive</td>\n",
       "    </tr>\n",
       "    <tr>\n",
       "      <th>1611</th>\n",
       "      <td>59</td>\n",
       "      <td>White</td>\n",
       "      <td>Married</td>\n",
       "      <td>T1</td>\n",
       "      <td>N1</td>\n",
       "      <td>IIA</td>\n",
       "      <td>Well differentiated</td>\n",
       "      <td>1</td>\n",
       "      <td>Regional</td>\n",
       "      <td>15</td>\n",
       "      <td>Positive</td>\n",
       "      <td>Positive</td>\n",
       "      <td>20</td>\n",
       "      <td>1</td>\n",
       "      <td>76</td>\n",
       "      <td>Alive</td>\n",
       "    </tr>\n",
       "    <tr>\n",
       "      <th>1988</th>\n",
       "      <td>50</td>\n",
       "      <td>White</td>\n",
       "      <td>Married</td>\n",
       "      <td>T2</td>\n",
       "      <td>N1</td>\n",
       "      <td>IIB</td>\n",
       "      <td>Moderately differentiated</td>\n",
       "      <td>2</td>\n",
       "      <td>Regional</td>\n",
       "      <td>25</td>\n",
       "      <td>Positive</td>\n",
       "      <td>Positive</td>\n",
       "      <td>17</td>\n",
       "      <td>3</td>\n",
       "      <td>69</td>\n",
       "      <td>Alive</td>\n",
       "    </tr>\n",
       "    <tr>\n",
       "      <th>2762</th>\n",
       "      <td>56</td>\n",
       "      <td>White</td>\n",
       "      <td>Divorced</td>\n",
       "      <td>T4</td>\n",
       "      <td>N2</td>\n",
       "      <td>IIIB</td>\n",
       "      <td>Moderately differentiated</td>\n",
       "      <td>2</td>\n",
       "      <td>Regional</td>\n",
       "      <td>35</td>\n",
       "      <td>Positive</td>\n",
       "      <td>Positive</td>\n",
       "      <td>6</td>\n",
       "      <td>5</td>\n",
       "      <td>66</td>\n",
       "      <td>Alive</td>\n",
       "    </tr>\n",
       "    <tr>\n",
       "      <th>1774</th>\n",
       "      <td>53</td>\n",
       "      <td>Black</td>\n",
       "      <td>Married</td>\n",
       "      <td>T1</td>\n",
       "      <td>N1</td>\n",
       "      <td>IIA</td>\n",
       "      <td>Moderately differentiated</td>\n",
       "      <td>2</td>\n",
       "      <td>Regional</td>\n",
       "      <td>20</td>\n",
       "      <td>Positive</td>\n",
       "      <td>Positive</td>\n",
       "      <td>9</td>\n",
       "      <td>2</td>\n",
       "      <td>61</td>\n",
       "      <td>Alive</td>\n",
       "    </tr>\n",
       "    <tr>\n",
       "      <th>654</th>\n",
       "      <td>45</td>\n",
       "      <td>Other</td>\n",
       "      <td>Separated</td>\n",
       "      <td>T3</td>\n",
       "      <td>N1</td>\n",
       "      <td>IIIA</td>\n",
       "      <td>Poorly differentiated</td>\n",
       "      <td>3</td>\n",
       "      <td>Regional</td>\n",
       "      <td>58</td>\n",
       "      <td>Negative</td>\n",
       "      <td>Negative</td>\n",
       "      <td>26</td>\n",
       "      <td>2</td>\n",
       "      <td>64</td>\n",
       "      <td>Alive</td>\n",
       "    </tr>\n",
       "    <tr>\n",
       "      <th>604</th>\n",
       "      <td>54</td>\n",
       "      <td>White</td>\n",
       "      <td>Single</td>\n",
       "      <td>T2</td>\n",
       "      <td>N1</td>\n",
       "      <td>IIB</td>\n",
       "      <td>Poorly differentiated</td>\n",
       "      <td>3</td>\n",
       "      <td>Regional</td>\n",
       "      <td>25</td>\n",
       "      <td>Negative</td>\n",
       "      <td>Negative</td>\n",
       "      <td>22</td>\n",
       "      <td>1</td>\n",
       "      <td>93</td>\n",
       "      <td>Alive</td>\n",
       "    </tr>\n",
       "    <tr>\n",
       "      <th>3921</th>\n",
       "      <td>68</td>\n",
       "      <td>White</td>\n",
       "      <td>Divorced</td>\n",
       "      <td>T1</td>\n",
       "      <td>N1</td>\n",
       "      <td>IIA</td>\n",
       "      <td>Poorly differentiated</td>\n",
       "      <td>3</td>\n",
       "      <td>Regional</td>\n",
       "      <td>15</td>\n",
       "      <td>Positive</td>\n",
       "      <td>Positive</td>\n",
       "      <td>9</td>\n",
       "      <td>2</td>\n",
       "      <td>74</td>\n",
       "      <td>Alive</td>\n",
       "    </tr>\n",
       "    <tr>\n",
       "      <th>3702</th>\n",
       "      <td>34</td>\n",
       "      <td>White</td>\n",
       "      <td>Single</td>\n",
       "      <td>T2</td>\n",
       "      <td>N2</td>\n",
       "      <td>IIIA</td>\n",
       "      <td>Moderately differentiated</td>\n",
       "      <td>2</td>\n",
       "      <td>Regional</td>\n",
       "      <td>40</td>\n",
       "      <td>Positive</td>\n",
       "      <td>Positive</td>\n",
       "      <td>21</td>\n",
       "      <td>6</td>\n",
       "      <td>12</td>\n",
       "      <td>Alive</td>\n",
       "    </tr>\n",
       "    <tr>\n",
       "      <th>1294</th>\n",
       "      <td>46</td>\n",
       "      <td>White</td>\n",
       "      <td>Married</td>\n",
       "      <td>T1</td>\n",
       "      <td>N1</td>\n",
       "      <td>IIA</td>\n",
       "      <td>Moderately differentiated</td>\n",
       "      <td>2</td>\n",
       "      <td>Regional</td>\n",
       "      <td>20</td>\n",
       "      <td>Positive</td>\n",
       "      <td>Positive</td>\n",
       "      <td>6</td>\n",
       "      <td>2</td>\n",
       "      <td>58</td>\n",
       "      <td>Alive</td>\n",
       "    </tr>\n",
       "    <tr>\n",
       "      <th>1248</th>\n",
       "      <td>57</td>\n",
       "      <td>Other</td>\n",
       "      <td>Married</td>\n",
       "      <td>T1</td>\n",
       "      <td>N1</td>\n",
       "      <td>IIA</td>\n",
       "      <td>Well differentiated</td>\n",
       "      <td>1</td>\n",
       "      <td>Regional</td>\n",
       "      <td>15</td>\n",
       "      <td>Positive</td>\n",
       "      <td>Positive</td>\n",
       "      <td>20</td>\n",
       "      <td>3</td>\n",
       "      <td>84</td>\n",
       "      <td>Alive</td>\n",
       "    </tr>\n",
       "    <tr>\n",
       "      <th>3252</th>\n",
       "      <td>66</td>\n",
       "      <td>Other</td>\n",
       "      <td>Widowed</td>\n",
       "      <td>T2</td>\n",
       "      <td>N1</td>\n",
       "      <td>IIB</td>\n",
       "      <td>Moderately differentiated</td>\n",
       "      <td>2</td>\n",
       "      <td>Regional</td>\n",
       "      <td>47</td>\n",
       "      <td>Positive</td>\n",
       "      <td>Positive</td>\n",
       "      <td>2</td>\n",
       "      <td>1</td>\n",
       "      <td>84</td>\n",
       "      <td>Alive</td>\n",
       "    </tr>\n",
       "    <tr>\n",
       "      <th>443</th>\n",
       "      <td>49</td>\n",
       "      <td>White</td>\n",
       "      <td>Married</td>\n",
       "      <td>T1</td>\n",
       "      <td>N1</td>\n",
       "      <td>IIA</td>\n",
       "      <td>Moderately differentiated</td>\n",
       "      <td>2</td>\n",
       "      <td>Regional</td>\n",
       "      <td>18</td>\n",
       "      <td>Positive</td>\n",
       "      <td>Positive</td>\n",
       "      <td>29</td>\n",
       "      <td>2</td>\n",
       "      <td>74</td>\n",
       "      <td>Alive</td>\n",
       "    </tr>\n",
       "    <tr>\n",
       "      <th>278</th>\n",
       "      <td>67</td>\n",
       "      <td>White</td>\n",
       "      <td>Married</td>\n",
       "      <td>T1</td>\n",
       "      <td>N1</td>\n",
       "      <td>IIA</td>\n",
       "      <td>Well differentiated</td>\n",
       "      <td>1</td>\n",
       "      <td>Regional</td>\n",
       "      <td>20</td>\n",
       "      <td>Positive</td>\n",
       "      <td>Positive</td>\n",
       "      <td>14</td>\n",
       "      <td>2</td>\n",
       "      <td>99</td>\n",
       "      <td>Alive</td>\n",
       "    </tr>\n",
       "    <tr>\n",
       "      <th>922</th>\n",
       "      <td>49</td>\n",
       "      <td>White</td>\n",
       "      <td>Married</td>\n",
       "      <td>T3</td>\n",
       "      <td>N3</td>\n",
       "      <td>IIIC</td>\n",
       "      <td>Moderately differentiated</td>\n",
       "      <td>2</td>\n",
       "      <td>Regional</td>\n",
       "      <td>92</td>\n",
       "      <td>Positive</td>\n",
       "      <td>Positive</td>\n",
       "      <td>27</td>\n",
       "      <td>27</td>\n",
       "      <td>23</td>\n",
       "      <td>Dead</td>\n",
       "    </tr>\n",
       "    <tr>\n",
       "      <th>1030</th>\n",
       "      <td>69</td>\n",
       "      <td>White</td>\n",
       "      <td>Married</td>\n",
       "      <td>T1</td>\n",
       "      <td>N1</td>\n",
       "      <td>IIA</td>\n",
       "      <td>Well differentiated</td>\n",
       "      <td>1</td>\n",
       "      <td>Regional</td>\n",
       "      <td>10</td>\n",
       "      <td>Positive</td>\n",
       "      <td>Positive</td>\n",
       "      <td>15</td>\n",
       "      <td>1</td>\n",
       "      <td>83</td>\n",
       "      <td>Alive</td>\n",
       "    </tr>\n",
       "    <tr>\n",
       "      <th>3290</th>\n",
       "      <td>50</td>\n",
       "      <td>White</td>\n",
       "      <td>Married</td>\n",
       "      <td>T1</td>\n",
       "      <td>N2</td>\n",
       "      <td>IIIA</td>\n",
       "      <td>Moderately differentiated</td>\n",
       "      <td>2</td>\n",
       "      <td>Regional</td>\n",
       "      <td>14</td>\n",
       "      <td>Positive</td>\n",
       "      <td>Positive</td>\n",
       "      <td>13</td>\n",
       "      <td>5</td>\n",
       "      <td>33</td>\n",
       "      <td>Alive</td>\n",
       "    </tr>\n",
       "    <tr>\n",
       "      <th>1320</th>\n",
       "      <td>31</td>\n",
       "      <td>White</td>\n",
       "      <td>Married</td>\n",
       "      <td>T3</td>\n",
       "      <td>N3</td>\n",
       "      <td>IIIC</td>\n",
       "      <td>Poorly differentiated</td>\n",
       "      <td>3</td>\n",
       "      <td>Regional</td>\n",
       "      <td>60</td>\n",
       "      <td>Positive</td>\n",
       "      <td>Negative</td>\n",
       "      <td>30</td>\n",
       "      <td>12</td>\n",
       "      <td>46</td>\n",
       "      <td>Dead</td>\n",
       "    </tr>\n",
       "    <tr>\n",
       "      <th>927</th>\n",
       "      <td>45</td>\n",
       "      <td>Black</td>\n",
       "      <td>Separated</td>\n",
       "      <td>T2</td>\n",
       "      <td>N1</td>\n",
       "      <td>IIB</td>\n",
       "      <td>Well differentiated</td>\n",
       "      <td>1</td>\n",
       "      <td>Regional</td>\n",
       "      <td>50</td>\n",
       "      <td>Positive</td>\n",
       "      <td>Negative</td>\n",
       "      <td>5</td>\n",
       "      <td>3</td>\n",
       "      <td>65</td>\n",
       "      <td>Alive</td>\n",
       "    </tr>\n",
       "    <tr>\n",
       "      <th>3239</th>\n",
       "      <td>50</td>\n",
       "      <td>White</td>\n",
       "      <td>Married</td>\n",
       "      <td>T2</td>\n",
       "      <td>N1</td>\n",
       "      <td>IIB</td>\n",
       "      <td>Moderately differentiated</td>\n",
       "      <td>2</td>\n",
       "      <td>Regional</td>\n",
       "      <td>30</td>\n",
       "      <td>Positive</td>\n",
       "      <td>Positive</td>\n",
       "      <td>9</td>\n",
       "      <td>3</td>\n",
       "      <td>38</td>\n",
       "      <td>Dead</td>\n",
       "    </tr>\n",
       "    <tr>\n",
       "      <th>1263</th>\n",
       "      <td>65</td>\n",
       "      <td>White</td>\n",
       "      <td>Married</td>\n",
       "      <td>T2</td>\n",
       "      <td>N1</td>\n",
       "      <td>IIB</td>\n",
       "      <td>Moderately differentiated</td>\n",
       "      <td>2</td>\n",
       "      <td>Regional</td>\n",
       "      <td>38</td>\n",
       "      <td>Positive</td>\n",
       "      <td>Positive</td>\n",
       "      <td>3</td>\n",
       "      <td>3</td>\n",
       "      <td>98</td>\n",
       "      <td>Dead</td>\n",
       "    </tr>\n",
       "    <tr>\n",
       "      <th>1346</th>\n",
       "      <td>47</td>\n",
       "      <td>Other</td>\n",
       "      <td>Married</td>\n",
       "      <td>T3</td>\n",
       "      <td>N1</td>\n",
       "      <td>IIIA</td>\n",
       "      <td>Moderately differentiated</td>\n",
       "      <td>2</td>\n",
       "      <td>Regional</td>\n",
       "      <td>80</td>\n",
       "      <td>Positive</td>\n",
       "      <td>Positive</td>\n",
       "      <td>21</td>\n",
       "      <td>4</td>\n",
       "      <td>30</td>\n",
       "      <td>Dead</td>\n",
       "    </tr>\n",
       "    <tr>\n",
       "      <th>379</th>\n",
       "      <td>58</td>\n",
       "      <td>White</td>\n",
       "      <td>Married</td>\n",
       "      <td>T3</td>\n",
       "      <td>N2</td>\n",
       "      <td>IIIA</td>\n",
       "      <td>Moderately differentiated</td>\n",
       "      <td>2</td>\n",
       "      <td>Regional</td>\n",
       "      <td>90</td>\n",
       "      <td>Positive</td>\n",
       "      <td>Positive</td>\n",
       "      <td>15</td>\n",
       "      <td>9</td>\n",
       "      <td>100</td>\n",
       "      <td>Dead</td>\n",
       "    </tr>\n",
       "    <tr>\n",
       "      <th>3781</th>\n",
       "      <td>37</td>\n",
       "      <td>White</td>\n",
       "      <td>Married</td>\n",
       "      <td>T1</td>\n",
       "      <td>N1</td>\n",
       "      <td>IIA</td>\n",
       "      <td>Moderately differentiated</td>\n",
       "      <td>2</td>\n",
       "      <td>Regional</td>\n",
       "      <td>7</td>\n",
       "      <td>Positive</td>\n",
       "      <td>Positive</td>\n",
       "      <td>16</td>\n",
       "      <td>2</td>\n",
       "      <td>75</td>\n",
       "      <td>Alive</td>\n",
       "    </tr>\n",
       "    <tr>\n",
       "      <th>3634</th>\n",
       "      <td>57</td>\n",
       "      <td>White</td>\n",
       "      <td>Divorced</td>\n",
       "      <td>T1</td>\n",
       "      <td>N1</td>\n",
       "      <td>IIA</td>\n",
       "      <td>Moderately differentiated</td>\n",
       "      <td>2</td>\n",
       "      <td>Regional</td>\n",
       "      <td>13</td>\n",
       "      <td>Positive</td>\n",
       "      <td>Positive</td>\n",
       "      <td>2</td>\n",
       "      <td>1</td>\n",
       "      <td>101</td>\n",
       "      <td>Alive</td>\n",
       "    </tr>\n",
       "    <tr>\n",
       "      <th>1878</th>\n",
       "      <td>56</td>\n",
       "      <td>White</td>\n",
       "      <td>Married</td>\n",
       "      <td>T1</td>\n",
       "      <td>N2</td>\n",
       "      <td>IIIA</td>\n",
       "      <td>Moderately differentiated</td>\n",
       "      <td>2</td>\n",
       "      <td>Regional</td>\n",
       "      <td>20</td>\n",
       "      <td>Positive</td>\n",
       "      <td>Positive</td>\n",
       "      <td>12</td>\n",
       "      <td>7</td>\n",
       "      <td>74</td>\n",
       "      <td>Alive</td>\n",
       "    </tr>\n",
       "    <tr>\n",
       "      <th>3058</th>\n",
       "      <td>49</td>\n",
       "      <td>White</td>\n",
       "      <td>Married</td>\n",
       "      <td>T2</td>\n",
       "      <td>N1</td>\n",
       "      <td>IIB</td>\n",
       "      <td>Moderately differentiated</td>\n",
       "      <td>2</td>\n",
       "      <td>Regional</td>\n",
       "      <td>35</td>\n",
       "      <td>Positive</td>\n",
       "      <td>Positive</td>\n",
       "      <td>24</td>\n",
       "      <td>3</td>\n",
       "      <td>64</td>\n",
       "      <td>Alive</td>\n",
       "    </tr>\n",
       "    <tr>\n",
       "      <th>3998</th>\n",
       "      <td>68</td>\n",
       "      <td>White</td>\n",
       "      <td>Divorced</td>\n",
       "      <td>T1</td>\n",
       "      <td>N1</td>\n",
       "      <td>IIA</td>\n",
       "      <td>Well differentiated</td>\n",
       "      <td>1</td>\n",
       "      <td>Regional</td>\n",
       "      <td>18</td>\n",
       "      <td>Positive</td>\n",
       "      <td>Positive</td>\n",
       "      <td>11</td>\n",
       "      <td>1</td>\n",
       "      <td>100</td>\n",
       "      <td>Alive</td>\n",
       "    </tr>\n",
       "    <tr>\n",
       "      <th>2361</th>\n",
       "      <td>45</td>\n",
       "      <td>White</td>\n",
       "      <td>Married</td>\n",
       "      <td>T1</td>\n",
       "      <td>N1</td>\n",
       "      <td>IIA</td>\n",
       "      <td>Poorly differentiated</td>\n",
       "      <td>3</td>\n",
       "      <td>Regional</td>\n",
       "      <td>20</td>\n",
       "      <td>Negative</td>\n",
       "      <td>Negative</td>\n",
       "      <td>18</td>\n",
       "      <td>2</td>\n",
       "      <td>37</td>\n",
       "      <td>Dead</td>\n",
       "    </tr>\n",
       "    <tr>\n",
       "      <th>1979</th>\n",
       "      <td>67</td>\n",
       "      <td>White</td>\n",
       "      <td>Widowed</td>\n",
       "      <td>T1</td>\n",
       "      <td>N3</td>\n",
       "      <td>IIIC</td>\n",
       "      <td>Moderately differentiated</td>\n",
       "      <td>2</td>\n",
       "      <td>Regional</td>\n",
       "      <td>10</td>\n",
       "      <td>Positive</td>\n",
       "      <td>Positive</td>\n",
       "      <td>29</td>\n",
       "      <td>13</td>\n",
       "      <td>102</td>\n",
       "      <td>Alive</td>\n",
       "    </tr>\n",
       "  </tbody>\n",
       "</table>\n",
       "</div>"
      ],
      "text/plain": [
       "      Age   Race Marital Status T Stage  N Stage 6th Stage  \\\n",
       "360    55  White        Married       T2      N1       IIB   \n",
       "289    41  White        Married       T3      N3      IIIC   \n",
       "4      47  White        Married       T2      N1       IIB   \n",
       "1739   57  White        Widowed       T4      N1      IIIB   \n",
       "2009   35  White        Married       T2      N1       IIB   \n",
       "492    54  White        Married       T1      N1       IIA   \n",
       "114    54  White        Married       T3      N2      IIIA   \n",
       "3024   67  White      Separated       T1      N1       IIA   \n",
       "334    53  White        Widowed       T2      N1       IIB   \n",
       "485    64  White        Married       T1      N1       IIA   \n",
       "1524   62  White        Married       T2      N1       IIB   \n",
       "3838   66  White        Married       T4      N3      IIIC   \n",
       "1747   57  White       Divorced       T1      N1       IIA   \n",
       "2985   67  White        Widowed       T2      N1       IIB   \n",
       "855    56  White        Married       T2      N2      IIIA   \n",
       "2982   53  White        Single        T1      N1       IIA   \n",
       "1634   47  White       Divorced       T2      N1       IIB   \n",
       "683    46  White       Divorced       T1      N2      IIIA   \n",
       "1971   38  White        Married       T2      N1       IIB   \n",
       "199    47  White        Married       T2      N1       IIB   \n",
       "617    61  White        Married       T2      N1       IIB   \n",
       "1611   59  White        Married       T1      N1       IIA   \n",
       "1988   50  White        Married       T2      N1       IIB   \n",
       "2762   56  White       Divorced       T4      N2      IIIB   \n",
       "1774   53  Black        Married       T1      N1       IIA   \n",
       "654    45  Other      Separated       T3      N1      IIIA   \n",
       "604    54  White        Single        T2      N1       IIB   \n",
       "3921   68  White       Divorced       T1      N1       IIA   \n",
       "3702   34  White        Single        T2      N2      IIIA   \n",
       "1294   46  White        Married       T1      N1       IIA   \n",
       "1248   57  Other        Married       T1      N1       IIA   \n",
       "3252   66  Other        Widowed       T2      N1       IIB   \n",
       "443    49  White        Married       T1      N1       IIA   \n",
       "278    67  White        Married       T1      N1       IIA   \n",
       "922    49  White        Married       T3      N3      IIIC   \n",
       "1030   69  White        Married       T1      N1       IIA   \n",
       "3290   50  White        Married       T1      N2      IIIA   \n",
       "1320   31  White        Married       T3      N3      IIIC   \n",
       "927    45  Black      Separated       T2      N1       IIB   \n",
       "3239   50  White        Married       T2      N1       IIB   \n",
       "1263   65  White        Married       T2      N1       IIB   \n",
       "1346   47  Other        Married       T3      N1      IIIA   \n",
       "379    58  White        Married       T3      N2      IIIA   \n",
       "3781   37  White        Married       T1      N1       IIA   \n",
       "3634   57  White       Divorced       T1      N1       IIA   \n",
       "1878   56  White        Married       T1      N2      IIIA   \n",
       "3058   49  White        Married       T2      N1       IIB   \n",
       "3998   68  White       Divorced       T1      N1       IIA   \n",
       "2361   45  White        Married       T1      N1       IIA   \n",
       "1979   67  White        Widowed       T1      N3      IIIC   \n",
       "\n",
       "                  differentiate Grade   A Stage  Tumor Size Estrogen Status  \\\n",
       "360       Poorly differentiated     3  Regional          25        Positive   \n",
       "289       Poorly differentiated     3  Regional         140        Positive   \n",
       "4         Poorly differentiated     3  Regional          41        Positive   \n",
       "1739      Poorly differentiated     3  Regional          90        Negative   \n",
       "2009      Poorly differentiated     3  Regional          30        Positive   \n",
       "492       Poorly differentiated     3  Regional          16        Positive   \n",
       "114   Moderately differentiated     2  Regional          51        Positive   \n",
       "3024  Moderately differentiated     2  Regional          15        Positive   \n",
       "334         Well differentiated     1  Regional          32        Positive   \n",
       "485   Moderately differentiated     2  Regional          19        Positive   \n",
       "1524        Well differentiated     1  Regional          28        Positive   \n",
       "3838  Moderately differentiated     2  Regional          65        Positive   \n",
       "1747  Moderately differentiated     2  Regional          14        Positive   \n",
       "2985  Moderately differentiated     2  Regional          35        Positive   \n",
       "855       Poorly differentiated     3  Regional          29        Positive   \n",
       "2982  Moderately differentiated     2  Regional          15        Positive   \n",
       "1634      Poorly differentiated     3  Regional          32        Positive   \n",
       "683   Moderately differentiated     2  Regional          15        Positive   \n",
       "1971  Moderately differentiated     2  Regional          45        Positive   \n",
       "199       Poorly differentiated     3  Regional          25        Positive   \n",
       "617         Well differentiated     1  Regional          21        Positive   \n",
       "1611        Well differentiated     1  Regional          15        Positive   \n",
       "1988  Moderately differentiated     2  Regional          25        Positive   \n",
       "2762  Moderately differentiated     2  Regional          35        Positive   \n",
       "1774  Moderately differentiated     2  Regional          20        Positive   \n",
       "654       Poorly differentiated     3  Regional          58        Negative   \n",
       "604       Poorly differentiated     3  Regional          25        Negative   \n",
       "3921      Poorly differentiated     3  Regional          15        Positive   \n",
       "3702  Moderately differentiated     2  Regional          40        Positive   \n",
       "1294  Moderately differentiated     2  Regional          20        Positive   \n",
       "1248        Well differentiated     1  Regional          15        Positive   \n",
       "3252  Moderately differentiated     2  Regional          47        Positive   \n",
       "443   Moderately differentiated     2  Regional          18        Positive   \n",
       "278         Well differentiated     1  Regional          20        Positive   \n",
       "922   Moderately differentiated     2  Regional          92        Positive   \n",
       "1030        Well differentiated     1  Regional          10        Positive   \n",
       "3290  Moderately differentiated     2  Regional          14        Positive   \n",
       "1320      Poorly differentiated     3  Regional          60        Positive   \n",
       "927         Well differentiated     1  Regional          50        Positive   \n",
       "3239  Moderately differentiated     2  Regional          30        Positive   \n",
       "1263  Moderately differentiated     2  Regional          38        Positive   \n",
       "1346  Moderately differentiated     2  Regional          80        Positive   \n",
       "379   Moderately differentiated     2  Regional          90        Positive   \n",
       "3781  Moderately differentiated     2  Regional           7        Positive   \n",
       "3634  Moderately differentiated     2  Regional          13        Positive   \n",
       "1878  Moderately differentiated     2  Regional          20        Positive   \n",
       "3058  Moderately differentiated     2  Regional          35        Positive   \n",
       "3998        Well differentiated     1  Regional          18        Positive   \n",
       "2361      Poorly differentiated     3  Regional          20        Negative   \n",
       "1979  Moderately differentiated     2  Regional          10        Positive   \n",
       "\n",
       "     Progesterone Status  Regional Node Examined  Reginol Node Positive  \\\n",
       "360             Positive                      10                      2   \n",
       "289             Positive                      41                     15   \n",
       "4               Positive                       3                      1   \n",
       "1739            Negative                      27                      1   \n",
       "2009            Positive                       9                      1   \n",
       "492             Negative                       7                      3   \n",
       "114             Positive                       6                      5   \n",
       "3024            Positive                      24                      2   \n",
       "334             Positive                      13                      1   \n",
       "485             Positive                      23                      1   \n",
       "1524            Positive                      19                      1   \n",
       "3838            Positive                      19                     19   \n",
       "1747            Positive                       9                      1   \n",
       "2985            Negative                      13                      1   \n",
       "855             Positive                      25                      8   \n",
       "2982            Positive                      23                      1   \n",
       "1634            Positive                      17                      2   \n",
       "683             Positive                       9                      5   \n",
       "1971            Positive                      14                      3   \n",
       "199             Positive                      11                      2   \n",
       "617             Positive                       2                      1   \n",
       "1611            Positive                      20                      1   \n",
       "1988            Positive                      17                      3   \n",
       "2762            Positive                       6                      5   \n",
       "1774            Positive                       9                      2   \n",
       "654             Negative                      26                      2   \n",
       "604             Negative                      22                      1   \n",
       "3921            Positive                       9                      2   \n",
       "3702            Positive                      21                      6   \n",
       "1294            Positive                       6                      2   \n",
       "1248            Positive                      20                      3   \n",
       "3252            Positive                       2                      1   \n",
       "443             Positive                      29                      2   \n",
       "278             Positive                      14                      2   \n",
       "922             Positive                      27                     27   \n",
       "1030            Positive                      15                      1   \n",
       "3290            Positive                      13                      5   \n",
       "1320            Negative                      30                     12   \n",
       "927             Negative                       5                      3   \n",
       "3239            Positive                       9                      3   \n",
       "1263            Positive                       3                      3   \n",
       "1346            Positive                      21                      4   \n",
       "379             Positive                      15                      9   \n",
       "3781            Positive                      16                      2   \n",
       "3634            Positive                       2                      1   \n",
       "1878            Positive                      12                      7   \n",
       "3058            Positive                      24                      3   \n",
       "3998            Positive                      11                      1   \n",
       "2361            Negative                      18                      2   \n",
       "1979            Positive                      29                     13   \n",
       "\n",
       "      Survival Months Status  \n",
       "360                53  Alive  \n",
       "289                51   Dead  \n",
       "4                  50  Alive  \n",
       "1739               94  Alive  \n",
       "2009               56  Alive  \n",
       "492                67  Alive  \n",
       "114               103  Alive  \n",
       "3024               80   Dead  \n",
       "334                68  Alive  \n",
       "485                81  Alive  \n",
       "1524               89  Alive  \n",
       "3838               20   Dead  \n",
       "1747               96  Alive  \n",
       "2985               60  Alive  \n",
       "855               107  Alive  \n",
       "2982               80  Alive  \n",
       "1634               92  Alive  \n",
       "683                73   Dead  \n",
       "1971               66  Alive  \n",
       "199               103  Alive  \n",
       "617                72  Alive  \n",
       "1611               76  Alive  \n",
       "1988               69  Alive  \n",
       "2762               66  Alive  \n",
       "1774               61  Alive  \n",
       "654                64  Alive  \n",
       "604                93  Alive  \n",
       "3921               74  Alive  \n",
       "3702               12  Alive  \n",
       "1294               58  Alive  \n",
       "1248               84  Alive  \n",
       "3252               84  Alive  \n",
       "443                74  Alive  \n",
       "278                99  Alive  \n",
       "922                23   Dead  \n",
       "1030               83  Alive  \n",
       "3290               33  Alive  \n",
       "1320               46   Dead  \n",
       "927                65  Alive  \n",
       "3239               38   Dead  \n",
       "1263               98   Dead  \n",
       "1346               30   Dead  \n",
       "379               100   Dead  \n",
       "3781               75  Alive  \n",
       "3634              101  Alive  \n",
       "1878               74  Alive  \n",
       "3058               64  Alive  \n",
       "3998              100  Alive  \n",
       "2361               37   Dead  \n",
       "1979              102  Alive  "
      ]
     },
     "execution_count": 156,
     "metadata": {},
     "output_type": "execute_result"
    }
   ],
   "source": [
    "df.sample(50)"
   ]
  },
  {
   "cell_type": "code",
   "execution_count": 18,
   "id": "46a2f247",
   "metadata": {
    "ExecuteTime": {
     "end_time": "2023-01-18T20:43:32.345411Z",
     "start_time": "2023-01-18T20:43:32.342178Z"
    }
   },
   "outputs": [
    {
     "data": {
      "text/plain": [
       "array(['White', 'Black', 'Other'], dtype=object)"
      ]
     },
     "execution_count": 18,
     "metadata": {},
     "output_type": "execute_result"
    }
   ],
   "source": [
    "df['Race'].unique()"
   ]
  },
  {
   "cell_type": "code",
   "execution_count": 22,
   "id": "a966b6c4",
   "metadata": {
    "ExecuteTime": {
     "end_time": "2023-01-18T20:46:09.923814Z",
     "start_time": "2023-01-18T20:46:09.910993Z"
    }
   },
   "outputs": [
    {
     "name": "stdout",
     "output_type": "stream",
     "text": [
      "3413 white patients\n",
      "291 black patients\n",
      "320 patients of other ethnicities\n"
     ]
    }
   ],
   "source": [
    "print(f\"{(df['Race'] == 'White').sum()} white patients\")\n",
    "print(f\"{(df['Race'] == 'Black').sum()} black patients\")\n",
    "print(f\"{(df['Race'] == 'Other').sum()} patients of other ethnicities\")"
   ]
  },
  {
   "cell_type": "code",
   "execution_count": 245,
   "id": "ce854c67",
   "metadata": {
    "ExecuteTime": {
     "end_time": "2023-01-19T21:49:14.524409Z",
     "start_time": "2023-01-19T21:49:14.511675Z"
    }
   },
   "outputs": [
    {
     "data": {
      "text/plain": [
       "54.32903603867565"
      ]
     },
     "execution_count": 245,
     "metadata": {},
     "output_type": "execute_result"
    }
   ],
   "source": [
    "df_white = df[df['Race'] == 'White']\n",
    "df_White = df_white \n",
    "White = df_white \n",
    "(df_white['Age']).mean() "
   ]
  },
  {
   "cell_type": "markdown",
   "id": "9fc93378",
   "metadata": {},
   "source": [
    "# Age of patients"
   ]
  },
  {
   "cell_type": "markdown",
   "id": "546124d7",
   "metadata": {},
   "source": [
    "## Mean age of our data set"
   ]
  },
  {
   "cell_type": "code",
   "execution_count": 38,
   "id": "1ea2328c",
   "metadata": {
    "ExecuteTime": {
     "end_time": "2023-01-18T20:55:13.000027Z",
     "start_time": "2023-01-18T20:55:12.990948Z"
    }
   },
   "outputs": [
    {
     "data": {
      "text/plain": [
       "53.97216699801193"
      ]
     },
     "execution_count": 38,
     "metadata": {},
     "output_type": "execute_result"
    }
   ],
   "source": [
    "(df['Age']).mean()"
   ]
  },
  {
   "cell_type": "markdown",
   "id": "593d974f",
   "metadata": {},
   "source": [
    "## Age according to race"
   ]
  },
  {
   "cell_type": "markdown",
   "id": "c3b81904",
   "metadata": {},
   "source": [
    "### Caucasian"
   ]
  },
  {
   "cell_type": "code",
   "execution_count": 40,
   "id": "2f771ae5",
   "metadata": {
    "ExecuteTime": {
     "end_time": "2023-01-18T20:57:26.440933Z",
     "start_time": "2023-01-18T20:57:26.426537Z"
    },
    "scrolled": true
   },
   "outputs": [
    {
     "data": {
      "text/plain": [
       "54.32903603867565"
      ]
     },
     "execution_count": 40,
     "metadata": {},
     "output_type": "execute_result"
    }
   ],
   "source": [
    "df_white['Age'].mean()\n",
    "\n",
    "#df_white['Age'].sample(291).mean()"
   ]
  },
  {
   "cell_type": "markdown",
   "id": "cca51f42",
   "metadata": {},
   "source": [
    "#### Age under 45"
   ]
  },
  {
   "cell_type": "code",
   "execution_count": 134,
   "id": "2a149027",
   "metadata": {
    "ExecuteTime": {
     "end_time": "2023-01-19T09:55:45.227179Z",
     "start_time": "2023-01-19T09:55:45.218320Z"
    }
   },
   "outputs": [
    {
     "data": {
      "text/plain": [
       "14.239671842953413"
      ]
     },
     "execution_count": 134,
     "metadata": {},
     "output_type": "execute_result"
    }
   ],
   "source": [
    "len(df_white[df_white['Age'] < 45]) / len(df_white)* 100"
   ]
  },
  {
   "cell_type": "code",
   "execution_count": 153,
   "id": "ae81723e",
   "metadata": {
    "ExecuteTime": {
     "end_time": "2023-01-19T11:21:25.963715Z",
     "start_time": "2023-01-19T11:21:25.952189Z"
    }
   },
   "outputs": [
    {
     "name": "stdout",
     "output_type": "stream",
     "text": [
      "survival rate for caucasian women under 45 is 85%\n"
     ]
    }
   ],
   "source": [
    "len(df_white[(df_white['Age'] < 45) & (df_white['Status'] == 'Alive')]) / len(df_white[df_white['Age'] < 45])* 100\n",
    "print(f\"survival rate for caucasian women under 45 is 85%\")"
   ]
  },
  {
   "cell_type": "markdown",
   "id": "31d9928b",
   "metadata": {},
   "source": [
    "### African-American"
   ]
  },
  {
   "cell_type": "code",
   "execution_count": 244,
   "id": "dc41ccca",
   "metadata": {
    "ExecuteTime": {
     "end_time": "2023-01-19T21:49:06.286676Z",
     "start_time": "2023-01-19T21:49:06.271747Z"
    }
   },
   "outputs": [
    {
     "data": {
      "text/plain": [
       "52.580756013745706"
      ]
     },
     "execution_count": 244,
     "metadata": {},
     "output_type": "execute_result"
    }
   ],
   "source": [
    "df_black = df[df['Race'] == 'Black']\n",
    "df_Black = df_black\n",
    "Black = df_black \n",
    "\n",
    "(df_black['Age']).mean()"
   ]
  },
  {
   "cell_type": "markdown",
   "id": "9770c965",
   "metadata": {},
   "source": [
    "#### Age under 45"
   ]
  },
  {
   "cell_type": "code",
   "execution_count": 135,
   "id": "6c29bc1b",
   "metadata": {
    "ExecuteTime": {
     "end_time": "2023-01-19T09:55:47.997071Z",
     "start_time": "2023-01-19T09:55:47.988952Z"
    }
   },
   "outputs": [
    {
     "data": {
      "text/plain": [
       "19.587628865979383"
      ]
     },
     "execution_count": 135,
     "metadata": {},
     "output_type": "execute_result"
    }
   ],
   "source": [
    "len(df_black[df_black['Age'] < 45]) / len(df_black)* 100"
   ]
  },
  {
   "cell_type": "code",
   "execution_count": 152,
   "id": "91d8d7b3",
   "metadata": {
    "ExecuteTime": {
     "end_time": "2023-01-19T11:20:49.631784Z",
     "start_time": "2023-01-19T11:20:49.615085Z"
    }
   },
   "outputs": [
    {
     "name": "stdout",
     "output_type": "stream",
     "text": [
      "survival rate for black women under 45 is 73%\n"
     ]
    }
   ],
   "source": [
    "len(df_black[(df_black['Age'] < 45) & (df_black['Status'] == 'Alive')]) / len(df_black[df_black['Age'] < 45])* 100\n",
    "print(f\"survival rate for black women under 45 is 73%\")"
   ]
  },
  {
   "cell_type": "markdown",
   "id": "defb548f",
   "metadata": {},
   "source": [
    "### Other Ethnicities"
   ]
  },
  {
   "cell_type": "code",
   "execution_count": 243,
   "id": "58299e7d",
   "metadata": {
    "ExecuteTime": {
     "end_time": "2023-01-19T21:48:58.624847Z",
     "start_time": "2023-01-19T21:48:58.608790Z"
    }
   },
   "outputs": [
    {
     "data": {
      "text/plain": [
       "51.43125"
      ]
     },
     "execution_count": 243,
     "metadata": {},
     "output_type": "execute_result"
    }
   ],
   "source": [
    "#other :American Indian/AK Native, Asian/Pacific Islander\n",
    "\n",
    "df_other = df[df['Race'] == 'Other']\n",
    "df_Other = df_other\n",
    "Other = df_other \n",
    "(df_other['Age']).mean()"
   ]
  },
  {
   "cell_type": "markdown",
   "id": "9d4c91a2",
   "metadata": {},
   "source": [
    "#### Age under 45"
   ]
  },
  {
   "cell_type": "code",
   "execution_count": 136,
   "id": "46222459",
   "metadata": {
    "ExecuteTime": {
     "end_time": "2023-01-19T09:55:51.754162Z",
     "start_time": "2023-01-19T09:55:51.745789Z"
    }
   },
   "outputs": [
    {
     "data": {
      "text/plain": [
       "25.937500000000004"
      ]
     },
     "execution_count": 136,
     "metadata": {},
     "output_type": "execute_result"
    }
   ],
   "source": [
    "len(df_other[df_other['Age'] < 45]) / len(df_other)* 100"
   ]
  },
  {
   "cell_type": "code",
   "execution_count": 151,
   "id": "454c700f",
   "metadata": {
    "ExecuteTime": {
     "end_time": "2023-01-19T11:20:19.353075Z",
     "start_time": "2023-01-19T11:20:19.340826Z"
    }
   },
   "outputs": [
    {
     "name": "stdout",
     "output_type": "stream",
     "text": [
      "survival rate for women under 45 and of other ethnicity is 89%\n"
     ]
    }
   ],
   "source": [
    "len(df_other[(df_other['Age'] < 45) & (df_other['Status'] == 'Alive')]) / len(df_other[df_other['Age'] < 45])* 100\n",
    "\n",
    "print(f\"survival rate for women under 45 and of other ethnicity is 89%\")"
   ]
  },
  {
   "cell_type": "markdown",
   "id": "aa77f944",
   "metadata": {},
   "source": [
    "## Conclusion"
   ]
  },
  {
   "cell_type": "code",
   "execution_count": 155,
   "id": "bfadf16b",
   "metadata": {
    "ExecuteTime": {
     "end_time": "2023-01-19T20:53:18.788174Z",
     "start_time": "2023-01-19T20:53:18.778122Z"
    }
   },
   "outputs": [
    {
     "name": "stdout",
     "output_type": "stream",
     "text": [
      "According to race, we can see from this survey that the mean age for cancer is highest in caucasians,then blacks and finally others. Also, the survival rate is highest in others, then caucasians with verylittle difference but there is a 10-15 point gap with black patients\n"
     ]
    }
   ],
   "source": [
    "print(f\"According to race, we can see from this survey that the mean age for cancer is highest in caucasians,\"\n",
    "     \"then blacks and finally others. Also, the survival rate is highest in others, then caucasians with very\"\n",
    "     \"little difference but there is a 10-15 point gap with black patients\")"
   ]
  },
  {
   "cell_type": "markdown",
   "id": "04bb57d9",
   "metadata": {},
   "source": [
    "## Having equal number of patients"
   ]
  },
  {
   "cell_type": "code",
   "execution_count": 44,
   "id": "d409c4ab",
   "metadata": {
    "ExecuteTime": {
     "end_time": "2023-01-18T21:04:26.037921Z",
     "start_time": "2023-01-18T21:04:26.026987Z"
    }
   },
   "outputs": [
    {
     "name": "stdout",
     "output_type": "stream",
     "text": [
      "What i will do is sample of each race equal to the smallest number represented ie the black patients who have 291 patients. From there i'll calculate the mean age to see if anything changes\n"
     ]
    }
   ],
   "source": [
    "print(f\"What i will do is sample of each race equal to the smallest number represented ie the black patients\"\n",
    "      \" who have 291 patients. From there i'll calculate the mean age to see if anything changes\")"
   ]
  },
  {
   "cell_type": "code",
   "execution_count": 45,
   "id": "fd0b2b43",
   "metadata": {
    "ExecuteTime": {
     "end_time": "2023-01-18T21:05:10.448695Z",
     "start_time": "2023-01-18T21:05:10.436599Z"
    }
   },
   "outputs": [
    {
     "data": {
      "text/plain": [
       "54.6426116838488"
      ]
     },
     "execution_count": 45,
     "metadata": {},
     "output_type": "execute_result"
    }
   ],
   "source": [
    "df_white['Age'].sample(291).mean()"
   ]
  },
  {
   "cell_type": "code",
   "execution_count": 46,
   "id": "ad6a22eb",
   "metadata": {
    "ExecuteTime": {
     "end_time": "2023-01-18T21:05:18.261581Z",
     "start_time": "2023-01-18T21:05:18.252369Z"
    }
   },
   "outputs": [
    {
     "data": {
      "text/plain": [
       "51.1958762886598"
      ]
     },
     "execution_count": 46,
     "metadata": {},
     "output_type": "execute_result"
    }
   ],
   "source": [
    "df_other['Age'].sample(291).mean()"
   ]
  },
  {
   "cell_type": "code",
   "execution_count": 47,
   "id": "c3eb8bd7",
   "metadata": {
    "ExecuteTime": {
     "end_time": "2023-01-18T21:06:45.061649Z",
     "start_time": "2023-01-18T21:06:45.052496Z"
    }
   },
   "outputs": [
    {
     "name": "stdout",
     "output_type": "stream",
     "text": [
      "Even with equal number of patients in all 3 ethnicities, we can see that the rank remains the same\n"
     ]
    }
   ],
   "source": [
    "print(f\"Even with equal number of patients in all 3 ethnicities, we can see that the rank remains the same\")"
   ]
  },
  {
   "cell_type": "markdown",
   "id": "21070534",
   "metadata": {},
   "source": [
    "## Survival rate"
   ]
  },
  {
   "cell_type": "code",
   "execution_count": 61,
   "id": "e28b8b35",
   "metadata": {
    "ExecuteTime": {
     "end_time": "2023-01-18T21:13:29.790364Z",
     "start_time": "2023-01-18T21:13:29.772408Z"
    }
   },
   "outputs": [
    {
     "data": {
      "text/plain": [
       "0.872852233676976"
      ]
     },
     "execution_count": 61,
     "metadata": {},
     "output_type": "execute_result"
    }
   ],
   "source": [
    "(df_white['Status'] == 'Alive').sum() / len(df_white)\n",
    "(df_white['Status'] == 'Alive').sample(291).sum() / len(df_white.sample(291))"
   ]
  },
  {
   "cell_type": "code",
   "execution_count": 50,
   "id": "7928fd06",
   "metadata": {
    "ExecuteTime": {
     "end_time": "2023-01-18T21:09:51.217618Z",
     "start_time": "2023-01-18T21:09:51.206749Z"
    }
   },
   "outputs": [
    {
     "data": {
      "text/plain": [
       "0.7491408934707904"
      ]
     },
     "execution_count": 50,
     "metadata": {},
     "output_type": "execute_result"
    }
   ],
   "source": [
    "(df_black['Status'] == 'Alive').sum() / len(df_black)"
   ]
  },
  {
   "cell_type": "code",
   "execution_count": 66,
   "id": "3f7c32a3",
   "metadata": {
    "ExecuteTime": {
     "end_time": "2023-01-18T21:13:54.087971Z",
     "start_time": "2023-01-18T21:13:54.071451Z"
    }
   },
   "outputs": [
    {
     "data": {
      "text/plain": [
       "0.9072164948453608"
      ]
     },
     "execution_count": 66,
     "metadata": {},
     "output_type": "execute_result"
    }
   ],
   "source": [
    "(df_other['Status'] == 'Alive').sum() / len(df_other)\n",
    "(df_other['Status'] == 'Alive').sample(291).sum() / len(df_other.sample(291))"
   ]
  },
  {
   "cell_type": "markdown",
   "id": "b1578018",
   "metadata": {},
   "source": [
    "### Survival rate according to marital status"
   ]
  },
  {
   "cell_type": "markdown",
   "id": "f01cbff6",
   "metadata": {},
   "source": [
    "#### For caucasians"
   ]
  },
  {
   "cell_type": "code",
   "execution_count": 115,
   "id": "55a4af89",
   "metadata": {
    "ExecuteTime": {
     "end_time": "2023-01-18T22:04:36.539208Z",
     "start_time": "2023-01-18T22:04:36.516758Z"
    }
   },
   "outputs": [
    {
     "data": {
      "text/plain": [
       "0.8129496402877698"
      ]
     },
     "execution_count": 115,
     "metadata": {},
     "output_type": "execute_result"
    }
   ],
   "source": [
    "len(df_white[(df_white['Status'] == 'Alive') & (df_white['Marital Status'] == 'Married')]) / len(df_white[df_white['Marital Status']== 'Married'])\n",
    "\n",
    "len(df_white[(df_white['Status'] == 'Alive') & (df_white['Marital Status'] == 'Divorced')]) / len(df_white[df_white['Marital Status']== 'Divorced'])\n",
    "\n",
    "#len(df_white[(df_white['Status'] == 'Alive') & (df_white['Marital Status'] == 'Single')]) / len(df_white[df_white['Marital Status']== 'Single'])\n",
    "\n",
    "\n",
    "\n"
   ]
  },
  {
   "cell_type": "code",
   "execution_count": 84,
   "id": "7b5169c0",
   "metadata": {
    "ExecuteTime": {
     "end_time": "2023-01-18T21:49:45.350609Z",
     "start_time": "2023-01-18T21:49:45.334820Z"
    }
   },
   "outputs": [
    {
     "data": {
      "text/plain": [
       "510"
      ]
     },
     "execution_count": 84,
     "metadata": {},
     "output_type": "execute_result"
    }
   ],
   "source": [
    "#len(df_white)\n",
    "len(df_white[df_white['Status'] =='Dead'])"
   ]
  },
  {
   "cell_type": "code",
   "execution_count": 72,
   "id": "5e1a856a",
   "metadata": {
    "ExecuteTime": {
     "end_time": "2023-01-18T21:37:23.690599Z",
     "start_time": "2023-01-18T21:37:23.683825Z"
    }
   },
   "outputs": [
    {
     "data": {
      "text/plain": [
       "2586.206896551724"
      ]
     },
     "execution_count": 72,
     "metadata": {},
     "output_type": "execute_result"
    }
   ],
   "source": [
    "75000/29"
   ]
  },
  {
   "cell_type": "markdown",
   "id": "cb9811a6",
   "metadata": {},
   "source": [
    "#### For blacks"
   ]
  },
  {
   "cell_type": "code",
   "execution_count": 106,
   "id": "b99d30a8",
   "metadata": {
    "ExecuteTime": {
     "end_time": "2023-01-18T21:59:36.419569Z",
     "start_time": "2023-01-18T21:59:36.404149Z"
    }
   },
   "outputs": [
    {
     "data": {
      "text/plain": [
       "0.831858407079646"
      ]
     },
     "execution_count": 106,
     "metadata": {},
     "output_type": "execute_result"
    }
   ],
   "source": [
    "len(df_black[(df_black['Status'] == 'Alive') & (df_black['Marital Status'] == 'Married')]) / len(df_black[df_black['Marital Status']== 'Married'])\n",
    "\n",
    "#len(df_black[(df_black['Status'] == 'Alive') & (df_black['Marital Status'] == 'Divorced')]) / len(df_black[df_black['Marital Status']== 'Divorced'])\n",
    "\n",
    "#len(df_black[(df_black['Status'] == 'Alive') & (df_black['Marital Status'] == 'Single')]) / len(df_black[df_black['Marital Status']== 'Single'])\n",
    "\n"
   ]
  },
  {
   "cell_type": "markdown",
   "id": "43b189c0",
   "metadata": {},
   "source": [
    "#### For others"
   ]
  },
  {
   "cell_type": "code",
   "execution_count": 112,
   "id": "227bb4e7",
   "metadata": {
    "ExecuteTime": {
     "end_time": "2023-01-18T22:02:02.060306Z",
     "start_time": "2023-01-18T22:02:02.044349Z"
    }
   },
   "outputs": [
    {
     "data": {
      "text/plain": [
       "0.9240506329113924"
      ]
     },
     "execution_count": 112,
     "metadata": {},
     "output_type": "execute_result"
    }
   ],
   "source": [
    "len(df_other[(df_other['Status'] == 'Alive') & (df_other['Marital Status'] == 'Married')]) / len(df_other[df_other['Marital Status']== 'Married'])\n",
    "\n",
    "#len(df_other[(df_other['Status'] == 'Alive') & (df_other['Marital Status'] == 'Divorced')]) / len(df_other[df_other['Marital Status']== 'Divorced'])\n",
    "\n",
    "#len(df_other[(df_other['Status'] == 'Alive') & (df_other['Marital Status'] == 'Single')]) / len(df_other[df_other['Marital Status']== 'Single'])"
   ]
  },
  {
   "cell_type": "code",
   "execution_count": 114,
   "id": "014f2637",
   "metadata": {
    "ExecuteTime": {
     "end_time": "2023-01-18T22:04:18.193934Z",
     "start_time": "2023-01-18T22:04:18.182895Z"
    }
   },
   "outputs": [
    {
     "name": "stdout",
     "output_type": "stream",
     "text": [
      "There are surely elements that i am missing, yet the survival rate if married is higher than if divorced. Could it be that you have more money or better moral support or none of the above.\n"
     ]
    }
   ],
   "source": [
    "print(f\"There are surely elements that i am missing, yet the survival rate if married is higher than if divorced\"\n",
    "      \". Could it be that you have more money or better moral support or none of the above.\")"
   ]
  },
  {
   "cell_type": "markdown",
   "id": "4ee183c6",
   "metadata": {},
   "source": [
    "# Grade levels death rate"
   ]
  },
  {
   "cell_type": "code",
   "execution_count": 288,
   "id": "106fcbfc",
   "metadata": {
    "ExecuteTime": {
     "end_time": "2023-01-21T20:47:05.557331Z",
     "start_time": "2023-01-21T20:47:05.526484Z"
    }
   },
   "outputs": [
    {
     "name": "stdout",
     "output_type": "stream",
     "text": [
      "Out of 3413 White women, 31 die from grade 1 cancer, which equals to 0.91% \n",
      "Out of 291 Black women, 5 die from grade 1 cancer, which equals to 1.72% \n",
      "Out of 320 Other women, 3 die from grade 1 cancer, which equals to 0.94% \n"
     ]
    }
   ],
   "source": [
    "liste_race = list((df['Race']).unique())\n",
    "\n",
    "for i in range(0,3):\n",
    "    print(f\"Out of {len(df[df['Race'] == liste_race[i]])} {liste_race[i]} women, {len(df[(df['Status'] == 'Dead') & (df['Grade']== '1') & (df['Race'] == liste_race[i])])} die from grade 1 cancer, which equals to {round(len(df[(df['Status'] == 'Dead') & (df['Grade']== '1') & (df['Race'] == liste_race[i])]) / len(df[df['Race'] == liste_race[i]]) *100,2)}% \") \n"
   ]
  },
  {
   "cell_type": "code",
   "execution_count": null,
   "id": "4022f160",
   "metadata": {},
   "outputs": [],
   "source": [
    "print(f\"{len(f\"'df_'{liste_race[0]})}\"\"\")"
   ]
  },
  {
   "cell_type": "code",
   "execution_count": 290,
   "id": "138b5dc0",
   "metadata": {
    "ExecuteTime": {
     "end_time": "2023-01-21T20:48:08.879659Z",
     "start_time": "2023-01-21T20:48:08.845437Z"
    }
   },
   "outputs": [
    {
     "name": "stdout",
     "output_type": "stream",
     "text": [
      "Out of 3413 White women, 256 die from grade 2 cancer, which equals to 7.5% \n",
      "Out of 291 Black women, 32 die from grade 2 cancer, which equals to 11.0% \n",
      "Out of 320 Other women, 17 die from grade 2 cancer, which equals to 5.31% \n"
     ]
    }
   ],
   "source": [
    "#len(df[(df['Status'] == 'Alive') & (df['Grade']== \"2\") & (df['Race'] == 'Other')])\n",
    "for i in range(0,3):\n",
    "    print(f\"Out of {len(df[df['Race'] == liste_race[i]])} {liste_race[i]} women, {len(df[(df['Status'] == 'Dead') & (df['Grade']== '2') & (df['Race'] == liste_race[i])])} die from grade 2 cancer, which equals to {round(len(df[(df['Status'] == 'Dead') & (df['Grade']== '2') & (df['Race'] == liste_race[i])]) / len(df[df['Race'] == liste_race[i]]) *100,2)}% \")"
   ]
  },
  {
   "cell_type": "code",
   "execution_count": 291,
   "id": "91338876",
   "metadata": {
    "ExecuteTime": {
     "end_time": "2023-01-21T20:48:37.134088Z",
     "start_time": "2023-01-21T20:48:37.099501Z"
    }
   },
   "outputs": [
    {
     "name": "stdout",
     "output_type": "stream",
     "text": [
      "Out of 3413 White women, 216 die from grade 3 cancer, which equals to 6.33% \n",
      "Out of 291 Black women, 34 die from grade 3 cancer, which equals to 11.68% \n",
      "Out of 320 Other women, 13 die from grade 3 cancer, which equals to 4.06% \n"
     ]
    }
   ],
   "source": [
    "#len(df[(df['Status'] == 'Alive') & (df['Grade']== \"3\") & (df['Race'] == 'Other')])\n",
    "for i in range(0,3):\n",
    "    print(f\"Out of {len(df[df['Race'] == liste_race[i]])} {liste_race[i]} women, {len(df[(df['Status'] == 'Dead') & (df['Grade']== '3') & (df['Race'] == liste_race[i])])} die from grade 3 cancer, which equals to {round(len(df[(df['Status'] == 'Dead') & (df['Grade']== '3') & (df['Race'] == liste_race[i])]) / len(df[df['Race'] == liste_race[i]]) *100,2)}% \")"
   ]
  },
  {
   "cell_type": "code",
   "execution_count": 348,
   "id": "96452c2c",
   "metadata": {
    "ExecuteTime": {
     "end_time": "2023-01-21T21:18:09.198197Z",
     "start_time": "2023-01-21T21:18:09.141561Z"
    }
   },
   "outputs": [
    {
     "name": "stdout",
     "output_type": "stream",
     "text": [
      "Out of 3413 White women, 31 die from grade 1 cancer, which equals to 0.91% \n",
      "\n",
      "Out of 3413 White women, 256 die from grade 2 cancer, which equals to 7.5% \n",
      "\n",
      "Out of 3413 White women, 216 die from grade 3 cancer, which equals to 6.33% \n",
      "\n",
      "Out of 291 Black women, 5 die from grade 1 cancer, which equals to 1.72% \n",
      "\n",
      "Out of 291 Black women, 32 die from grade 2 cancer, which equals to 11.0% \n",
      "\n",
      "Out of 291 Black women, 34 die from grade 3 cancer, which equals to 11.68% \n",
      "\n",
      "Out of 320 Other women, 3 die from grade 1 cancer, which equals to 0.94% \n",
      "\n",
      "Out of 320 Other women, 17 die from grade 2 cancer, which equals to 5.31% \n",
      "\n",
      "Out of 320 Other women, 13 die from grade 3 cancer, which equals to 4.06% \n",
      "\n"
     ]
    }
   ],
   "source": [
    "for i in range(0,3):\n",
    "    for y in range(1,4):\n",
    "        print(f\"Out of {len(df[df['Race'] == liste_race[i]])} {liste_race[i]} women, {len(df[(df['Status'] == 'Dead') & (df['Grade']== str(y)) & (df['Race'] == liste_race[i])])} die from grade {str(y)} cancer, which equals to {round(len(df[(df['Status'] == 'Dead') & (df['Grade']== str(y)) & (df['Race'] == liste_race[i])]) / len(df[df['Race'] == liste_race[i]]) *100,2)}% \\n\")"
   ]
  },
  {
   "cell_type": "markdown",
   "id": "216bc41f",
   "metadata": {},
   "source": [
    "# Grade levels survival rate"
   ]
  },
  {
   "cell_type": "code",
   "execution_count": 347,
   "id": "c895e35d",
   "metadata": {
    "ExecuteTime": {
     "end_time": "2023-01-21T21:17:56.825312Z",
     "start_time": "2023-01-21T21:17:56.768461Z"
    },
    "scrolled": true
   },
   "outputs": [
    {
     "name": "stdout",
     "output_type": "stream",
     "text": [
      "Out of 3413 White women, 434 survive grade 1 cancer, which equals to 12.72% \n",
      "\n",
      "Out of 3413 White women, 1774 survive grade 2 cancer, which equals to 51.98% \n",
      "\n",
      "Out of 3413 White women, 686 survive grade 3 cancer, which equals to 20.1% \n",
      "\n",
      "Out of 291 Black women, 27 survive grade 1 cancer, which equals to 9.28% \n",
      "\n",
      "Out of 291 Black women, 109 survive grade 2 cancer, which equals to 37.46% \n",
      "\n",
      "Out of 291 Black women, 81 survive grade 3 cancer, which equals to 27.84% \n",
      "\n",
      "Out of 320 Other women, 43 survive grade 1 cancer, which equals to 13.44% \n",
      "\n",
      "Out of 320 Other women, 163 survive grade 2 cancer, which equals to 50.94% \n",
      "\n",
      "Out of 320 Other women, 81 survive grade 3 cancer, which equals to 25.31% \n",
      "\n"
     ]
    }
   ],
   "source": [
    "for i in range(0,3):\n",
    "    for y in range(1,4):\n",
    "        print(f\"Out of {len(df[df['Race'] == liste_race[i]])} {liste_race[i]} women, {len(df[(df['Status'] == 'Alive') & (df['Grade']== str(y)) & (df['Race'] == liste_race[i])])} survive grade {str(y)} cancer, which equals to {round(len(df[(df['Status'] == 'Alive') & (df['Grade']== str(y)) & (df['Race'] == liste_race[i])]) / len(df[df['Race'] == liste_race[i]]) *100,2)}% \\n\")"
   ]
  },
  {
   "cell_type": "markdown",
   "id": "228768fd",
   "metadata": {},
   "source": [
    "# Tumor size"
   ]
  },
  {
   "cell_type": "markdown",
   "id": "8eb544b7",
   "metadata": {},
   "source": [
    "## By mean"
   ]
  },
  {
   "cell_type": "code",
   "execution_count": 354,
   "id": "fdebad81",
   "metadata": {
    "ExecuteTime": {
     "end_time": "2023-01-21T21:52:31.009584Z",
     "start_time": "2023-01-21T21:52:30.988401Z"
    },
    "scrolled": true
   },
   "outputs": [
    {
     "data": {
      "text/html": [
       "<div>\n",
       "<style scoped>\n",
       "    .dataframe tbody tr th:only-of-type {\n",
       "        vertical-align: middle;\n",
       "    }\n",
       "\n",
       "    .dataframe tbody tr th {\n",
       "        vertical-align: top;\n",
       "    }\n",
       "\n",
       "    .dataframe thead th {\n",
       "        text-align: right;\n",
       "    }\n",
       "</style>\n",
       "<table border=\"1\" class=\"dataframe\">\n",
       "  <thead>\n",
       "    <tr style=\"text-align: right;\">\n",
       "      <th></th>\n",
       "      <th>Tumor Size</th>\n",
       "    </tr>\n",
       "    <tr>\n",
       "      <th>Status</th>\n",
       "      <th></th>\n",
       "    </tr>\n",
       "  </thead>\n",
       "  <tbody>\n",
       "    <tr>\n",
       "      <th>Alive</th>\n",
       "      <td>29.210472</td>\n",
       "    </tr>\n",
       "    <tr>\n",
       "      <th>Dead</th>\n",
       "      <td>37.307843</td>\n",
       "    </tr>\n",
       "  </tbody>\n",
       "</table>\n",
       "</div>"
      ],
      "text/plain": [
       "        Tumor Size\n",
       "Status            \n",
       "Alive    29.210472\n",
       "Dead     37.307843"
      ]
     },
     "execution_count": 354,
     "metadata": {},
     "output_type": "execute_result"
    }
   ],
   "source": [
    "df_white.groupby('Status').agg({'Tumor Size':'mean'})"
   ]
  },
  {
   "cell_type": "markdown",
   "id": "ad60a150",
   "metadata": {},
   "source": [
    "#### Recalculating mean with exact amount of patients in both categories"
   ]
  },
  {
   "cell_type": "code",
   "execution_count": 422,
   "id": "2d9ced83",
   "metadata": {
    "ExecuteTime": {
     "end_time": "2023-01-21T23:13:52.967786Z",
     "start_time": "2023-01-21T23:13:52.955000Z"
    }
   },
   "outputs": [
    {
     "data": {
      "text/plain": [
       "510"
      ]
     },
     "execution_count": 422,
     "metadata": {},
     "output_type": "execute_result"
    }
   ],
   "source": [
    "#len(df_white[df_white['Status'] == 'Alive'])\n",
    "\n",
    "len(df_white[df_white['Status'] == 'Dead'])"
   ]
  },
  {
   "cell_type": "code",
   "execution_count": 450,
   "id": "c0aaeb7f",
   "metadata": {
    "ExecuteTime": {
     "end_time": "2023-01-21T23:17:30.257856Z",
     "start_time": "2023-01-21T23:17:30.247210Z"
    }
   },
   "outputs": [
    {
     "data": {
      "text/plain": [
       "30.07843137254902"
      ]
     },
     "execution_count": 450,
     "metadata": {},
     "output_type": "execute_result"
    }
   ],
   "source": [
    "#this gives us a rough idea of a mean we could get if our sample was equal in number, \n",
    "#we still get a difference ranging from 5-12 points \n",
    "df_white['Tumor Size'].sample(510).mean() "
   ]
  },
  {
   "cell_type": "markdown",
   "id": "48162681",
   "metadata": {},
   "source": [
    "### Trying the same formula for the two other ethnicities / there is an issue with this because we can make the numbers say what we want"
   ]
  },
  {
   "cell_type": "code",
   "execution_count": 355,
   "id": "afab284d",
   "metadata": {
    "ExecuteTime": {
     "end_time": "2023-01-21T21:53:03.818128Z",
     "start_time": "2023-01-21T21:53:03.799399Z"
    },
    "collapsed": true
   },
   "outputs": [
    {
     "data": {
      "text/html": [
       "<div>\n",
       "<style scoped>\n",
       "    .dataframe tbody tr th:only-of-type {\n",
       "        vertical-align: middle;\n",
       "    }\n",
       "\n",
       "    .dataframe tbody tr th {\n",
       "        vertical-align: top;\n",
       "    }\n",
       "\n",
       "    .dataframe thead th {\n",
       "        text-align: right;\n",
       "    }\n",
       "</style>\n",
       "<table border=\"1\" class=\"dataframe\">\n",
       "  <thead>\n",
       "    <tr style=\"text-align: right;\">\n",
       "      <th></th>\n",
       "      <th>Tumor Size</th>\n",
       "    </tr>\n",
       "    <tr>\n",
       "      <th>Status</th>\n",
       "      <th></th>\n",
       "    </tr>\n",
       "  </thead>\n",
       "  <tbody>\n",
       "    <tr>\n",
       "      <th>Alive</th>\n",
       "      <td>28.949541</td>\n",
       "    </tr>\n",
       "    <tr>\n",
       "      <th>Dead</th>\n",
       "      <td>35.219178</td>\n",
       "    </tr>\n",
       "  </tbody>\n",
       "</table>\n",
       "</div>"
      ],
      "text/plain": [
       "        Tumor Size\n",
       "Status            \n",
       "Alive    28.949541\n",
       "Dead     35.219178"
      ]
     },
     "execution_count": 355,
     "metadata": {},
     "output_type": "execute_result"
    }
   ],
   "source": [
    "df_black.groupby('Status').agg({'Tumor Size':'mean'})"
   ]
  },
  {
   "cell_type": "code",
   "execution_count": 451,
   "id": "88896b44",
   "metadata": {
    "ExecuteTime": {
     "end_time": "2023-01-21T23:20:04.816998Z",
     "start_time": "2023-01-21T23:20:04.806146Z"
    }
   },
   "outputs": [
    {
     "data": {
      "text/plain": [
       "73"
      ]
     },
     "execution_count": 451,
     "metadata": {},
     "output_type": "execute_result"
    }
   ],
   "source": [
    "len(df_black[df_black['Status'] == 'Dead'])"
   ]
  },
  {
   "cell_type": "code",
   "execution_count": 461,
   "id": "0f3b5a0d",
   "metadata": {
    "ExecuteTime": {
     "end_time": "2023-01-21T23:20:35.543280Z",
     "start_time": "2023-01-21T23:20:35.533428Z"
    }
   },
   "outputs": [
    {
     "data": {
      "text/plain": [
       "28.904109589041095"
      ]
     },
     "execution_count": 461,
     "metadata": {},
     "output_type": "execute_result"
    }
   ],
   "source": [
    "df_black['Tumor Size'].sample(73).mean()"
   ]
  },
  {
   "cell_type": "code",
   "execution_count": 356,
   "id": "a54d6ce2",
   "metadata": {
    "ExecuteTime": {
     "end_time": "2023-01-21T21:53:14.409546Z",
     "start_time": "2023-01-21T21:53:14.389276Z"
    },
    "collapsed": true
   },
   "outputs": [
    {
     "data": {
      "text/html": [
       "<div>\n",
       "<style scoped>\n",
       "    .dataframe tbody tr th:only-of-type {\n",
       "        vertical-align: middle;\n",
       "    }\n",
       "\n",
       "    .dataframe tbody tr th {\n",
       "        vertical-align: top;\n",
       "    }\n",
       "\n",
       "    .dataframe thead th {\n",
       "        text-align: right;\n",
       "    }\n",
       "</style>\n",
       "<table border=\"1\" class=\"dataframe\">\n",
       "  <thead>\n",
       "    <tr style=\"text-align: right;\">\n",
       "      <th></th>\n",
       "      <th>Tumor Size</th>\n",
       "    </tr>\n",
       "    <tr>\n",
       "      <th>Status</th>\n",
       "      <th></th>\n",
       "    </tr>\n",
       "  </thead>\n",
       "  <tbody>\n",
       "    <tr>\n",
       "      <th>Alive</th>\n",
       "      <td>30.101045</td>\n",
       "    </tr>\n",
       "    <tr>\n",
       "      <th>Dead</th>\n",
       "      <td>38.787879</td>\n",
       "    </tr>\n",
       "  </tbody>\n",
       "</table>\n",
       "</div>"
      ],
      "text/plain": [
       "        Tumor Size\n",
       "Status            \n",
       "Alive    30.101045\n",
       "Dead     38.787879"
      ]
     },
     "execution_count": 356,
     "metadata": {},
     "output_type": "execute_result"
    }
   ],
   "source": [
    "df_other.groupby('Status').agg({'Tumor Size':'mean'})"
   ]
  },
  {
   "cell_type": "code",
   "execution_count": 484,
   "id": "d3f1f4d1",
   "metadata": {
    "ExecuteTime": {
     "end_time": "2023-01-21T23:21:32.313709Z",
     "start_time": "2023-01-21T23:21:32.301990Z"
    }
   },
   "outputs": [
    {
     "data": {
      "text/plain": [
       "26.696969696969695"
      ]
     },
     "execution_count": 484,
     "metadata": {},
     "output_type": "execute_result"
    }
   ],
   "source": [
    "len(df_other[df_other['Status'] == 'Dead'])\n",
    "df_other['Tumor Size'].sample(33).mean()"
   ]
  },
  {
   "cell_type": "markdown",
   "id": "9b8ef7a2",
   "metadata": {},
   "source": [
    "## Other method"
   ]
  },
  {
   "cell_type": "code",
   "execution_count": 400,
   "id": "ac850ff1",
   "metadata": {
    "ExecuteTime": {
     "end_time": "2023-01-21T22:25:37.706465Z",
     "start_time": "2023-01-21T22:25:37.687038Z"
    }
   },
   "outputs": [
    {
     "data": {
      "text/plain": [
       "28.971962616822427"
      ]
     },
     "execution_count": 400,
     "metadata": {},
     "output_type": "execute_result"
    }
   ],
   "source": [
    "len(df_white[(df_white['Tumor Size'] > 80) & (df_white['Status'] == 'Alive')]) \n",
    "\n",
    "len(df_white[(df_white['Tumor Size'] > 80) & (df_white['Status'] == 'Dead')]) \n",
    "\n",
    "len(df_white[df_white['Tumor Size'] > 80]) \n",
    "\n",
    "#len(df_white[(df_white['Tumor Size'] > 80) & (df_white['Status'] == 'Dead')]) / len(df_white[df_white['Tumor Size'] > 80]) *100 "
   ]
  },
  {
   "cell_type": "markdown",
   "id": "b313e912",
   "metadata": {},
   "source": [
    "### death rate for white women with tumor size above 100"
   ]
  },
  {
   "cell_type": "code",
   "execution_count": 597,
   "id": "bf609d3c",
   "metadata": {
    "ExecuteTime": {
     "end_time": "2023-01-24T12:09:07.717167Z",
     "start_time": "2023-01-24T12:09:07.702771Z"
    }
   },
   "outputs": [
    {
     "name": "stdout",
     "output_type": "stream",
     "text": [
      "29.73%\n"
     ]
    }
   ],
   "source": [
    "print(f\"{round(len(df_white[(df_white['Tumor Size'] > 100) & (df_white['Status'] == 'Dead')]) / len(df_white[df_white['Tumor Size'] > 100]) *100,2)}%\")\n",
    "\n",
    "\n"
   ]
  },
  {
   "cell_type": "markdown",
   "id": "b47c6a21",
   "metadata": {},
   "source": [
    "### survival rate for white women with tumor size above 100"
   ]
  },
  {
   "cell_type": "code",
   "execution_count": 403,
   "id": "32719ddc",
   "metadata": {
    "ExecuteTime": {
     "end_time": "2023-01-21T22:27:33.914347Z",
     "start_time": "2023-01-21T22:27:33.895285Z"
    }
   },
   "outputs": [
    {
     "data": {
      "text/plain": [
       "70.27027027027027"
      ]
     },
     "execution_count": 403,
     "metadata": {},
     "output_type": "execute_result"
    }
   ],
   "source": [
    "len(df_white[(df_white['Tumor Size'] > 100) & (df_white['Status'] == 'Alive')]) / len(df_white[df_white['Tumor Size'] > 100]) *100 "
   ]
  },
  {
   "cell_type": "markdown",
   "id": "ffb19a08",
   "metadata": {},
   "source": [
    "### death rate for black women with tumor size above 100"
   ]
  },
  {
   "cell_type": "code",
   "execution_count": 405,
   "id": "aa9c422e",
   "metadata": {
    "ExecuteTime": {
     "end_time": "2023-01-21T22:29:44.765284Z",
     "start_time": "2023-01-21T22:29:44.751687Z"
    }
   },
   "outputs": [
    {
     "data": {
      "text/plain": [
       "25.0"
      ]
     },
     "execution_count": 405,
     "metadata": {},
     "output_type": "execute_result"
    }
   ],
   "source": [
    "len(df_black[(df_black['Tumor Size'] > 100) & (df_black['Status'] == 'Dead')]) / len(df_black[df_black['Tumor Size'] > 100]) *100 "
   ]
  },
  {
   "cell_type": "markdown",
   "id": "215b6918",
   "metadata": {},
   "source": [
    "### survival rate for black women with tumor size above 100"
   ]
  },
  {
   "cell_type": "code",
   "execution_count": 406,
   "id": "dad06d53",
   "metadata": {
    "ExecuteTime": {
     "end_time": "2023-01-21T22:30:04.324655Z",
     "start_time": "2023-01-21T22:30:04.306340Z"
    }
   },
   "outputs": [
    {
     "data": {
      "text/plain": [
       "75.0"
      ]
     },
     "execution_count": 406,
     "metadata": {},
     "output_type": "execute_result"
    }
   ],
   "source": [
    "len(df_black[(df_black['Tumor Size'] > 100) & (df_black['Status'] == 'Alive')]) / len(df_black[df_black['Tumor Size'] > 100]) *100 "
   ]
  },
  {
   "cell_type": "markdown",
   "id": "456c2985",
   "metadata": {},
   "source": [
    "### death rate for other women with tumor size above 100"
   ]
  },
  {
   "cell_type": "code",
   "execution_count": 415,
   "id": "300d03d2",
   "metadata": {
    "ExecuteTime": {
     "end_time": "2023-01-21T22:33:21.805910Z",
     "start_time": "2023-01-21T22:33:21.797548Z"
    }
   },
   "outputs": [
    {
     "data": {
      "text/plain": [
       "0.0"
      ]
     },
     "execution_count": 415,
     "metadata": {},
     "output_type": "execute_result"
    }
   ],
   "source": [
    "len(df_other[(df_other['Tumor Size'] > 100) & (df_other['Status'] == 'Dead')]) / len(df_other[df_other['Tumor Size'] > 100]) *100 "
   ]
  },
  {
   "cell_type": "markdown",
   "id": "7e1e3285",
   "metadata": {},
   "source": [
    "### survival rate for other women with tumor size above 100"
   ]
  },
  {
   "cell_type": "code",
   "execution_count": 416,
   "id": "ddb66499",
   "metadata": {
    "ExecuteTime": {
     "end_time": "2023-01-21T22:33:29.771594Z",
     "start_time": "2023-01-21T22:33:29.755673Z"
    }
   },
   "outputs": [
    {
     "data": {
      "text/plain": [
       "100.0"
      ]
     },
     "execution_count": 416,
     "metadata": {},
     "output_type": "execute_result"
    }
   ],
   "source": [
    "len(df_other[(df_other['Tumor Size'] > 100) & (df_other['Status'] == 'Alive')]) / len(df_other[df_other['Tumor Size'] > 100]) *100 "
   ]
  },
  {
   "cell_type": "markdown",
   "id": "8728fa81",
   "metadata": {},
   "source": [
    "## Using Value counts"
   ]
  },
  {
   "cell_type": "code",
   "execution_count": 419,
   "id": "654337e5",
   "metadata": {
    "ExecuteTime": {
     "end_time": "2023-01-21T23:09:49.444354Z",
     "start_time": "2023-01-21T23:09:49.419470Z"
    },
    "collapsed": true
   },
   "outputs": [
    {
     "data": {
      "text/html": [
       "<div>\n",
       "<style scoped>\n",
       "    .dataframe tbody tr th:only-of-type {\n",
       "        vertical-align: middle;\n",
       "    }\n",
       "\n",
       "    .dataframe tbody tr th {\n",
       "        vertical-align: top;\n",
       "    }\n",
       "\n",
       "    .dataframe thead th {\n",
       "        text-align: right;\n",
       "    }\n",
       "</style>\n",
       "<table border=\"1\" class=\"dataframe\">\n",
       "  <thead>\n",
       "    <tr style=\"text-align: right;\">\n",
       "      <th></th>\n",
       "      <th></th>\n",
       "      <th>0</th>\n",
       "    </tr>\n",
       "    <tr>\n",
       "      <th>Tumor Size</th>\n",
       "      <th>Status</th>\n",
       "      <th></th>\n",
       "    </tr>\n",
       "  </thead>\n",
       "  <tbody>\n",
       "    <tr>\n",
       "      <th>15</th>\n",
       "      <th>Alive</th>\n",
       "      <td>211</td>\n",
       "    </tr>\n",
       "    <tr>\n",
       "      <th>25</th>\n",
       "      <th>Alive</th>\n",
       "      <td>195</td>\n",
       "    </tr>\n",
       "    <tr>\n",
       "      <th>30</th>\n",
       "      <th>Alive</th>\n",
       "      <td>158</td>\n",
       "    </tr>\n",
       "    <tr>\n",
       "      <th>20</th>\n",
       "      <th>Alive</th>\n",
       "      <td>155</td>\n",
       "    </tr>\n",
       "    <tr>\n",
       "      <th>18</th>\n",
       "      <th>Alive</th>\n",
       "      <td>117</td>\n",
       "    </tr>\n",
       "    <tr>\n",
       "      <th>...</th>\n",
       "      <th>...</th>\n",
       "      <td>...</td>\n",
       "    </tr>\n",
       "    <tr>\n",
       "      <th>49</th>\n",
       "      <th>Dead</th>\n",
       "      <td>1</td>\n",
       "    </tr>\n",
       "    <tr>\n",
       "      <th>1</th>\n",
       "      <th>Dead</th>\n",
       "      <td>1</td>\n",
       "    </tr>\n",
       "    <tr>\n",
       "      <th>92</th>\n",
       "      <th>Dead</th>\n",
       "      <td>1</td>\n",
       "    </tr>\n",
       "    <tr>\n",
       "      <th>94</th>\n",
       "      <th>Alive</th>\n",
       "      <td>1</td>\n",
       "    </tr>\n",
       "    <tr>\n",
       "      <th>140</th>\n",
       "      <th>Dead</th>\n",
       "      <td>1</td>\n",
       "    </tr>\n",
       "  </tbody>\n",
       "</table>\n",
       "<p>184 rows × 1 columns</p>\n",
       "</div>"
      ],
      "text/plain": [
       "                     0\n",
       "Tumor Size Status     \n",
       "15         Alive   211\n",
       "25         Alive   195\n",
       "30         Alive   158\n",
       "20         Alive   155\n",
       "18         Alive   117\n",
       "...                ...\n",
       "49         Dead      1\n",
       "1          Dead      1\n",
       "92         Dead      1\n",
       "94         Alive     1\n",
       "140        Dead      1\n",
       "\n",
       "[184 rows x 1 columns]"
      ]
     },
     "execution_count": 419,
     "metadata": {},
     "output_type": "execute_result"
    }
   ],
   "source": [
    "df_white[['Tumor Size', 'Status']].value_counts().to_frame()"
   ]
  },
  {
   "cell_type": "code",
   "execution_count": 495,
   "id": "90ce8c02",
   "metadata": {
    "ExecuteTime": {
     "end_time": "2023-01-24T10:26:56.194317Z",
     "start_time": "2023-01-24T10:26:56.181693Z"
    }
   },
   "outputs": [],
   "source": [
    "white_dead = df_white[df_white['Status']== 'Dead']\n",
    "black_dead = df_black[df_black['Status']== 'Dead']\n",
    "other_dead = df_other[df_other['Status']== 'Dead']"
   ]
  },
  {
   "cell_type": "code",
   "execution_count": 494,
   "id": "5645d159",
   "metadata": {
    "ExecuteTime": {
     "end_time": "2023-01-24T10:25:22.603230Z",
     "start_time": "2023-01-24T10:25:22.582835Z"
    },
    "collapsed": true
   },
   "outputs": [
    {
     "data": {
      "text/html": [
       "<div>\n",
       "<style scoped>\n",
       "    .dataframe tbody tr th:only-of-type {\n",
       "        vertical-align: middle;\n",
       "    }\n",
       "\n",
       "    .dataframe tbody tr th {\n",
       "        vertical-align: top;\n",
       "    }\n",
       "\n",
       "    .dataframe thead th {\n",
       "        text-align: right;\n",
       "    }\n",
       "</style>\n",
       "<table border=\"1\" class=\"dataframe\">\n",
       "  <thead>\n",
       "    <tr style=\"text-align: right;\">\n",
       "      <th></th>\n",
       "      <th></th>\n",
       "      <th>0</th>\n",
       "    </tr>\n",
       "    <tr>\n",
       "      <th>Tumor Size</th>\n",
       "      <th>Status</th>\n",
       "      <th></th>\n",
       "    </tr>\n",
       "  </thead>\n",
       "  <tbody>\n",
       "    <tr>\n",
       "      <th>25</th>\n",
       "      <th>Dead</th>\n",
       "      <td>36</td>\n",
       "    </tr>\n",
       "    <tr>\n",
       "      <th>40</th>\n",
       "      <th>Dead</th>\n",
       "      <td>26</td>\n",
       "    </tr>\n",
       "    <tr>\n",
       "      <th>35</th>\n",
       "      <th>Dead</th>\n",
       "      <td>26</td>\n",
       "    </tr>\n",
       "    <tr>\n",
       "      <th>20</th>\n",
       "      <th>Dead</th>\n",
       "      <td>25</td>\n",
       "    </tr>\n",
       "    <tr>\n",
       "      <th>30</th>\n",
       "      <th>Dead</th>\n",
       "      <td>25</td>\n",
       "    </tr>\n",
       "    <tr>\n",
       "      <th>50</th>\n",
       "      <th>Dead</th>\n",
       "      <td>20</td>\n",
       "    </tr>\n",
       "    <tr>\n",
       "      <th>18</th>\n",
       "      <th>Dead</th>\n",
       "      <td>19</td>\n",
       "    </tr>\n",
       "    <tr>\n",
       "      <th>60</th>\n",
       "      <th>Dead</th>\n",
       "      <td>17</td>\n",
       "    </tr>\n",
       "    <tr>\n",
       "      <th>22</th>\n",
       "      <th>Dead</th>\n",
       "      <td>16</td>\n",
       "    </tr>\n",
       "    <tr>\n",
       "      <th>12</th>\n",
       "      <th>Dead</th>\n",
       "      <td>14</td>\n",
       "    </tr>\n",
       "    <tr>\n",
       "      <th>15</th>\n",
       "      <th>Dead</th>\n",
       "      <td>14</td>\n",
       "    </tr>\n",
       "    <tr>\n",
       "      <th>21</th>\n",
       "      <th>Dead</th>\n",
       "      <td>13</td>\n",
       "    </tr>\n",
       "    <tr>\n",
       "      <th>55</th>\n",
       "      <th>Dead</th>\n",
       "      <td>11</td>\n",
       "    </tr>\n",
       "    <tr>\n",
       "      <th>70</th>\n",
       "      <th>Dead</th>\n",
       "      <td>11</td>\n",
       "    </tr>\n",
       "    <tr>\n",
       "      <th>45</th>\n",
       "      <th>Dead</th>\n",
       "      <td>10</td>\n",
       "    </tr>\n",
       "    <tr>\n",
       "      <th>13</th>\n",
       "      <th>Dead</th>\n",
       "      <td>10</td>\n",
       "    </tr>\n",
       "    <tr>\n",
       "      <th>17</th>\n",
       "      <th>Dead</th>\n",
       "      <td>10</td>\n",
       "    </tr>\n",
       "    <tr>\n",
       "      <th>28</th>\n",
       "      <th>Dead</th>\n",
       "      <td>10</td>\n",
       "    </tr>\n",
       "    <tr>\n",
       "      <th>24</th>\n",
       "      <th>Dead</th>\n",
       "      <td>9</td>\n",
       "    </tr>\n",
       "    <tr>\n",
       "      <th>16</th>\n",
       "      <th>Dead</th>\n",
       "      <td>9</td>\n",
       "    </tr>\n",
       "  </tbody>\n",
       "</table>\n",
       "</div>"
      ],
      "text/plain": [
       "                    0\n",
       "Tumor Size Status    \n",
       "25         Dead    36\n",
       "40         Dead    26\n",
       "35         Dead    26\n",
       "20         Dead    25\n",
       "30         Dead    25\n",
       "50         Dead    20\n",
       "18         Dead    19\n",
       "60         Dead    17\n",
       "22         Dead    16\n",
       "12         Dead    14\n",
       "15         Dead    14\n",
       "21         Dead    13\n",
       "55         Dead    11\n",
       "70         Dead    11\n",
       "45         Dead    10\n",
       "13         Dead    10\n",
       "17         Dead    10\n",
       "28         Dead    10\n",
       "24         Dead     9\n",
       "16         Dead     9"
      ]
     },
     "execution_count": 494,
     "metadata": {},
     "output_type": "execute_result"
    }
   ],
   "source": [
    "white_dead[['Tumor Size', 'Status']].value_counts().to_frame().head(20)"
   ]
  },
  {
   "cell_type": "code",
   "execution_count": 496,
   "id": "cfab66d4",
   "metadata": {
    "ExecuteTime": {
     "end_time": "2023-01-24T10:27:15.681816Z",
     "start_time": "2023-01-24T10:27:15.663279Z"
    },
    "collapsed": true
   },
   "outputs": [
    {
     "data": {
      "text/html": [
       "<div>\n",
       "<style scoped>\n",
       "    .dataframe tbody tr th:only-of-type {\n",
       "        vertical-align: middle;\n",
       "    }\n",
       "\n",
       "    .dataframe tbody tr th {\n",
       "        vertical-align: top;\n",
       "    }\n",
       "\n",
       "    .dataframe thead th {\n",
       "        text-align: right;\n",
       "    }\n",
       "</style>\n",
       "<table border=\"1\" class=\"dataframe\">\n",
       "  <thead>\n",
       "    <tr style=\"text-align: right;\">\n",
       "      <th></th>\n",
       "      <th></th>\n",
       "      <th>0</th>\n",
       "    </tr>\n",
       "    <tr>\n",
       "      <th>Tumor Size</th>\n",
       "      <th>Status</th>\n",
       "      <th></th>\n",
       "    </tr>\n",
       "  </thead>\n",
       "  <tbody>\n",
       "    <tr>\n",
       "      <th>30</th>\n",
       "      <th>Dead</th>\n",
       "      <td>6</td>\n",
       "    </tr>\n",
       "    <tr>\n",
       "      <th>35</th>\n",
       "      <th>Dead</th>\n",
       "      <td>5</td>\n",
       "    </tr>\n",
       "    <tr>\n",
       "      <th>40</th>\n",
       "      <th>Dead</th>\n",
       "      <td>4</td>\n",
       "    </tr>\n",
       "    <tr>\n",
       "      <th>15</th>\n",
       "      <th>Dead</th>\n",
       "      <td>3</td>\n",
       "    </tr>\n",
       "    <tr>\n",
       "      <th>25</th>\n",
       "      <th>Dead</th>\n",
       "      <td>3</td>\n",
       "    </tr>\n",
       "    <tr>\n",
       "      <th>47</th>\n",
       "      <th>Dead</th>\n",
       "      <td>3</td>\n",
       "    </tr>\n",
       "    <tr>\n",
       "      <th>18</th>\n",
       "      <th>Dead</th>\n",
       "      <td>3</td>\n",
       "    </tr>\n",
       "    <tr>\n",
       "      <th>20</th>\n",
       "      <th>Dead</th>\n",
       "      <td>3</td>\n",
       "    </tr>\n",
       "    <tr>\n",
       "      <th>24</th>\n",
       "      <th>Dead</th>\n",
       "      <td>2</td>\n",
       "    </tr>\n",
       "    <tr>\n",
       "      <th>28</th>\n",
       "      <th>Dead</th>\n",
       "      <td>2</td>\n",
       "    </tr>\n",
       "    <tr>\n",
       "      <th>11</th>\n",
       "      <th>Dead</th>\n",
       "      <td>2</td>\n",
       "    </tr>\n",
       "    <tr>\n",
       "      <th>70</th>\n",
       "      <th>Dead</th>\n",
       "      <td>2</td>\n",
       "    </tr>\n",
       "    <tr>\n",
       "      <th>7</th>\n",
       "      <th>Dead</th>\n",
       "      <td>2</td>\n",
       "    </tr>\n",
       "    <tr>\n",
       "      <th>22</th>\n",
       "      <th>Dead</th>\n",
       "      <td>2</td>\n",
       "    </tr>\n",
       "    <tr>\n",
       "      <th>23</th>\n",
       "      <th>Dead</th>\n",
       "      <td>2</td>\n",
       "    </tr>\n",
       "    <tr>\n",
       "      <th>12</th>\n",
       "      <th>Dead</th>\n",
       "      <td>2</td>\n",
       "    </tr>\n",
       "    <tr>\n",
       "      <th>100</th>\n",
       "      <th>Dead</th>\n",
       "      <td>2</td>\n",
       "    </tr>\n",
       "    <tr>\n",
       "      <th>90</th>\n",
       "      <th>Dead</th>\n",
       "      <td>2</td>\n",
       "    </tr>\n",
       "    <tr>\n",
       "      <th>48</th>\n",
       "      <th>Dead</th>\n",
       "      <td>1</td>\n",
       "    </tr>\n",
       "    <tr>\n",
       "      <th>50</th>\n",
       "      <th>Dead</th>\n",
       "      <td>1</td>\n",
       "    </tr>\n",
       "  </tbody>\n",
       "</table>\n",
       "</div>"
      ],
      "text/plain": [
       "                   0\n",
       "Tumor Size Status   \n",
       "30         Dead    6\n",
       "35         Dead    5\n",
       "40         Dead    4\n",
       "15         Dead    3\n",
       "25         Dead    3\n",
       "47         Dead    3\n",
       "18         Dead    3\n",
       "20         Dead    3\n",
       "24         Dead    2\n",
       "28         Dead    2\n",
       "11         Dead    2\n",
       "70         Dead    2\n",
       "7          Dead    2\n",
       "22         Dead    2\n",
       "23         Dead    2\n",
       "12         Dead    2\n",
       "100        Dead    2\n",
       "90         Dead    2\n",
       "48         Dead    1\n",
       "50         Dead    1"
      ]
     },
     "execution_count": 496,
     "metadata": {},
     "output_type": "execute_result"
    }
   ],
   "source": [
    "black_dead[['Tumor Size', 'Status']].value_counts().to_frame().head(20)"
   ]
  },
  {
   "cell_type": "code",
   "execution_count": 497,
   "id": "5c497d6d",
   "metadata": {
    "ExecuteTime": {
     "end_time": "2023-01-24T10:27:29.446325Z",
     "start_time": "2023-01-24T10:27:29.427525Z"
    },
    "collapsed": true
   },
   "outputs": [
    {
     "data": {
      "text/html": [
       "<div>\n",
       "<style scoped>\n",
       "    .dataframe tbody tr th:only-of-type {\n",
       "        vertical-align: middle;\n",
       "    }\n",
       "\n",
       "    .dataframe tbody tr th {\n",
       "        vertical-align: top;\n",
       "    }\n",
       "\n",
       "    .dataframe thead th {\n",
       "        text-align: right;\n",
       "    }\n",
       "</style>\n",
       "<table border=\"1\" class=\"dataframe\">\n",
       "  <thead>\n",
       "    <tr style=\"text-align: right;\">\n",
       "      <th></th>\n",
       "      <th></th>\n",
       "      <th>0</th>\n",
       "    </tr>\n",
       "    <tr>\n",
       "      <th>Tumor Size</th>\n",
       "      <th>Status</th>\n",
       "      <th></th>\n",
       "    </tr>\n",
       "  </thead>\n",
       "  <tbody>\n",
       "    <tr>\n",
       "      <th>35</th>\n",
       "      <th>Dead</th>\n",
       "      <td>2</td>\n",
       "    </tr>\n",
       "    <tr>\n",
       "      <th>18</th>\n",
       "      <th>Dead</th>\n",
       "      <td>2</td>\n",
       "    </tr>\n",
       "    <tr>\n",
       "      <th>20</th>\n",
       "      <th>Dead</th>\n",
       "      <td>2</td>\n",
       "    </tr>\n",
       "    <tr>\n",
       "      <th>21</th>\n",
       "      <th>Dead</th>\n",
       "      <td>2</td>\n",
       "    </tr>\n",
       "    <tr>\n",
       "      <th>22</th>\n",
       "      <th>Dead</th>\n",
       "      <td>2</td>\n",
       "    </tr>\n",
       "    <tr>\n",
       "      <th>80</th>\n",
       "      <th>Dead</th>\n",
       "      <td>2</td>\n",
       "    </tr>\n",
       "    <tr>\n",
       "      <th>60</th>\n",
       "      <th>Dead</th>\n",
       "      <td>2</td>\n",
       "    </tr>\n",
       "    <tr>\n",
       "      <th>30</th>\n",
       "      <th>Dead</th>\n",
       "      <td>2</td>\n",
       "    </tr>\n",
       "    <tr>\n",
       "      <th>40</th>\n",
       "      <th>Dead</th>\n",
       "      <td>2</td>\n",
       "    </tr>\n",
       "    <tr>\n",
       "      <th>41</th>\n",
       "      <th>Dead</th>\n",
       "      <td>1</td>\n",
       "    </tr>\n",
       "    <tr>\n",
       "      <th>85</th>\n",
       "      <th>Dead</th>\n",
       "      <td>1</td>\n",
       "    </tr>\n",
       "    <tr>\n",
       "      <th>70</th>\n",
       "      <th>Dead</th>\n",
       "      <td>1</td>\n",
       "    </tr>\n",
       "    <tr>\n",
       "      <th>50</th>\n",
       "      <th>Dead</th>\n",
       "      <td>1</td>\n",
       "    </tr>\n",
       "    <tr>\n",
       "      <th>48</th>\n",
       "      <th>Dead</th>\n",
       "      <td>1</td>\n",
       "    </tr>\n",
       "    <tr>\n",
       "      <th>47</th>\n",
       "      <th>Dead</th>\n",
       "      <td>1</td>\n",
       "    </tr>\n",
       "    <tr>\n",
       "      <th>15</th>\n",
       "      <th>Dead</th>\n",
       "      <td>1</td>\n",
       "    </tr>\n",
       "    <tr>\n",
       "      <th>38</th>\n",
       "      <th>Dead</th>\n",
       "      <td>1</td>\n",
       "    </tr>\n",
       "    <tr>\n",
       "      <th>16</th>\n",
       "      <th>Dead</th>\n",
       "      <td>1</td>\n",
       "    </tr>\n",
       "    <tr>\n",
       "      <th>28</th>\n",
       "      <th>Dead</th>\n",
       "      <td>1</td>\n",
       "    </tr>\n",
       "    <tr>\n",
       "      <th>26</th>\n",
       "      <th>Dead</th>\n",
       "      <td>1</td>\n",
       "    </tr>\n",
       "  </tbody>\n",
       "</table>\n",
       "</div>"
      ],
      "text/plain": [
       "                   0\n",
       "Tumor Size Status   \n",
       "35         Dead    2\n",
       "18         Dead    2\n",
       "20         Dead    2\n",
       "21         Dead    2\n",
       "22         Dead    2\n",
       "80         Dead    2\n",
       "60         Dead    2\n",
       "30         Dead    2\n",
       "40         Dead    2\n",
       "41         Dead    1\n",
       "85         Dead    1\n",
       "70         Dead    1\n",
       "50         Dead    1\n",
       "48         Dead    1\n",
       "47         Dead    1\n",
       "15         Dead    1\n",
       "38         Dead    1\n",
       "16         Dead    1\n",
       "28         Dead    1\n",
       "26         Dead    1"
      ]
     },
     "execution_count": 497,
     "metadata": {},
     "output_type": "execute_result"
    }
   ],
   "source": [
    "other_dead[['Tumor Size', 'Status']].value_counts().to_frame().head(20)"
   ]
  },
  {
   "cell_type": "markdown",
   "id": "c4428a8c",
   "metadata": {},
   "source": [
    "# Survival months"
   ]
  },
  {
   "cell_type": "code",
   "execution_count": 561,
   "id": "4ce72028",
   "metadata": {
    "ExecuteTime": {
     "end_time": "2023-01-24T11:29:04.394547Z",
     "start_time": "2023-01-24T11:29:04.383145Z"
    }
   },
   "outputs": [],
   "source": [
    "liste_race_2 = []\n",
    "\n",
    "for x in liste_race:\n",
    "    liste_race_2.append(x.lower())"
   ]
  },
  {
   "cell_type": "markdown",
   "id": "a66c3480",
   "metadata": {},
   "source": [
    "## Mean months before succumbing to cancer regardless of other factors"
   ]
  },
  {
   "cell_type": "code",
   "execution_count": 591,
   "id": "7e1fffee",
   "metadata": {
    "ExecuteTime": {
     "end_time": "2023-01-24T11:58:39.947846Z",
     "start_time": "2023-01-24T11:58:39.934582Z"
    },
    "scrolled": true
   },
   "outputs": [
    {
     "name": "stdout",
     "output_type": "stream",
     "text": [
      "White women succumb to breast cancer in about 46 months on average\n",
      "Black women succumb to breast cancer in about 41 months on average\n",
      "Other women succumb to breast cancer in about 50 months on average\n"
     ]
    }
   ],
   "source": [
    "q_9 = white_dead, black_dead, other_dead\n",
    "    \n",
    "for i in range(0,3):\n",
    "    print(f\"{liste_race[i]} women succumb to breast cancer in about {round(q_9[i]['Survival Months'].mean())} months on average\")"
   ]
  },
  {
   "cell_type": "markdown",
   "id": "842406f7",
   "metadata": {},
   "source": [
    "### Under the age of 45"
   ]
  },
  {
   "cell_type": "code",
   "execution_count": 579,
   "id": "a926a55a",
   "metadata": {
    "ExecuteTime": {
     "end_time": "2023-01-24T11:51:45.352861Z",
     "start_time": "2023-01-24T11:51:45.337220Z"
    }
   },
   "outputs": [],
   "source": [
    "white_dead_u45 = df_white[(df_white['Status'] == 'Dead') & (df_white['Age'] < 45)]\n",
    "black_dead_u45 = df_black[(df_black['Status'] == 'Dead') & (df_black['Age'] < 45)]\n",
    "other_dead_u45 = df_other[(df_other['Status'] == 'Dead') & (df_other['Age'] < 45)]"
   ]
  },
  {
   "cell_type": "code",
   "execution_count": 590,
   "id": "cb67a413",
   "metadata": {
    "ExecuteTime": {
     "end_time": "2023-01-24T11:58:36.027029Z",
     "start_time": "2023-01-24T11:58:36.017238Z"
    }
   },
   "outputs": [
    {
     "name": "stdout",
     "output_type": "stream",
     "text": [
      "White women under 45 succumb to breast cancer in about 46 months on average\n",
      "Black women under 45 succumb to breast cancer in about 39 months on average\n",
      "Other women under 45 succumb to breast cancer in about 60 months on average\n"
     ]
    }
   ],
   "source": [
    "q_9_u45 = white_dead_u45, black_dead_u45, other_dead_u45\n",
    "    \n",
    "for i in range(0,3):\n",
    "    print(f\"{liste_race[i]} women under 45 succumb to breast cancer in about {round(q_9_u45[i]['Survival Months'].mean())} months on average\")"
   ]
  },
  {
   "cell_type": "markdown",
   "id": "6f45bb04",
   "metadata": {},
   "source": [
    "### Over the age of 45"
   ]
  },
  {
   "cell_type": "code",
   "execution_count": 589,
   "id": "4839ff62",
   "metadata": {
    "ExecuteTime": {
     "end_time": "2023-01-24T11:58:31.322997Z",
     "start_time": "2023-01-24T11:58:31.301184Z"
    }
   },
   "outputs": [
    {
     "name": "stdout",
     "output_type": "stream",
     "text": [
      "White women over 45 succumb to breast cancer in about 46 months on average\n",
      "Black women over 45 succumb to breast cancer in about 41 months on average\n",
      "Other women over 45 succumb to breast cancer in about 47 months on average\n"
     ]
    }
   ],
   "source": [
    "white_dead_o45 = df_white[(df_white['Status'] == 'Dead') & (df_white['Age'] > 45)]\n",
    "black_dead_o45 = df_black[(df_black['Status'] == 'Dead') & (df_black['Age'] > 45)]\n",
    "other_dead_o45 = df_other[(df_other['Status'] == 'Dead') & (df_other['Age'] > 45)]\n",
    "\n",
    "q_9_o45 = white_dead_o45, black_dead_o45, other_dead_o45\n",
    "    \n",
    "for i in range(0,3):\n",
    "    print(f\"{liste_race[i]} women over 45 succumb to breast cancer in about {round(q_9_o45[i]['Survival Months'].mean())} months on average\")"
   ]
  },
  {
   "cell_type": "markdown",
   "id": "1fb21849",
   "metadata": {},
   "source": [
    "## Mean months before beating cancer regardless of other factors"
   ]
  },
  {
   "cell_type": "code",
   "execution_count": 583,
   "id": "0a0bbbc6",
   "metadata": {
    "ExecuteTime": {
     "end_time": "2023-01-24T11:55:54.622416Z",
     "start_time": "2023-01-24T11:55:54.606888Z"
    }
   },
   "outputs": [],
   "source": [
    "white_alive = df_white[df_white['Status'] == 'Alive']\n",
    "black_alive = df_black[df_black['Status'] == 'Alive']\n",
    "other_alive = df_other[df_other['Status'] == 'Alive']\n",
    "\n",
    "q_9_2 = white_alive, black_alive, other_alive"
   ]
  },
  {
   "cell_type": "code",
   "execution_count": 588,
   "id": "3b617752",
   "metadata": {
    "ExecuteTime": {
     "end_time": "2023-01-24T11:58:24.559915Z",
     "start_time": "2023-01-24T11:58:24.547167Z"
    }
   },
   "outputs": [
    {
     "name": "stdout",
     "output_type": "stream",
     "text": [
      "White women survive breast cancer after 76 months on average \n",
      "Black women survive breast cancer after 75 months on average \n",
      "Other women survive breast cancer after 76 months on average \n"
     ]
    }
   ],
   "source": [
    "for i in range(0,3):\n",
    "    print(f\"{liste_race[i]} women survive breast cancer after {round(q_9_2[i]['Survival Months'].mean())} months on average \")"
   ]
  },
  {
   "cell_type": "markdown",
   "id": "3e7a0446",
   "metadata": {},
   "source": [
    "### Under the age of 45"
   ]
  },
  {
   "cell_type": "code",
   "execution_count": 587,
   "id": "42a4c390",
   "metadata": {
    "ExecuteTime": {
     "end_time": "2023-01-24T11:58:20.819907Z",
     "start_time": "2023-01-24T11:58:20.802134Z"
    }
   },
   "outputs": [
    {
     "name": "stdout",
     "output_type": "stream",
     "text": [
      "White women under 45 survive breast cancer after 75 months on average\n",
      "Black women under 45 survive breast cancer after 77 months on average\n",
      "Other women under 45 survive breast cancer after 74 months on average\n"
     ]
    }
   ],
   "source": [
    "white_alive_u45 = df_white[(df_white['Status'] == 'Alive') & (df_white['Age'] < 45)]\n",
    "black_alive_u45 = df_black[(df_black['Status'] == 'Alive') & (df_black['Age'] < 45)]\n",
    "other_alive_u45 = df_other[(df_other['Status'] == 'Alive') & (df_other['Age'] < 45)]\n",
    "\n",
    "q_9_2_u45 = white_alive_u45, black_alive_u45, other_alive_u45\n",
    "    \n",
    "for i in range(0,3):\n",
    "    print(f\"{liste_race[i]} women under 45 survive breast cancer after {round(q_9_2_u45[i]['Survival Months'].mean())} months on average\")"
   ]
  },
  {
   "cell_type": "markdown",
   "id": "09637051",
   "metadata": {},
   "source": [
    "### Over the age of 45"
   ]
  },
  {
   "cell_type": "code",
   "execution_count": 593,
   "id": "4b13baf1",
   "metadata": {
    "ExecuteTime": {
     "end_time": "2023-01-24T12:00:37.148772Z",
     "start_time": "2023-01-24T12:00:37.128240Z"
    }
   },
   "outputs": [
    {
     "name": "stdout",
     "output_type": "stream",
     "text": [
      "White women over 45 survive breast cancer after 76 months on average\n",
      "Black women over 45 survive breast cancer after 75 months on average\n",
      "Other women over 45 survive breast cancer after 77 months on average\n"
     ]
    }
   ],
   "source": [
    "white_alive_o45 = df_white[(df_white['Status'] == 'Alive') & (df_white['Age'] > 45)]\n",
    "black_alive_o45 = df_black[(df_black['Status'] == 'Alive') & (df_black['Age'] > 45)]\n",
    "other_alive_o45 = df_other[(df_other['Status'] == 'Alive') & (df_other['Age'] > 45)]\n",
    "\n",
    "q_9_2_o45 = white_alive_o45, black_alive_o45, other_alive_o45\n",
    "    \n",
    "for i in range(0,3):\n",
    "    print(f\"{liste_race[i]} women over 45 survive breast cancer after {round(q_9_2_o45[i]['Survival Months'].mean())} months on average\")"
   ]
  },
  {
   "cell_type": "markdown",
   "id": "c8e733e0",
   "metadata": {},
   "source": [
    "# Other"
   ]
  },
  {
   "cell_type": "code",
   "execution_count": 598,
   "id": "511256b6",
   "metadata": {
    "ExecuteTime": {
     "end_time": "2023-01-24T18:25:23.402111Z",
     "start_time": "2023-01-24T18:25:23.374787Z"
    }
   },
   "outputs": [
    {
     "data": {
      "text/html": [
       "<div>\n",
       "<style scoped>\n",
       "    .dataframe tbody tr th:only-of-type {\n",
       "        vertical-align: middle;\n",
       "    }\n",
       "\n",
       "    .dataframe tbody tr th {\n",
       "        vertical-align: top;\n",
       "    }\n",
       "\n",
       "    .dataframe thead th {\n",
       "        text-align: right;\n",
       "    }\n",
       "</style>\n",
       "<table border=\"1\" class=\"dataframe\">\n",
       "  <thead>\n",
       "    <tr style=\"text-align: right;\">\n",
       "      <th></th>\n",
       "      <th>Age</th>\n",
       "      <th>Race</th>\n",
       "      <th>Marital Status</th>\n",
       "      <th>T Stage</th>\n",
       "      <th>N Stage</th>\n",
       "      <th>6th Stage</th>\n",
       "      <th>differentiate</th>\n",
       "      <th>Grade</th>\n",
       "      <th>A Stage</th>\n",
       "      <th>Tumor Size</th>\n",
       "      <th>Estrogen Status</th>\n",
       "      <th>Progesterone Status</th>\n",
       "      <th>Regional Node Examined</th>\n",
       "      <th>Reginol Node Positive</th>\n",
       "      <th>Survival Months</th>\n",
       "      <th>Status</th>\n",
       "    </tr>\n",
       "  </thead>\n",
       "  <tbody>\n",
       "    <tr>\n",
       "      <th>0</th>\n",
       "      <td>68</td>\n",
       "      <td>White</td>\n",
       "      <td>Married</td>\n",
       "      <td>T1</td>\n",
       "      <td>N1</td>\n",
       "      <td>IIA</td>\n",
       "      <td>Poorly differentiated</td>\n",
       "      <td>3</td>\n",
       "      <td>Regional</td>\n",
       "      <td>4</td>\n",
       "      <td>Positive</td>\n",
       "      <td>Positive</td>\n",
       "      <td>24</td>\n",
       "      <td>1</td>\n",
       "      <td>60</td>\n",
       "      <td>Alive</td>\n",
       "    </tr>\n",
       "    <tr>\n",
       "      <th>1</th>\n",
       "      <td>50</td>\n",
       "      <td>White</td>\n",
       "      <td>Married</td>\n",
       "      <td>T2</td>\n",
       "      <td>N2</td>\n",
       "      <td>IIIA</td>\n",
       "      <td>Moderately differentiated</td>\n",
       "      <td>2</td>\n",
       "      <td>Regional</td>\n",
       "      <td>35</td>\n",
       "      <td>Positive</td>\n",
       "      <td>Positive</td>\n",
       "      <td>14</td>\n",
       "      <td>5</td>\n",
       "      <td>62</td>\n",
       "      <td>Alive</td>\n",
       "    </tr>\n",
       "    <tr>\n",
       "      <th>2</th>\n",
       "      <td>58</td>\n",
       "      <td>White</td>\n",
       "      <td>Divorced</td>\n",
       "      <td>T3</td>\n",
       "      <td>N3</td>\n",
       "      <td>IIIC</td>\n",
       "      <td>Moderately differentiated</td>\n",
       "      <td>2</td>\n",
       "      <td>Regional</td>\n",
       "      <td>63</td>\n",
       "      <td>Positive</td>\n",
       "      <td>Positive</td>\n",
       "      <td>14</td>\n",
       "      <td>7</td>\n",
       "      <td>75</td>\n",
       "      <td>Alive</td>\n",
       "    </tr>\n",
       "    <tr>\n",
       "      <th>3</th>\n",
       "      <td>58</td>\n",
       "      <td>White</td>\n",
       "      <td>Married</td>\n",
       "      <td>T1</td>\n",
       "      <td>N1</td>\n",
       "      <td>IIA</td>\n",
       "      <td>Poorly differentiated</td>\n",
       "      <td>3</td>\n",
       "      <td>Regional</td>\n",
       "      <td>18</td>\n",
       "      <td>Positive</td>\n",
       "      <td>Positive</td>\n",
       "      <td>2</td>\n",
       "      <td>1</td>\n",
       "      <td>84</td>\n",
       "      <td>Alive</td>\n",
       "    </tr>\n",
       "    <tr>\n",
       "      <th>4</th>\n",
       "      <td>47</td>\n",
       "      <td>White</td>\n",
       "      <td>Married</td>\n",
       "      <td>T2</td>\n",
       "      <td>N1</td>\n",
       "      <td>IIB</td>\n",
       "      <td>Poorly differentiated</td>\n",
       "      <td>3</td>\n",
       "      <td>Regional</td>\n",
       "      <td>41</td>\n",
       "      <td>Positive</td>\n",
       "      <td>Positive</td>\n",
       "      <td>3</td>\n",
       "      <td>1</td>\n",
       "      <td>50</td>\n",
       "      <td>Alive</td>\n",
       "    </tr>\n",
       "    <tr>\n",
       "      <th>...</th>\n",
       "      <td>...</td>\n",
       "      <td>...</td>\n",
       "      <td>...</td>\n",
       "      <td>...</td>\n",
       "      <td>...</td>\n",
       "      <td>...</td>\n",
       "      <td>...</td>\n",
       "      <td>...</td>\n",
       "      <td>...</td>\n",
       "      <td>...</td>\n",
       "      <td>...</td>\n",
       "      <td>...</td>\n",
       "      <td>...</td>\n",
       "      <td>...</td>\n",
       "      <td>...</td>\n",
       "      <td>...</td>\n",
       "    </tr>\n",
       "    <tr>\n",
       "      <th>4019</th>\n",
       "      <td>62</td>\n",
       "      <td>Other</td>\n",
       "      <td>Married</td>\n",
       "      <td>T1</td>\n",
       "      <td>N1</td>\n",
       "      <td>IIA</td>\n",
       "      <td>Moderately differentiated</td>\n",
       "      <td>2</td>\n",
       "      <td>Regional</td>\n",
       "      <td>9</td>\n",
       "      <td>Positive</td>\n",
       "      <td>Positive</td>\n",
       "      <td>1</td>\n",
       "      <td>1</td>\n",
       "      <td>49</td>\n",
       "      <td>Alive</td>\n",
       "    </tr>\n",
       "    <tr>\n",
       "      <th>4020</th>\n",
       "      <td>56</td>\n",
       "      <td>White</td>\n",
       "      <td>Divorced</td>\n",
       "      <td>T2</td>\n",
       "      <td>N2</td>\n",
       "      <td>IIIA</td>\n",
       "      <td>Moderately differentiated</td>\n",
       "      <td>2</td>\n",
       "      <td>Regional</td>\n",
       "      <td>46</td>\n",
       "      <td>Positive</td>\n",
       "      <td>Positive</td>\n",
       "      <td>14</td>\n",
       "      <td>8</td>\n",
       "      <td>69</td>\n",
       "      <td>Alive</td>\n",
       "    </tr>\n",
       "    <tr>\n",
       "      <th>4021</th>\n",
       "      <td>68</td>\n",
       "      <td>White</td>\n",
       "      <td>Married</td>\n",
       "      <td>T2</td>\n",
       "      <td>N1</td>\n",
       "      <td>IIB</td>\n",
       "      <td>Moderately differentiated</td>\n",
       "      <td>2</td>\n",
       "      <td>Regional</td>\n",
       "      <td>22</td>\n",
       "      <td>Positive</td>\n",
       "      <td>Negative</td>\n",
       "      <td>11</td>\n",
       "      <td>3</td>\n",
       "      <td>69</td>\n",
       "      <td>Alive</td>\n",
       "    </tr>\n",
       "    <tr>\n",
       "      <th>4022</th>\n",
       "      <td>58</td>\n",
       "      <td>Black</td>\n",
       "      <td>Divorced</td>\n",
       "      <td>T2</td>\n",
       "      <td>N1</td>\n",
       "      <td>IIB</td>\n",
       "      <td>Moderately differentiated</td>\n",
       "      <td>2</td>\n",
       "      <td>Regional</td>\n",
       "      <td>44</td>\n",
       "      <td>Positive</td>\n",
       "      <td>Positive</td>\n",
       "      <td>11</td>\n",
       "      <td>1</td>\n",
       "      <td>72</td>\n",
       "      <td>Alive</td>\n",
       "    </tr>\n",
       "    <tr>\n",
       "      <th>4023</th>\n",
       "      <td>46</td>\n",
       "      <td>White</td>\n",
       "      <td>Married</td>\n",
       "      <td>T2</td>\n",
       "      <td>N1</td>\n",
       "      <td>IIB</td>\n",
       "      <td>Moderately differentiated</td>\n",
       "      <td>2</td>\n",
       "      <td>Regional</td>\n",
       "      <td>30</td>\n",
       "      <td>Positive</td>\n",
       "      <td>Positive</td>\n",
       "      <td>7</td>\n",
       "      <td>2</td>\n",
       "      <td>100</td>\n",
       "      <td>Alive</td>\n",
       "    </tr>\n",
       "  </tbody>\n",
       "</table>\n",
       "<p>4024 rows × 16 columns</p>\n",
       "</div>"
      ],
      "text/plain": [
       "      Age   Race Marital Status T Stage  N Stage 6th Stage  \\\n",
       "0      68  White        Married       T1      N1       IIA   \n",
       "1      50  White        Married       T2      N2      IIIA   \n",
       "2      58  White       Divorced       T3      N3      IIIC   \n",
       "3      58  White        Married       T1      N1       IIA   \n",
       "4      47  White        Married       T2      N1       IIB   \n",
       "...   ...    ...            ...      ...     ...       ...   \n",
       "4019   62  Other        Married       T1      N1       IIA   \n",
       "4020   56  White       Divorced       T2      N2      IIIA   \n",
       "4021   68  White        Married       T2      N1       IIB   \n",
       "4022   58  Black       Divorced       T2      N1       IIB   \n",
       "4023   46  White        Married       T2      N1       IIB   \n",
       "\n",
       "                  differentiate Grade   A Stage  Tumor Size Estrogen Status  \\\n",
       "0         Poorly differentiated     3  Regional           4        Positive   \n",
       "1     Moderately differentiated     2  Regional          35        Positive   \n",
       "2     Moderately differentiated     2  Regional          63        Positive   \n",
       "3         Poorly differentiated     3  Regional          18        Positive   \n",
       "4         Poorly differentiated     3  Regional          41        Positive   \n",
       "...                         ...   ...       ...         ...             ...   \n",
       "4019  Moderately differentiated     2  Regional           9        Positive   \n",
       "4020  Moderately differentiated     2  Regional          46        Positive   \n",
       "4021  Moderately differentiated     2  Regional          22        Positive   \n",
       "4022  Moderately differentiated     2  Regional          44        Positive   \n",
       "4023  Moderately differentiated     2  Regional          30        Positive   \n",
       "\n",
       "     Progesterone Status  Regional Node Examined  Reginol Node Positive  \\\n",
       "0               Positive                      24                      1   \n",
       "1               Positive                      14                      5   \n",
       "2               Positive                      14                      7   \n",
       "3               Positive                       2                      1   \n",
       "4               Positive                       3                      1   \n",
       "...                  ...                     ...                    ...   \n",
       "4019            Positive                       1                      1   \n",
       "4020            Positive                      14                      8   \n",
       "4021            Negative                      11                      3   \n",
       "4022            Positive                      11                      1   \n",
       "4023            Positive                       7                      2   \n",
       "\n",
       "      Survival Months Status  \n",
       "0                  60  Alive  \n",
       "1                  62  Alive  \n",
       "2                  75  Alive  \n",
       "3                  84  Alive  \n",
       "4                  50  Alive  \n",
       "...               ...    ...  \n",
       "4019               49  Alive  \n",
       "4020               69  Alive  \n",
       "4021               69  Alive  \n",
       "4022               72  Alive  \n",
       "4023              100  Alive  \n",
       "\n",
       "[4024 rows x 16 columns]"
      ]
     },
     "execution_count": 598,
     "metadata": {},
     "output_type": "execute_result"
    }
   ],
   "source": [
    "df"
   ]
  },
  {
   "cell_type": "code",
   "execution_count": 599,
   "id": "8f6865e2",
   "metadata": {
    "ExecuteTime": {
     "end_time": "2023-01-24T18:34:41.196246Z",
     "start_time": "2023-01-24T18:34:41.183961Z"
    }
   },
   "outputs": [
    {
     "data": {
      "text/plain": [
       "array(['IIA', 'IIIA', 'IIIC', 'IIB', 'IIIB'], dtype=object)"
      ]
     },
     "execution_count": 599,
     "metadata": {},
     "output_type": "execute_result"
    }
   ],
   "source": [
    "df['6th Stage'].unique()"
   ]
  },
  {
   "cell_type": "code",
   "execution_count": 600,
   "id": "5b743159",
   "metadata": {
    "ExecuteTime": {
     "end_time": "2023-01-24T18:35:12.963861Z",
     "start_time": "2023-01-24T18:35:12.950578Z"
    }
   },
   "outputs": [
    {
     "data": {
      "text/plain": [
       "array(['3', '2', '1', ' anaplastic; Grade IV'], dtype=object)"
      ]
     },
     "execution_count": 600,
     "metadata": {},
     "output_type": "execute_result"
    }
   ],
   "source": [
    "df['Grade'].unique()"
   ]
  },
  {
   "cell_type": "code",
   "execution_count": 602,
   "id": "001bf455",
   "metadata": {
    "ExecuteTime": {
     "end_time": "2023-01-24T18:37:30.754534Z",
     "start_time": "2023-01-24T18:37:30.751666Z"
    }
   },
   "outputs": [
    {
     "data": {
      "text/plain": [
       "array(['Regional', 'Distant'], dtype=object)"
      ]
     },
     "execution_count": 602,
     "metadata": {},
     "output_type": "execute_result"
    }
   ],
   "source": [
    "df['A Stage'].unique()"
   ]
  },
  {
   "cell_type": "code",
   "execution_count": 601,
   "id": "8e3f0957",
   "metadata": {
    "ExecuteTime": {
     "end_time": "2023-01-24T18:35:53.956909Z",
     "start_time": "2023-01-24T18:35:53.931415Z"
    },
    "collapsed": true
   },
   "outputs": [
    {
     "data": {
      "text/html": [
       "<div>\n",
       "<style scoped>\n",
       "    .dataframe tbody tr th:only-of-type {\n",
       "        vertical-align: middle;\n",
       "    }\n",
       "\n",
       "    .dataframe tbody tr th {\n",
       "        vertical-align: top;\n",
       "    }\n",
       "\n",
       "    .dataframe thead th {\n",
       "        text-align: right;\n",
       "    }\n",
       "</style>\n",
       "<table border=\"1\" class=\"dataframe\">\n",
       "  <thead>\n",
       "    <tr style=\"text-align: right;\">\n",
       "      <th></th>\n",
       "      <th>Age</th>\n",
       "      <th>Race</th>\n",
       "      <th>Marital Status</th>\n",
       "      <th>T Stage</th>\n",
       "      <th>N Stage</th>\n",
       "      <th>6th Stage</th>\n",
       "      <th>differentiate</th>\n",
       "      <th>Grade</th>\n",
       "      <th>A Stage</th>\n",
       "      <th>Tumor Size</th>\n",
       "      <th>Estrogen Status</th>\n",
       "      <th>Progesterone Status</th>\n",
       "      <th>Regional Node Examined</th>\n",
       "      <th>Reginol Node Positive</th>\n",
       "      <th>Survival Months</th>\n",
       "      <th>Status</th>\n",
       "    </tr>\n",
       "  </thead>\n",
       "  <tbody>\n",
       "    <tr>\n",
       "      <th>277</th>\n",
       "      <td>52</td>\n",
       "      <td>Black</td>\n",
       "      <td>Single</td>\n",
       "      <td>T3</td>\n",
       "      <td>N3</td>\n",
       "      <td>IIIC</td>\n",
       "      <td>Undifferentiated</td>\n",
       "      <td>anaplastic; Grade IV</td>\n",
       "      <td>Regional</td>\n",
       "      <td>100</td>\n",
       "      <td>Positive</td>\n",
       "      <td>Positive</td>\n",
       "      <td>23</td>\n",
       "      <td>17</td>\n",
       "      <td>16</td>\n",
       "      <td>Dead</td>\n",
       "    </tr>\n",
       "    <tr>\n",
       "      <th>616</th>\n",
       "      <td>38</td>\n",
       "      <td>White</td>\n",
       "      <td>Married</td>\n",
       "      <td>T3</td>\n",
       "      <td>N1</td>\n",
       "      <td>IIIA</td>\n",
       "      <td>Undifferentiated</td>\n",
       "      <td>anaplastic; Grade IV</td>\n",
       "      <td>Regional</td>\n",
       "      <td>70</td>\n",
       "      <td>Positive</td>\n",
       "      <td>Positive</td>\n",
       "      <td>10</td>\n",
       "      <td>1</td>\n",
       "      <td>102</td>\n",
       "      <td>Alive</td>\n",
       "    </tr>\n",
       "    <tr>\n",
       "      <th>618</th>\n",
       "      <td>37</td>\n",
       "      <td>Black</td>\n",
       "      <td>Married</td>\n",
       "      <td>T3</td>\n",
       "      <td>N1</td>\n",
       "      <td>IIIA</td>\n",
       "      <td>Undifferentiated</td>\n",
       "      <td>anaplastic; Grade IV</td>\n",
       "      <td>Regional</td>\n",
       "      <td>60</td>\n",
       "      <td>Positive</td>\n",
       "      <td>Positive</td>\n",
       "      <td>5</td>\n",
       "      <td>2</td>\n",
       "      <td>97</td>\n",
       "      <td>Alive</td>\n",
       "    </tr>\n",
       "    <tr>\n",
       "      <th>767</th>\n",
       "      <td>69</td>\n",
       "      <td>White</td>\n",
       "      <td>Married</td>\n",
       "      <td>T1</td>\n",
       "      <td>N1</td>\n",
       "      <td>IIA</td>\n",
       "      <td>Undifferentiated</td>\n",
       "      <td>anaplastic; Grade IV</td>\n",
       "      <td>Regional</td>\n",
       "      <td>20</td>\n",
       "      <td>Positive</td>\n",
       "      <td>Positive</td>\n",
       "      <td>17</td>\n",
       "      <td>3</td>\n",
       "      <td>85</td>\n",
       "      <td>Alive</td>\n",
       "    </tr>\n",
       "    <tr>\n",
       "      <th>1013</th>\n",
       "      <td>59</td>\n",
       "      <td>White</td>\n",
       "      <td>Single</td>\n",
       "      <td>T2</td>\n",
       "      <td>N2</td>\n",
       "      <td>IIIA</td>\n",
       "      <td>Undifferentiated</td>\n",
       "      <td>anaplastic; Grade IV</td>\n",
       "      <td>Regional</td>\n",
       "      <td>40</td>\n",
       "      <td>Negative</td>\n",
       "      <td>Negative</td>\n",
       "      <td>10</td>\n",
       "      <td>9</td>\n",
       "      <td>33</td>\n",
       "      <td>Dead</td>\n",
       "    </tr>\n",
       "    <tr>\n",
       "      <th>1061</th>\n",
       "      <td>67</td>\n",
       "      <td>White</td>\n",
       "      <td>Married</td>\n",
       "      <td>T2</td>\n",
       "      <td>N3</td>\n",
       "      <td>IIIC</td>\n",
       "      <td>Undifferentiated</td>\n",
       "      <td>anaplastic; Grade IV</td>\n",
       "      <td>Regional</td>\n",
       "      <td>21</td>\n",
       "      <td>Positive</td>\n",
       "      <td>Positive</td>\n",
       "      <td>25</td>\n",
       "      <td>17</td>\n",
       "      <td>75</td>\n",
       "      <td>Alive</td>\n",
       "    </tr>\n",
       "    <tr>\n",
       "      <th>1458</th>\n",
       "      <td>39</td>\n",
       "      <td>White</td>\n",
       "      <td>Single</td>\n",
       "      <td>T3</td>\n",
       "      <td>N2</td>\n",
       "      <td>IIIA</td>\n",
       "      <td>Undifferentiated</td>\n",
       "      <td>anaplastic; Grade IV</td>\n",
       "      <td>Regional</td>\n",
       "      <td>70</td>\n",
       "      <td>Positive</td>\n",
       "      <td>Positive</td>\n",
       "      <td>14</td>\n",
       "      <td>4</td>\n",
       "      <td>79</td>\n",
       "      <td>Dead</td>\n",
       "    </tr>\n",
       "    <tr>\n",
       "      <th>1541</th>\n",
       "      <td>69</td>\n",
       "      <td>White</td>\n",
       "      <td>Widowed</td>\n",
       "      <td>T2</td>\n",
       "      <td>N3</td>\n",
       "      <td>IIIC</td>\n",
       "      <td>Undifferentiated</td>\n",
       "      <td>anaplastic; Grade IV</td>\n",
       "      <td>Regional</td>\n",
       "      <td>28</td>\n",
       "      <td>Positive</td>\n",
       "      <td>Positive</td>\n",
       "      <td>14</td>\n",
       "      <td>13</td>\n",
       "      <td>13</td>\n",
       "      <td>Dead</td>\n",
       "    </tr>\n",
       "    <tr>\n",
       "      <th>1560</th>\n",
       "      <td>58</td>\n",
       "      <td>White</td>\n",
       "      <td>Single</td>\n",
       "      <td>T1</td>\n",
       "      <td>N2</td>\n",
       "      <td>IIIA</td>\n",
       "      <td>Undifferentiated</td>\n",
       "      <td>anaplastic; Grade IV</td>\n",
       "      <td>Regional</td>\n",
       "      <td>19</td>\n",
       "      <td>Negative</td>\n",
       "      <td>Negative</td>\n",
       "      <td>47</td>\n",
       "      <td>7</td>\n",
       "      <td>9</td>\n",
       "      <td>Dead</td>\n",
       "    </tr>\n",
       "    <tr>\n",
       "      <th>1716</th>\n",
       "      <td>43</td>\n",
       "      <td>White</td>\n",
       "      <td>Married</td>\n",
       "      <td>T3</td>\n",
       "      <td>N2</td>\n",
       "      <td>IIIA</td>\n",
       "      <td>Undifferentiated</td>\n",
       "      <td>anaplastic; Grade IV</td>\n",
       "      <td>Regional</td>\n",
       "      <td>75</td>\n",
       "      <td>Negative</td>\n",
       "      <td>Negative</td>\n",
       "      <td>10</td>\n",
       "      <td>5</td>\n",
       "      <td>59</td>\n",
       "      <td>Dead</td>\n",
       "    </tr>\n",
       "    <tr>\n",
       "      <th>2172</th>\n",
       "      <td>62</td>\n",
       "      <td>Black</td>\n",
       "      <td>Separated</td>\n",
       "      <td>T4</td>\n",
       "      <td>N3</td>\n",
       "      <td>IIIC</td>\n",
       "      <td>Undifferentiated</td>\n",
       "      <td>anaplastic; Grade IV</td>\n",
       "      <td>Regional</td>\n",
       "      <td>70</td>\n",
       "      <td>Positive</td>\n",
       "      <td>Positive</td>\n",
       "      <td>10</td>\n",
       "      <td>10</td>\n",
       "      <td>34</td>\n",
       "      <td>Dead</td>\n",
       "    </tr>\n",
       "    <tr>\n",
       "      <th>2177</th>\n",
       "      <td>63</td>\n",
       "      <td>White</td>\n",
       "      <td>Married</td>\n",
       "      <td>T2</td>\n",
       "      <td>N1</td>\n",
       "      <td>IIB</td>\n",
       "      <td>Undifferentiated</td>\n",
       "      <td>anaplastic; Grade IV</td>\n",
       "      <td>Regional</td>\n",
       "      <td>25</td>\n",
       "      <td>Negative</td>\n",
       "      <td>Positive</td>\n",
       "      <td>10</td>\n",
       "      <td>2</td>\n",
       "      <td>27</td>\n",
       "      <td>Dead</td>\n",
       "    </tr>\n",
       "    <tr>\n",
       "      <th>2246</th>\n",
       "      <td>50</td>\n",
       "      <td>White</td>\n",
       "      <td>Married</td>\n",
       "      <td>T3</td>\n",
       "      <td>N1</td>\n",
       "      <td>IIIA</td>\n",
       "      <td>Undifferentiated</td>\n",
       "      <td>anaplastic; Grade IV</td>\n",
       "      <td>Regional</td>\n",
       "      <td>55</td>\n",
       "      <td>Positive</td>\n",
       "      <td>Positive</td>\n",
       "      <td>12</td>\n",
       "      <td>1</td>\n",
       "      <td>89</td>\n",
       "      <td>Alive</td>\n",
       "    </tr>\n",
       "    <tr>\n",
       "      <th>2411</th>\n",
       "      <td>57</td>\n",
       "      <td>White</td>\n",
       "      <td>Married</td>\n",
       "      <td>T1</td>\n",
       "      <td>N1</td>\n",
       "      <td>IIA</td>\n",
       "      <td>Undifferentiated</td>\n",
       "      <td>anaplastic; Grade IV</td>\n",
       "      <td>Regional</td>\n",
       "      <td>18</td>\n",
       "      <td>Positive</td>\n",
       "      <td>Positive</td>\n",
       "      <td>5</td>\n",
       "      <td>1</td>\n",
       "      <td>98</td>\n",
       "      <td>Alive</td>\n",
       "    </tr>\n",
       "    <tr>\n",
       "      <th>2717</th>\n",
       "      <td>40</td>\n",
       "      <td>White</td>\n",
       "      <td>Single</td>\n",
       "      <td>T3</td>\n",
       "      <td>N1</td>\n",
       "      <td>IIIA</td>\n",
       "      <td>Undifferentiated</td>\n",
       "      <td>anaplastic; Grade IV</td>\n",
       "      <td>Regional</td>\n",
       "      <td>52</td>\n",
       "      <td>Positive</td>\n",
       "      <td>Positive</td>\n",
       "      <td>11</td>\n",
       "      <td>9</td>\n",
       "      <td>88</td>\n",
       "      <td>Alive</td>\n",
       "    </tr>\n",
       "    <tr>\n",
       "      <th>3073</th>\n",
       "      <td>43</td>\n",
       "      <td>White</td>\n",
       "      <td>Married</td>\n",
       "      <td>T4</td>\n",
       "      <td>N3</td>\n",
       "      <td>IIIC</td>\n",
       "      <td>Undifferentiated</td>\n",
       "      <td>anaplastic; Grade IV</td>\n",
       "      <td>Regional</td>\n",
       "      <td>59</td>\n",
       "      <td>Negative</td>\n",
       "      <td>Positive</td>\n",
       "      <td>16</td>\n",
       "      <td>10</td>\n",
       "      <td>55</td>\n",
       "      <td>Alive</td>\n",
       "    </tr>\n",
       "    <tr>\n",
       "      <th>3212</th>\n",
       "      <td>54</td>\n",
       "      <td>White</td>\n",
       "      <td>Divorced</td>\n",
       "      <td>T1</td>\n",
       "      <td>N1</td>\n",
       "      <td>IIA</td>\n",
       "      <td>Undifferentiated</td>\n",
       "      <td>anaplastic; Grade IV</td>\n",
       "      <td>Regional</td>\n",
       "      <td>16</td>\n",
       "      <td>Positive</td>\n",
       "      <td>Negative</td>\n",
       "      <td>19</td>\n",
       "      <td>2</td>\n",
       "      <td>101</td>\n",
       "      <td>Alive</td>\n",
       "    </tr>\n",
       "    <tr>\n",
       "      <th>3248</th>\n",
       "      <td>45</td>\n",
       "      <td>White</td>\n",
       "      <td>Married</td>\n",
       "      <td>T1</td>\n",
       "      <td>N1</td>\n",
       "      <td>IIA</td>\n",
       "      <td>Undifferentiated</td>\n",
       "      <td>anaplastic; Grade IV</td>\n",
       "      <td>Regional</td>\n",
       "      <td>13</td>\n",
       "      <td>Positive</td>\n",
       "      <td>Positive</td>\n",
       "      <td>5</td>\n",
       "      <td>1</td>\n",
       "      <td>93</td>\n",
       "      <td>Alive</td>\n",
       "    </tr>\n",
       "    <tr>\n",
       "      <th>3526</th>\n",
       "      <td>49</td>\n",
       "      <td>White</td>\n",
       "      <td>Married</td>\n",
       "      <td>T2</td>\n",
       "      <td>N1</td>\n",
       "      <td>IIB</td>\n",
       "      <td>Undifferentiated</td>\n",
       "      <td>anaplastic; Grade IV</td>\n",
       "      <td>Regional</td>\n",
       "      <td>28</td>\n",
       "      <td>Positive</td>\n",
       "      <td>Positive</td>\n",
       "      <td>12</td>\n",
       "      <td>3</td>\n",
       "      <td>71</td>\n",
       "      <td>Dead</td>\n",
       "    </tr>\n",
       "  </tbody>\n",
       "</table>\n",
       "</div>"
      ],
      "text/plain": [
       "      Age   Race Marital Status T Stage  N Stage 6th Stage     differentiate  \\\n",
       "277    52  Black        Single        T3      N3      IIIC  Undifferentiated   \n",
       "616    38  White        Married       T3      N1      IIIA  Undifferentiated   \n",
       "618    37  Black        Married       T3      N1      IIIA  Undifferentiated   \n",
       "767    69  White        Married       T1      N1       IIA  Undifferentiated   \n",
       "1013   59  White        Single        T2      N2      IIIA  Undifferentiated   \n",
       "1061   67  White        Married       T2      N3      IIIC  Undifferentiated   \n",
       "1458   39  White        Single        T3      N2      IIIA  Undifferentiated   \n",
       "1541   69  White        Widowed       T2      N3      IIIC  Undifferentiated   \n",
       "1560   58  White        Single        T1      N2      IIIA  Undifferentiated   \n",
       "1716   43  White        Married       T3      N2      IIIA  Undifferentiated   \n",
       "2172   62  Black      Separated       T4      N3      IIIC  Undifferentiated   \n",
       "2177   63  White        Married       T2      N1       IIB  Undifferentiated   \n",
       "2246   50  White        Married       T3      N1      IIIA  Undifferentiated   \n",
       "2411   57  White        Married       T1      N1       IIA  Undifferentiated   \n",
       "2717   40  White        Single        T3      N1      IIIA  Undifferentiated   \n",
       "3073   43  White        Married       T4      N3      IIIC  Undifferentiated   \n",
       "3212   54  White       Divorced       T1      N1       IIA  Undifferentiated   \n",
       "3248   45  White        Married       T1      N1       IIA  Undifferentiated   \n",
       "3526   49  White        Married       T2      N1       IIB  Undifferentiated   \n",
       "\n",
       "                      Grade   A Stage  Tumor Size Estrogen Status  \\\n",
       "277    anaplastic; Grade IV  Regional         100        Positive   \n",
       "616    anaplastic; Grade IV  Regional          70        Positive   \n",
       "618    anaplastic; Grade IV  Regional          60        Positive   \n",
       "767    anaplastic; Grade IV  Regional          20        Positive   \n",
       "1013   anaplastic; Grade IV  Regional          40        Negative   \n",
       "1061   anaplastic; Grade IV  Regional          21        Positive   \n",
       "1458   anaplastic; Grade IV  Regional          70        Positive   \n",
       "1541   anaplastic; Grade IV  Regional          28        Positive   \n",
       "1560   anaplastic; Grade IV  Regional          19        Negative   \n",
       "1716   anaplastic; Grade IV  Regional          75        Negative   \n",
       "2172   anaplastic; Grade IV  Regional          70        Positive   \n",
       "2177   anaplastic; Grade IV  Regional          25        Negative   \n",
       "2246   anaplastic; Grade IV  Regional          55        Positive   \n",
       "2411   anaplastic; Grade IV  Regional          18        Positive   \n",
       "2717   anaplastic; Grade IV  Regional          52        Positive   \n",
       "3073   anaplastic; Grade IV  Regional          59        Negative   \n",
       "3212   anaplastic; Grade IV  Regional          16        Positive   \n",
       "3248   anaplastic; Grade IV  Regional          13        Positive   \n",
       "3526   anaplastic; Grade IV  Regional          28        Positive   \n",
       "\n",
       "     Progesterone Status  Regional Node Examined  Reginol Node Positive  \\\n",
       "277             Positive                      23                     17   \n",
       "616             Positive                      10                      1   \n",
       "618             Positive                       5                      2   \n",
       "767             Positive                      17                      3   \n",
       "1013            Negative                      10                      9   \n",
       "1061            Positive                      25                     17   \n",
       "1458            Positive                      14                      4   \n",
       "1541            Positive                      14                     13   \n",
       "1560            Negative                      47                      7   \n",
       "1716            Negative                      10                      5   \n",
       "2172            Positive                      10                     10   \n",
       "2177            Positive                      10                      2   \n",
       "2246            Positive                      12                      1   \n",
       "2411            Positive                       5                      1   \n",
       "2717            Positive                      11                      9   \n",
       "3073            Positive                      16                     10   \n",
       "3212            Negative                      19                      2   \n",
       "3248            Positive                       5                      1   \n",
       "3526            Positive                      12                      3   \n",
       "\n",
       "      Survival Months Status  \n",
       "277                16   Dead  \n",
       "616               102  Alive  \n",
       "618                97  Alive  \n",
       "767                85  Alive  \n",
       "1013               33   Dead  \n",
       "1061               75  Alive  \n",
       "1458               79   Dead  \n",
       "1541               13   Dead  \n",
       "1560                9   Dead  \n",
       "1716               59   Dead  \n",
       "2172               34   Dead  \n",
       "2177               27   Dead  \n",
       "2246               89  Alive  \n",
       "2411               98  Alive  \n",
       "2717               88  Alive  \n",
       "3073               55  Alive  \n",
       "3212              101  Alive  \n",
       "3248               93  Alive  \n",
       "3526               71   Dead  "
      ]
     },
     "execution_count": 601,
     "metadata": {},
     "output_type": "execute_result"
    }
   ],
   "source": [
    "df[df['Grade'] == ' anaplastic; Grade IV']"
   ]
  },
  {
   "cell_type": "code",
   "execution_count": 615,
   "id": "0ee77743",
   "metadata": {
    "ExecuteTime": {
     "end_time": "2023-01-24T19:05:05.136896Z",
     "start_time": "2023-01-24T19:05:05.124271Z"
    }
   },
   "outputs": [
    {
     "data": {
      "text/plain": [
       "40"
      ]
     },
     "execution_count": 615,
     "metadata": {},
     "output_type": "execute_result"
    }
   ],
   "source": [
    "len(df[(df['T Stage '] == 'T4') & (df['Status'] == 'Dead')])"
   ]
  }
 ],
 "metadata": {
  "kernelspec": {
   "display_name": "Python 3 (ipykernel)",
   "language": "python",
   "name": "python3"
  },
  "language_info": {
   "codemirror_mode": {
    "name": "ipython",
    "version": 3
   },
   "file_extension": ".py",
   "mimetype": "text/x-python",
   "name": "python",
   "nbconvert_exporter": "python",
   "pygments_lexer": "ipython3",
   "version": "3.9.7"
  },
  "toc": {
   "base_numbering": 1,
   "nav_menu": {},
   "number_sections": true,
   "sideBar": true,
   "skip_h1_title": false,
   "title_cell": "Table of Contents",
   "title_sidebar": "Contents",
   "toc_cell": false,
   "toc_position": {},
   "toc_section_display": true,
   "toc_window_display": false
  }
 },
 "nbformat": 4,
 "nbformat_minor": 5
}
